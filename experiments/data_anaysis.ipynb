{
 "cells": [
  {
   "cell_type": "code",
   "execution_count": 1,
   "id": "8b93fbc3",
   "metadata": {},
   "outputs": [],
   "source": [
    "import pandas as pd\n",
    "import numpy as np\n",
    "import seaborn as sns\n",
    "from matplotlib import pyplot as plt\n",
    "import os\n",
    "import json\n",
    "from pandas.io.json import json_normalize\n",
    "import warnings\n",
    "warnings.filterwarnings('ignore')\n"
   ]
  },
  {
   "cell_type": "code",
   "execution_count": 2,
   "id": "88b00bef",
   "metadata": {
    "scrolled": false
   },
   "outputs": [
    {
     "data": {
      "text/html": [
       "<div>\n",
       "<style scoped>\n",
       "    .dataframe tbody tr th:only-of-type {\n",
       "        vertical-align: middle;\n",
       "    }\n",
       "\n",
       "    .dataframe tbody tr th {\n",
       "        vertical-align: top;\n",
       "    }\n",
       "\n",
       "    .dataframe thead th {\n",
       "        text-align: right;\n",
       "    }\n",
       "</style>\n",
       "<table border=\"1\" class=\"dataframe\">\n",
       "  <thead>\n",
       "    <tr style=\"text-align: right;\">\n",
       "      <th></th>\n",
       "      <th>gui_type</th>\n",
       "      <th>created_at</th>\n",
       "      <th>workpackage_total_size</th>\n",
       "      <th>loss</th>\n",
       "      <th>project_node_input_id</th>\n",
       "      <th>project_node_output_id</th>\n",
       "      <th>project_root_node_input_id</th>\n",
       "      <th>task_input.image_url</th>\n",
       "      <th>task_output.answer</th>\n",
       "      <th>task_output.cant_solve</th>\n",
       "      <th>task_output.corrupt_data</th>\n",
       "      <th>task_output.duration_ms</th>\n",
       "      <th>user.vendor_id</th>\n",
       "      <th>user.id</th>\n",
       "      <th>user.vendor_user_id</th>\n",
       "      <th>root_input.image_url</th>\n",
       "    </tr>\n",
       "  </thead>\n",
       "  <tbody>\n",
       "    <tr>\n",
       "      <th>0</th>\n",
       "      <td>discrete_answer</td>\n",
       "      <td>2021-02-25T14:08:11.319438+00:00</td>\n",
       "      <td>5</td>\n",
       "      <td>0.0</td>\n",
       "      <td>7e8984b6-dff7-4015-865a-b721a2faf681</td>\n",
       "      <td>0000439a-96ac-4bd4-8753-a4baa229ecf2</td>\n",
       "      <td>7e8984b6-dff7-4015-865a-b721a2faf681</td>\n",
       "      <td>https://qm-auto-annotator.s3.eu-central-1.amaz...</td>\n",
       "      <td>no</td>\n",
       "      <td>False</td>\n",
       "      <td>False</td>\n",
       "      <td>997</td>\n",
       "      <td>vendor_01</td>\n",
       "      <td>08af8775-a72c-4c59-b60f-9ce7df04fa92</td>\n",
       "      <td>annotator_12</td>\n",
       "      <td>https://qm-auto-annotator.s3.eu-central-1.amaz...</td>\n",
       "    </tr>\n",
       "    <tr>\n",
       "      <th>10</th>\n",
       "      <td>discrete_answer</td>\n",
       "      <td>2021-02-25T13:53:31.698130+00:00</td>\n",
       "      <td>5</td>\n",
       "      <td>0.0</td>\n",
       "      <td>9d8a2527-accb-40bd-90d8-a73f20a609be</td>\n",
       "      <td>0000de80-97c8-40f4-aee1-f30377174381</td>\n",
       "      <td>9d8a2527-accb-40bd-90d8-a73f20a609be</td>\n",
       "      <td>https://qm-auto-annotator.s3.eu-central-1.amaz...</td>\n",
       "      <td>yes</td>\n",
       "      <td>False</td>\n",
       "      <td>False</td>\n",
       "      <td>1044</td>\n",
       "      <td>vendor_01</td>\n",
       "      <td>62f1cf90-71c9-45c5-990c-f9dc0aa6ea3d</td>\n",
       "      <td>annotator_11</td>\n",
       "      <td>https://qm-auto-annotator.s3.eu-central-1.amaz...</td>\n",
       "    </tr>\n",
       "    <tr>\n",
       "      <th>20</th>\n",
       "      <td>discrete_answer</td>\n",
       "      <td>2021-02-25T13:35:02.076869+00:00</td>\n",
       "      <td>5</td>\n",
       "      <td>0.0</td>\n",
       "      <td>0625d00c-96c3-41ad-9324-37037ffd0325</td>\n",
       "      <td>00023262-3608-4678-8d3f-142e6758fadb</td>\n",
       "      <td>0625d00c-96c3-41ad-9324-37037ffd0325</td>\n",
       "      <td>https://qm-auto-annotator.s3.eu-central-1.amaz...</td>\n",
       "      <td>no</td>\n",
       "      <td>False</td>\n",
       "      <td>False</td>\n",
       "      <td>848</td>\n",
       "      <td>vendor_01</td>\n",
       "      <td>e336139c-5228-42cd-b501-81855532dfa6</td>\n",
       "      <td>annotator_05</td>\n",
       "      <td>https://qm-auto-annotator.s3.eu-central-1.amaz...</td>\n",
       "    </tr>\n",
       "    <tr>\n",
       "      <th>30</th>\n",
       "      <td>discrete_answer</td>\n",
       "      <td>2021-02-26T03:53:40.752056+00:00</td>\n",
       "      <td>5</td>\n",
       "      <td>0.0</td>\n",
       "      <td>a7c5595d-0ee0-4dea-bf6b-7ee3fb42d0e7</td>\n",
       "      <td>00036ee9-f7da-4753-9607-7df7b57d4623</td>\n",
       "      <td>a7c5595d-0ee0-4dea-bf6b-7ee3fb42d0e7</td>\n",
       "      <td>https://qm-auto-annotator.s3.eu-central-1.amaz...</td>\n",
       "      <td>no</td>\n",
       "      <td>False</td>\n",
       "      <td>False</td>\n",
       "      <td>1077</td>\n",
       "      <td>vendor_01</td>\n",
       "      <td>5765cc32-9e32-43e1-bd78-384cfd52d55a</td>\n",
       "      <td>annotator_06</td>\n",
       "      <td>https://qm-auto-annotator.s3.eu-central-1.amaz...</td>\n",
       "    </tr>\n",
       "    <tr>\n",
       "      <th>40</th>\n",
       "      <td>discrete_answer</td>\n",
       "      <td>2021-02-25T10:19:19.501386+00:00</td>\n",
       "      <td>5</td>\n",
       "      <td>0.0</td>\n",
       "      <td>363aaded-07f3-41b1-8c84-4bae83406757</td>\n",
       "      <td>000468b7-a24c-435c-b506-9db1bf3c700d</td>\n",
       "      <td>363aaded-07f3-41b1-8c84-4bae83406757</td>\n",
       "      <td>https://qm-auto-annotator.s3.eu-central-1.amaz...</td>\n",
       "      <td>yes</td>\n",
       "      <td>False</td>\n",
       "      <td>False</td>\n",
       "      <td>1742</td>\n",
       "      <td>vendor_01</td>\n",
       "      <td>0e606b41-ebe4-4d7d-996c-db910c84971a</td>\n",
       "      <td>annotator_20</td>\n",
       "      <td>https://qm-auto-annotator.s3.eu-central-1.amaz...</td>\n",
       "    </tr>\n",
       "    <tr>\n",
       "      <th>...</th>\n",
       "      <td>...</td>\n",
       "      <td>...</td>\n",
       "      <td>...</td>\n",
       "      <td>...</td>\n",
       "      <td>...</td>\n",
       "      <td>...</td>\n",
       "      <td>...</td>\n",
       "      <td>...</td>\n",
       "      <td>...</td>\n",
       "      <td>...</td>\n",
       "      <td>...</td>\n",
       "      <td>...</td>\n",
       "      <td>...</td>\n",
       "      <td>...</td>\n",
       "      <td>...</td>\n",
       "      <td>...</td>\n",
       "    </tr>\n",
       "    <tr>\n",
       "      <th>90820</th>\n",
       "      <td>discrete_answer</td>\n",
       "      <td>2021-02-26T04:06:28.213617+00:00</td>\n",
       "      <td>5</td>\n",
       "      <td>0.0</td>\n",
       "      <td>0ea47243-a5ba-4bea-a61e-632ca41ab503</td>\n",
       "      <td>8c3b0939-0ea0-4326-b32c-525e026f74d4</td>\n",
       "      <td>0ea47243-a5ba-4bea-a61e-632ca41ab503</td>\n",
       "      <td>https://qm-auto-annotator.s3.eu-central-1.amaz...</td>\n",
       "      <td>yes</td>\n",
       "      <td>False</td>\n",
       "      <td>False</td>\n",
       "      <td>918</td>\n",
       "      <td>vendor_01</td>\n",
       "      <td>32971d11-e972-4d73-99a6-0847e1261995</td>\n",
       "      <td>annotator_18</td>\n",
       "      <td>https://qm-auto-annotator.s3.eu-central-1.amaz...</td>\n",
       "    </tr>\n",
       "    <tr>\n",
       "      <th>90830</th>\n",
       "      <td>discrete_answer</td>\n",
       "      <td>2021-02-25T12:50:45.388598+00:00</td>\n",
       "      <td>5</td>\n",
       "      <td>0.0</td>\n",
       "      <td>9ac9d365-9dd7-44fc-9e3e-5772110bb217</td>\n",
       "      <td>8df11808-4d11-49b7-97ff-3a61f618f45c</td>\n",
       "      <td>9ac9d365-9dd7-44fc-9e3e-5772110bb217</td>\n",
       "      <td>https://qm-auto-annotator.s3.eu-central-1.amaz...</td>\n",
       "      <td>yes</td>\n",
       "      <td>False</td>\n",
       "      <td>False</td>\n",
       "      <td>1415</td>\n",
       "      <td>vendor_01</td>\n",
       "      <td>6d8be901-c6a6-43f8-a5ac-8e44b924bd84</td>\n",
       "      <td>annotator_09</td>\n",
       "      <td>https://qm-auto-annotator.s3.eu-central-1.amaz...</td>\n",
       "    </tr>\n",
       "    <tr>\n",
       "      <th>90840</th>\n",
       "      <td>discrete_answer</td>\n",
       "      <td>2021-02-25T15:10:56.190173+00:00</td>\n",
       "      <td>5</td>\n",
       "      <td>0.0</td>\n",
       "      <td>bf4f4d43-de3b-46ef-8ed4-4d04d4641187</td>\n",
       "      <td>92ccde6e-1302-40e1-9f82-454179b7f1ae</td>\n",
       "      <td>bf4f4d43-de3b-46ef-8ed4-4d04d4641187</td>\n",
       "      <td>https://qm-auto-annotator.s3.eu-central-1.amaz...</td>\n",
       "      <td>yes</td>\n",
       "      <td>False</td>\n",
       "      <td>False</td>\n",
       "      <td>1047</td>\n",
       "      <td>vendor_01</td>\n",
       "      <td>37a6036c-a9ef-4fcb-b554-7058f00415db</td>\n",
       "      <td>annotator_02</td>\n",
       "      <td>https://qm-auto-annotator.s3.eu-central-1.amaz...</td>\n",
       "    </tr>\n",
       "    <tr>\n",
       "      <th>90850</th>\n",
       "      <td>discrete_answer</td>\n",
       "      <td>2021-02-25T14:42:36.468576+00:00</td>\n",
       "      <td>5</td>\n",
       "      <td>0.0</td>\n",
       "      <td>cfa36c30-31ab-4647-bbc0-7e505db482ac</td>\n",
       "      <td>93799099-e674-43c3-a3e8-d8b872aad0eb</td>\n",
       "      <td>cfa36c30-31ab-4647-bbc0-7e505db482ac</td>\n",
       "      <td>https://qm-auto-annotator.s3.eu-central-1.amaz...</td>\n",
       "      <td>no</td>\n",
       "      <td>False</td>\n",
       "      <td>False</td>\n",
       "      <td>911</td>\n",
       "      <td>vendor_01</td>\n",
       "      <td>6d8be901-c6a6-43f8-a5ac-8e44b924bd84</td>\n",
       "      <td>annotator_09</td>\n",
       "      <td>https://qm-auto-annotator.s3.eu-central-1.amaz...</td>\n",
       "    </tr>\n",
       "    <tr>\n",
       "      <th>90860</th>\n",
       "      <td>discrete_answer</td>\n",
       "      <td>2021-02-26T03:50:31.899478+00:00</td>\n",
       "      <td>5</td>\n",
       "      <td>0.0</td>\n",
       "      <td>3db139c1-7fec-44b3-b770-a790bfcff241</td>\n",
       "      <td>98663a9a-dfa3-4c80-9d8a-9fc255bdf51e</td>\n",
       "      <td>3db139c1-7fec-44b3-b770-a790bfcff241</td>\n",
       "      <td>https://qm-auto-annotator.s3.eu-central-1.amaz...</td>\n",
       "      <td>yes</td>\n",
       "      <td>False</td>\n",
       "      <td>False</td>\n",
       "      <td>1467</td>\n",
       "      <td>vendor_01</td>\n",
       "      <td>94afdf79-917c-4904-bdaa-7a121f33b0ff</td>\n",
       "      <td>annotator_17</td>\n",
       "      <td>https://qm-auto-annotator.s3.eu-central-1.amaz...</td>\n",
       "    </tr>\n",
       "  </tbody>\n",
       "</table>\n",
       "<p>9087 rows × 16 columns</p>\n",
       "</div>"
      ],
      "text/plain": [
       "              gui_type                        created_at  \\\n",
       "0      discrete_answer  2021-02-25T14:08:11.319438+00:00   \n",
       "10     discrete_answer  2021-02-25T13:53:31.698130+00:00   \n",
       "20     discrete_answer  2021-02-25T13:35:02.076869+00:00   \n",
       "30     discrete_answer  2021-02-26T03:53:40.752056+00:00   \n",
       "40     discrete_answer  2021-02-25T10:19:19.501386+00:00   \n",
       "...                ...                               ...   \n",
       "90820  discrete_answer  2021-02-26T04:06:28.213617+00:00   \n",
       "90830  discrete_answer  2021-02-25T12:50:45.388598+00:00   \n",
       "90840  discrete_answer  2021-02-25T15:10:56.190173+00:00   \n",
       "90850  discrete_answer  2021-02-25T14:42:36.468576+00:00   \n",
       "90860  discrete_answer  2021-02-26T03:50:31.899478+00:00   \n",
       "\n",
       "       workpackage_total_size  loss                 project_node_input_id  \\\n",
       "0                           5   0.0  7e8984b6-dff7-4015-865a-b721a2faf681   \n",
       "10                          5   0.0  9d8a2527-accb-40bd-90d8-a73f20a609be   \n",
       "20                          5   0.0  0625d00c-96c3-41ad-9324-37037ffd0325   \n",
       "30                          5   0.0  a7c5595d-0ee0-4dea-bf6b-7ee3fb42d0e7   \n",
       "40                          5   0.0  363aaded-07f3-41b1-8c84-4bae83406757   \n",
       "...                       ...   ...                                   ...   \n",
       "90820                       5   0.0  0ea47243-a5ba-4bea-a61e-632ca41ab503   \n",
       "90830                       5   0.0  9ac9d365-9dd7-44fc-9e3e-5772110bb217   \n",
       "90840                       5   0.0  bf4f4d43-de3b-46ef-8ed4-4d04d4641187   \n",
       "90850                       5   0.0  cfa36c30-31ab-4647-bbc0-7e505db482ac   \n",
       "90860                       5   0.0  3db139c1-7fec-44b3-b770-a790bfcff241   \n",
       "\n",
       "                     project_node_output_id  \\\n",
       "0      0000439a-96ac-4bd4-8753-a4baa229ecf2   \n",
       "10     0000de80-97c8-40f4-aee1-f30377174381   \n",
       "20     00023262-3608-4678-8d3f-142e6758fadb   \n",
       "30     00036ee9-f7da-4753-9607-7df7b57d4623   \n",
       "40     000468b7-a24c-435c-b506-9db1bf3c700d   \n",
       "...                                     ...   \n",
       "90820  8c3b0939-0ea0-4326-b32c-525e026f74d4   \n",
       "90830  8df11808-4d11-49b7-97ff-3a61f618f45c   \n",
       "90840  92ccde6e-1302-40e1-9f82-454179b7f1ae   \n",
       "90850  93799099-e674-43c3-a3e8-d8b872aad0eb   \n",
       "90860  98663a9a-dfa3-4c80-9d8a-9fc255bdf51e   \n",
       "\n",
       "                 project_root_node_input_id  \\\n",
       "0      7e8984b6-dff7-4015-865a-b721a2faf681   \n",
       "10     9d8a2527-accb-40bd-90d8-a73f20a609be   \n",
       "20     0625d00c-96c3-41ad-9324-37037ffd0325   \n",
       "30     a7c5595d-0ee0-4dea-bf6b-7ee3fb42d0e7   \n",
       "40     363aaded-07f3-41b1-8c84-4bae83406757   \n",
       "...                                     ...   \n",
       "90820  0ea47243-a5ba-4bea-a61e-632ca41ab503   \n",
       "90830  9ac9d365-9dd7-44fc-9e3e-5772110bb217   \n",
       "90840  bf4f4d43-de3b-46ef-8ed4-4d04d4641187   \n",
       "90850  cfa36c30-31ab-4647-bbc0-7e505db482ac   \n",
       "90860  3db139c1-7fec-44b3-b770-a790bfcff241   \n",
       "\n",
       "                                    task_input.image_url task_output.answer  \\\n",
       "0      https://qm-auto-annotator.s3.eu-central-1.amaz...                 no   \n",
       "10     https://qm-auto-annotator.s3.eu-central-1.amaz...                yes   \n",
       "20     https://qm-auto-annotator.s3.eu-central-1.amaz...                 no   \n",
       "30     https://qm-auto-annotator.s3.eu-central-1.amaz...                 no   \n",
       "40     https://qm-auto-annotator.s3.eu-central-1.amaz...                yes   \n",
       "...                                                  ...                ...   \n",
       "90820  https://qm-auto-annotator.s3.eu-central-1.amaz...                yes   \n",
       "90830  https://qm-auto-annotator.s3.eu-central-1.amaz...                yes   \n",
       "90840  https://qm-auto-annotator.s3.eu-central-1.amaz...                yes   \n",
       "90850  https://qm-auto-annotator.s3.eu-central-1.amaz...                 no   \n",
       "90860  https://qm-auto-annotator.s3.eu-central-1.amaz...                yes   \n",
       "\n",
       "       task_output.cant_solve  task_output.corrupt_data  \\\n",
       "0                       False                     False   \n",
       "10                      False                     False   \n",
       "20                      False                     False   \n",
       "30                      False                     False   \n",
       "40                      False                     False   \n",
       "...                       ...                       ...   \n",
       "90820                   False                     False   \n",
       "90830                   False                     False   \n",
       "90840                   False                     False   \n",
       "90850                   False                     False   \n",
       "90860                   False                     False   \n",
       "\n",
       "       task_output.duration_ms user.vendor_id  \\\n",
       "0                          997      vendor_01   \n",
       "10                        1044      vendor_01   \n",
       "20                         848      vendor_01   \n",
       "30                        1077      vendor_01   \n",
       "40                        1742      vendor_01   \n",
       "...                        ...            ...   \n",
       "90820                      918      vendor_01   \n",
       "90830                     1415      vendor_01   \n",
       "90840                     1047      vendor_01   \n",
       "90850                      911      vendor_01   \n",
       "90860                     1467      vendor_01   \n",
       "\n",
       "                                    user.id user.vendor_user_id  \\\n",
       "0      08af8775-a72c-4c59-b60f-9ce7df04fa92        annotator_12   \n",
       "10     62f1cf90-71c9-45c5-990c-f9dc0aa6ea3d        annotator_11   \n",
       "20     e336139c-5228-42cd-b501-81855532dfa6        annotator_05   \n",
       "30     5765cc32-9e32-43e1-bd78-384cfd52d55a        annotator_06   \n",
       "40     0e606b41-ebe4-4d7d-996c-db910c84971a        annotator_20   \n",
       "...                                     ...                 ...   \n",
       "90820  32971d11-e972-4d73-99a6-0847e1261995        annotator_18   \n",
       "90830  6d8be901-c6a6-43f8-a5ac-8e44b924bd84        annotator_09   \n",
       "90840  37a6036c-a9ef-4fcb-b554-7058f00415db        annotator_02   \n",
       "90850  6d8be901-c6a6-43f8-a5ac-8e44b924bd84        annotator_09   \n",
       "90860  94afdf79-917c-4904-bdaa-7a121f33b0ff        annotator_17   \n",
       "\n",
       "                                    root_input.image_url  \n",
       "0      https://qm-auto-annotator.s3.eu-central-1.amaz...  \n",
       "10     https://qm-auto-annotator.s3.eu-central-1.amaz...  \n",
       "20     https://qm-auto-annotator.s3.eu-central-1.amaz...  \n",
       "30     https://qm-auto-annotator.s3.eu-central-1.amaz...  \n",
       "40     https://qm-auto-annotator.s3.eu-central-1.amaz...  \n",
       "...                                                  ...  \n",
       "90820  https://qm-auto-annotator.s3.eu-central-1.amaz...  \n",
       "90830  https://qm-auto-annotator.s3.eu-central-1.amaz...  \n",
       "90840  https://qm-auto-annotator.s3.eu-central-1.amaz...  \n",
       "90850  https://qm-auto-annotator.s3.eu-central-1.amaz...  \n",
       "90860  https://qm-auto-annotator.s3.eu-central-1.amaz...  \n",
       "\n",
       "[9087 rows x 16 columns]"
      ]
     },
     "execution_count": 2,
     "metadata": {},
     "output_type": "execute_result"
    }
   ],
   "source": [
    "#open and loading the anonymized_project file\n",
    "with open('../data/anonymized_project.json') as f:\n",
    "    j = json.load(f)\n",
    "data=j['results']['root_node']['results']\n",
    "df = pd.json_normalize(data.values()).apply(pd.Series.explode).reset_index(drop=True)\n",
    "# remove and normalize the column of dictionaries, and join the result to df\n",
    "df = df.join(pd.json_normalize(df.pop('results')))\n",
    "#here we should drop project_node_input_id' record from the df, here i assume the input id should be unique\n",
    "df = df.drop_duplicates(subset='project_node_input_id', keep=\"first\")\n",
    "df\n"
   ]
  },
  {
   "cell_type": "code",
   "execution_count": 3,
   "id": "bd366dc1",
   "metadata": {},
   "outputs": [
    {
     "data": {
      "text/plain": [
       "9087"
      ]
     },
     "execution_count": 3,
     "metadata": {},
     "output_type": "execute_result"
    }
   ],
   "source": [
    "result=[]\n",
    "#data=j['results']['root_node']['results']\n",
    "for i in data:\n",
    "    result.append(i)\n",
    "len(result)   \n",
    "        \n",
    "    "
   ]
  },
  {
   "cell_type": "code",
   "execution_count": 4,
   "id": "81b06f96",
   "metadata": {},
   "outputs": [],
   "source": [
    "#data"
   ]
  },
  {
   "cell_type": "code",
   "execution_count": 5,
   "id": "31c6e6ca",
   "metadata": {},
   "outputs": [
    {
     "data": {
      "text/plain": [
       "7e8984b6-dff7-4015-865a-b721a2faf681    1\n",
       "9153693c-94ae-4005-9df0-0482445c342f    1\n",
       "a9884010-3aa2-4646-af57-920e8fbdd81d    1\n",
       "ff14b696-efdb-4aa6-8163-deb9c1a8eb36    1\n",
       "d8719a33-0387-4a2f-9b2e-8487dd87e121    1\n",
       "                                       ..\n",
       "87ef6702-9308-4b19-9926-63a2d23114cd    1\n",
       "2199024b-eb60-4585-9d77-9cfb064bb0bb    1\n",
       "7b30f924-c1ed-402b-9466-5b737cf820fc    1\n",
       "abe9e78f-1142-4773-9df3-5de7b0634af8    1\n",
       "3db139c1-7fec-44b3-b770-a790bfcff241    1\n",
       "Name: project_node_input_id, Length: 9087, dtype: int64"
      ]
     },
     "execution_count": 5,
     "metadata": {},
     "output_type": "execute_result"
    }
   ],
   "source": [
    "#find duplicate rows across all columns\n",
    "df.project_node_input_id.value_counts()"
   ]
  },
  {
   "cell_type": "code",
   "execution_count": 6,
   "id": "d119714c",
   "metadata": {},
   "outputs": [
    {
     "data": {
      "text/html": [
       "<div>\n",
       "<style scoped>\n",
       "    .dataframe tbody tr th:only-of-type {\n",
       "        vertical-align: middle;\n",
       "    }\n",
       "\n",
       "    .dataframe tbody tr th {\n",
       "        vertical-align: top;\n",
       "    }\n",
       "\n",
       "    .dataframe thead th {\n",
       "        text-align: right;\n",
       "    }\n",
       "</style>\n",
       "<table border=\"1\" class=\"dataframe\">\n",
       "  <thead>\n",
       "    <tr style=\"text-align: right;\">\n",
       "      <th></th>\n",
       "      <th>img</th>\n",
       "      <th>is_bicycle</th>\n",
       "    </tr>\n",
       "  </thead>\n",
       "  <tbody>\n",
       "    <tr>\n",
       "      <th>0</th>\n",
       "      <td>img_4686</td>\n",
       "      <td>False</td>\n",
       "    </tr>\n",
       "    <tr>\n",
       "      <th>1</th>\n",
       "      <td>img_8607</td>\n",
       "      <td>True</td>\n",
       "    </tr>\n",
       "    <tr>\n",
       "      <th>2</th>\n",
       "      <td>img_5541</td>\n",
       "      <td>False</td>\n",
       "    </tr>\n",
       "    <tr>\n",
       "      <th>3</th>\n",
       "      <td>img_3218</td>\n",
       "      <td>False</td>\n",
       "    </tr>\n",
       "    <tr>\n",
       "      <th>4</th>\n",
       "      <td>img_3247</td>\n",
       "      <td>True</td>\n",
       "    </tr>\n",
       "  </tbody>\n",
       "</table>\n",
       "</div>"
      ],
      "text/plain": [
       "        img  is_bicycle\n",
       "0  img_4686       False\n",
       "1  img_8607        True\n",
       "2  img_5541       False\n",
       "3  img_3218       False\n",
       "4  img_3247        True"
      ]
     },
     "execution_count": 6,
     "metadata": {},
     "output_type": "execute_result"
    }
   ],
   "source": [
    "with open('../data/references.json') as f:\n",
    "    j1 = json.load(f)\n",
    "df1 = pd.json_normalize(j1).T\n",
    "df1=pd.json_normalize(j1,max_level=0).T\n",
    "df1.columns=['result']\n",
    "# Create a new column with index values\n",
    "#df1['img'] = df1.index\n",
    "\n",
    "#using reset_index() to set index into column\n",
    "df2=df1.reset_index()\n",
    "df2=df2.rename(columns={'index':'img'})\n",
    "df2=pd.concat([df2.drop(['result'], axis=1), df2['result'].apply(pd.Series)], axis=1)\n",
    "df2.head()\n"
   ]
  },
  {
   "cell_type": "code",
   "execution_count": 7,
   "id": "4e2bc17a",
   "metadata": {},
   "outputs": [
    {
     "data": {
      "text/html": [
       "<div>\n",
       "<style scoped>\n",
       "    .dataframe tbody tr th:only-of-type {\n",
       "        vertical-align: middle;\n",
       "    }\n",
       "\n",
       "    .dataframe tbody tr th {\n",
       "        vertical-align: top;\n",
       "    }\n",
       "\n",
       "    .dataframe thead th {\n",
       "        text-align: right;\n",
       "    }\n",
       "</style>\n",
       "<table border=\"1\" class=\"dataframe\">\n",
       "  <thead>\n",
       "    <tr style=\"text-align: right;\">\n",
       "      <th></th>\n",
       "      <th>gui_type</th>\n",
       "      <th>created_at</th>\n",
       "      <th>workpackage_total_size</th>\n",
       "      <th>loss</th>\n",
       "      <th>project_node_input_id</th>\n",
       "      <th>project_node_output_id</th>\n",
       "      <th>project_root_node_input_id</th>\n",
       "      <th>task_input.image_url</th>\n",
       "      <th>task_output.answer</th>\n",
       "      <th>task_output.cant_solve</th>\n",
       "      <th>task_output.corrupt_data</th>\n",
       "      <th>task_output.duration_ms</th>\n",
       "      <th>user.vendor_id</th>\n",
       "      <th>user.id</th>\n",
       "      <th>user.vendor_user_id</th>\n",
       "      <th>root_input.image_url</th>\n",
       "      <th>img</th>\n",
       "      <th>is_bicycle</th>\n",
       "    </tr>\n",
       "  </thead>\n",
       "  <tbody>\n",
       "    <tr>\n",
       "      <th>0</th>\n",
       "      <td>discrete_answer</td>\n",
       "      <td>2021-02-25T14:08:11.319438+00:00</td>\n",
       "      <td>5</td>\n",
       "      <td>0.0</td>\n",
       "      <td>7e8984b6-dff7-4015-865a-b721a2faf681</td>\n",
       "      <td>0000439a-96ac-4bd4-8753-a4baa229ecf2</td>\n",
       "      <td>7e8984b6-dff7-4015-865a-b721a2faf681</td>\n",
       "      <td>https://qm-auto-annotator.s3.eu-central-1.amaz...</td>\n",
       "      <td>no</td>\n",
       "      <td>False</td>\n",
       "      <td>False</td>\n",
       "      <td>997</td>\n",
       "      <td>vendor_01</td>\n",
       "      <td>08af8775-a72c-4c59-b60f-9ce7df04fa92</td>\n",
       "      <td>annotator_12</td>\n",
       "      <td>https://qm-auto-annotator.s3.eu-central-1.amaz...</td>\n",
       "      <td>img_4686</td>\n",
       "      <td>False</td>\n",
       "    </tr>\n",
       "    <tr>\n",
       "      <th>1</th>\n",
       "      <td>discrete_answer</td>\n",
       "      <td>2021-02-25T13:53:31.698130+00:00</td>\n",
       "      <td>5</td>\n",
       "      <td>0.0</td>\n",
       "      <td>9d8a2527-accb-40bd-90d8-a73f20a609be</td>\n",
       "      <td>0000de80-97c8-40f4-aee1-f30377174381</td>\n",
       "      <td>9d8a2527-accb-40bd-90d8-a73f20a609be</td>\n",
       "      <td>https://qm-auto-annotator.s3.eu-central-1.amaz...</td>\n",
       "      <td>yes</td>\n",
       "      <td>False</td>\n",
       "      <td>False</td>\n",
       "      <td>1044</td>\n",
       "      <td>vendor_01</td>\n",
       "      <td>62f1cf90-71c9-45c5-990c-f9dc0aa6ea3d</td>\n",
       "      <td>annotator_11</td>\n",
       "      <td>https://qm-auto-annotator.s3.eu-central-1.amaz...</td>\n",
       "      <td>img_3779</td>\n",
       "      <td>False</td>\n",
       "    </tr>\n",
       "    <tr>\n",
       "      <th>2</th>\n",
       "      <td>discrete_answer</td>\n",
       "      <td>2021-02-25T13:35:02.076869+00:00</td>\n",
       "      <td>5</td>\n",
       "      <td>0.0</td>\n",
       "      <td>0625d00c-96c3-41ad-9324-37037ffd0325</td>\n",
       "      <td>00023262-3608-4678-8d3f-142e6758fadb</td>\n",
       "      <td>0625d00c-96c3-41ad-9324-37037ffd0325</td>\n",
       "      <td>https://qm-auto-annotator.s3.eu-central-1.amaz...</td>\n",
       "      <td>no</td>\n",
       "      <td>False</td>\n",
       "      <td>False</td>\n",
       "      <td>848</td>\n",
       "      <td>vendor_01</td>\n",
       "      <td>e336139c-5228-42cd-b501-81855532dfa6</td>\n",
       "      <td>annotator_05</td>\n",
       "      <td>https://qm-auto-annotator.s3.eu-central-1.amaz...</td>\n",
       "      <td>img_1546</td>\n",
       "      <td>True</td>\n",
       "    </tr>\n",
       "    <tr>\n",
       "      <th>3</th>\n",
       "      <td>discrete_answer</td>\n",
       "      <td>2021-02-26T03:53:40.752056+00:00</td>\n",
       "      <td>5</td>\n",
       "      <td>0.0</td>\n",
       "      <td>a7c5595d-0ee0-4dea-bf6b-7ee3fb42d0e7</td>\n",
       "      <td>00036ee9-f7da-4753-9607-7df7b57d4623</td>\n",
       "      <td>a7c5595d-0ee0-4dea-bf6b-7ee3fb42d0e7</td>\n",
       "      <td>https://qm-auto-annotator.s3.eu-central-1.amaz...</td>\n",
       "      <td>no</td>\n",
       "      <td>False</td>\n",
       "      <td>False</td>\n",
       "      <td>1077</td>\n",
       "      <td>vendor_01</td>\n",
       "      <td>5765cc32-9e32-43e1-bd78-384cfd52d55a</td>\n",
       "      <td>annotator_06</td>\n",
       "      <td>https://qm-auto-annotator.s3.eu-central-1.amaz...</td>\n",
       "      <td>img_3780</td>\n",
       "      <td>False</td>\n",
       "    </tr>\n",
       "    <tr>\n",
       "      <th>4</th>\n",
       "      <td>discrete_answer</td>\n",
       "      <td>2021-02-25T10:19:19.501386+00:00</td>\n",
       "      <td>5</td>\n",
       "      <td>0.0</td>\n",
       "      <td>363aaded-07f3-41b1-8c84-4bae83406757</td>\n",
       "      <td>000468b7-a24c-435c-b506-9db1bf3c700d</td>\n",
       "      <td>363aaded-07f3-41b1-8c84-4bae83406757</td>\n",
       "      <td>https://qm-auto-annotator.s3.eu-central-1.amaz...</td>\n",
       "      <td>yes</td>\n",
       "      <td>False</td>\n",
       "      <td>False</td>\n",
       "      <td>1742</td>\n",
       "      <td>vendor_01</td>\n",
       "      <td>0e606b41-ebe4-4d7d-996c-db910c84971a</td>\n",
       "      <td>annotator_20</td>\n",
       "      <td>https://qm-auto-annotator.s3.eu-central-1.amaz...</td>\n",
       "      <td>img_8789</td>\n",
       "      <td>True</td>\n",
       "    </tr>\n",
       "  </tbody>\n",
       "</table>\n",
       "</div>"
      ],
      "text/plain": [
       "          gui_type                        created_at  workpackage_total_size  \\\n",
       "0  discrete_answer  2021-02-25T14:08:11.319438+00:00                       5   \n",
       "1  discrete_answer  2021-02-25T13:53:31.698130+00:00                       5   \n",
       "2  discrete_answer  2021-02-25T13:35:02.076869+00:00                       5   \n",
       "3  discrete_answer  2021-02-26T03:53:40.752056+00:00                       5   \n",
       "4  discrete_answer  2021-02-25T10:19:19.501386+00:00                       5   \n",
       "\n",
       "   loss                 project_node_input_id  \\\n",
       "0   0.0  7e8984b6-dff7-4015-865a-b721a2faf681   \n",
       "1   0.0  9d8a2527-accb-40bd-90d8-a73f20a609be   \n",
       "2   0.0  0625d00c-96c3-41ad-9324-37037ffd0325   \n",
       "3   0.0  a7c5595d-0ee0-4dea-bf6b-7ee3fb42d0e7   \n",
       "4   0.0  363aaded-07f3-41b1-8c84-4bae83406757   \n",
       "\n",
       "                 project_node_output_id            project_root_node_input_id  \\\n",
       "0  0000439a-96ac-4bd4-8753-a4baa229ecf2  7e8984b6-dff7-4015-865a-b721a2faf681   \n",
       "1  0000de80-97c8-40f4-aee1-f30377174381  9d8a2527-accb-40bd-90d8-a73f20a609be   \n",
       "2  00023262-3608-4678-8d3f-142e6758fadb  0625d00c-96c3-41ad-9324-37037ffd0325   \n",
       "3  00036ee9-f7da-4753-9607-7df7b57d4623  a7c5595d-0ee0-4dea-bf6b-7ee3fb42d0e7   \n",
       "4  000468b7-a24c-435c-b506-9db1bf3c700d  363aaded-07f3-41b1-8c84-4bae83406757   \n",
       "\n",
       "                                task_input.image_url task_output.answer  \\\n",
       "0  https://qm-auto-annotator.s3.eu-central-1.amaz...                 no   \n",
       "1  https://qm-auto-annotator.s3.eu-central-1.amaz...                yes   \n",
       "2  https://qm-auto-annotator.s3.eu-central-1.amaz...                 no   \n",
       "3  https://qm-auto-annotator.s3.eu-central-1.amaz...                 no   \n",
       "4  https://qm-auto-annotator.s3.eu-central-1.amaz...                yes   \n",
       "\n",
       "   task_output.cant_solve  task_output.corrupt_data  task_output.duration_ms  \\\n",
       "0                   False                     False                      997   \n",
       "1                   False                     False                     1044   \n",
       "2                   False                     False                      848   \n",
       "3                   False                     False                     1077   \n",
       "4                   False                     False                     1742   \n",
       "\n",
       "  user.vendor_id                               user.id user.vendor_user_id  \\\n",
       "0      vendor_01  08af8775-a72c-4c59-b60f-9ce7df04fa92        annotator_12   \n",
       "1      vendor_01  62f1cf90-71c9-45c5-990c-f9dc0aa6ea3d        annotator_11   \n",
       "2      vendor_01  e336139c-5228-42cd-b501-81855532dfa6        annotator_05   \n",
       "3      vendor_01  5765cc32-9e32-43e1-bd78-384cfd52d55a        annotator_06   \n",
       "4      vendor_01  0e606b41-ebe4-4d7d-996c-db910c84971a        annotator_20   \n",
       "\n",
       "                                root_input.image_url       img is_bicycle  \n",
       "0  https://qm-auto-annotator.s3.eu-central-1.amaz...  img_4686      False  \n",
       "1  https://qm-auto-annotator.s3.eu-central-1.amaz...  img_3779      False  \n",
       "2  https://qm-auto-annotator.s3.eu-central-1.amaz...  img_1546       True  \n",
       "3  https://qm-auto-annotator.s3.eu-central-1.amaz...  img_3780      False  \n",
       "4  https://qm-auto-annotator.s3.eu-central-1.amaz...  img_8789       True  "
      ]
     },
     "execution_count": 7,
     "metadata": {},
     "output_type": "execute_result"
    }
   ],
   "source": [
    "df_new=df.join(df2).reset_index(drop=True)\n",
    "df_new.head()"
   ]
  },
  {
   "cell_type": "code",
   "execution_count": 8,
   "id": "9bb94150",
   "metadata": {},
   "outputs": [
    {
     "data": {
      "text/plain": [
       "(9087, 18)"
      ]
     },
     "execution_count": 8,
     "metadata": {},
     "output_type": "execute_result"
    }
   ],
   "source": [
    "df_new.shape"
   ]
  },
  {
   "cell_type": "code",
   "execution_count": 9,
   "id": "ca9f51a9",
   "metadata": {},
   "outputs": [],
   "source": [
    "df_new.to_csv('../data/finaldata.csv')"
   ]
  },
  {
   "cell_type": "code",
   "execution_count": 10,
   "id": "9e770ee9",
   "metadata": {},
   "outputs": [],
   "source": [
    "df_new=pd.read_csv('../data/finaldata.csv')"
   ]
  },
  {
   "cell_type": "code",
   "execution_count": 11,
   "id": "f77ffa67",
   "metadata": {},
   "outputs": [
    {
     "data": {
      "text/plain": [
       "(9087, 18)"
      ]
     },
     "execution_count": 11,
     "metadata": {},
     "output_type": "execute_result"
    }
   ],
   "source": [
    "df_new.reset_index(drop=True)\n",
    "df_new.drop(columns='Unnamed: 0',inplace=True)\n",
    "df_new.shape"
   ]
  },
  {
   "cell_type": "markdown",
   "id": "6b20095e",
   "metadata": {},
   "source": [
    "- The file contains 9087 records and 16 features."
   ]
  },
  {
   "cell_type": "markdown",
   "id": "9217262f",
   "metadata": {},
   "source": [
    "### Data Cleaning and Preprossing\n",
    "\n",
    "#### gui_type feature"
   ]
  },
  {
   "cell_type": "code",
   "execution_count": 12,
   "id": "8be21e62",
   "metadata": {},
   "outputs": [
    {
     "data": {
      "text/plain": [
       "discrete_answer    9087\n",
       "Name: gui_type, dtype: int64"
      ]
     },
     "execution_count": 12,
     "metadata": {},
     "output_type": "execute_result"
    }
   ],
   "source": [
    "df_new.gui_type.value_counts()"
   ]
  },
  {
   "cell_type": "markdown",
   "id": "57cbd35f",
   "metadata": {},
   "source": [
    "- There is only one type of answer with 'gui_type'  so it will not help to us to anaysis data.\n",
    "- 'task_input.image_url' and 'root_input.image_url' also not help for further data analysis.\n",
    " ### checking feature value dupication"
   ]
  },
  {
   "cell_type": "code",
   "execution_count": 13,
   "id": "497ccfbd",
   "metadata": {},
   "outputs": [
    {
     "data": {
      "text/plain": [
       "True"
      ]
     },
     "execution_count": 13,
     "metadata": {},
     "output_type": "execute_result"
    }
   ],
   "source": [
    "df_new['project_node_input_id'].equals(df_new['project_root_node_input_id'])"
   ]
  },
  {
   "cell_type": "markdown",
   "id": "e136b606",
   "metadata": {},
   "source": [
    "##### Here 'project_node_input_id' column is duplicated with 'project_root_node_input_id' column,so decided to drop one of them."
   ]
  },
  {
   "cell_type": "code",
   "execution_count": 14,
   "id": "b92393a2",
   "metadata": {},
   "outputs": [
    {
     "data": {
      "text/plain": [
       "False    9085\n",
       "True        2\n",
       "Name: task_output.cant_solve, dtype: int64"
      ]
     },
     "execution_count": 14,
     "metadata": {},
     "output_type": "execute_result"
    }
   ],
   "source": [
    "df_new['task_output.cant_solve'].value_counts()"
   ]
  },
  {
   "cell_type": "code",
   "execution_count": 15,
   "id": "73162961",
   "metadata": {},
   "outputs": [
    {
     "data": {
      "text/plain": [
       "False    9087\n",
       "Name: task_output.corrupt_data, dtype: int64"
      ]
     },
     "execution_count": 15,
     "metadata": {},
     "output_type": "execute_result"
    }
   ],
   "source": [
    "df_new['task_output.corrupt_data'].value_counts()"
   ]
  },
  {
   "cell_type": "markdown",
   "id": "88aa9bc8",
   "metadata": {},
   "source": [
    "- Here 'task_output.corrupt_data' have only one category 'False' ,so data is not correpted."
   ]
  },
  {
   "cell_type": "code",
   "execution_count": 16,
   "id": "cb2e1cd8",
   "metadata": {},
   "outputs": [
    {
     "data": {
      "text/plain": [
       "8178"
      ]
     },
     "execution_count": 16,
     "metadata": {},
     "output_type": "execute_result"
    }
   ],
   "source": [
    "df_new.img.isnull().sum()"
   ]
  },
  {
   "cell_type": "code",
   "execution_count": 17,
   "id": "fd5a7897",
   "metadata": {},
   "outputs": [
    {
     "data": {
      "text/plain": [
       "8178"
      ]
     },
     "execution_count": 17,
     "metadata": {},
     "output_type": "execute_result"
    }
   ],
   "source": [
    "df_new['is_bicycle'].isnull().sum()"
   ]
  },
  {
   "cell_type": "code",
   "execution_count": 18,
   "id": "0ec4b4e7",
   "metadata": {},
   "outputs": [
    {
     "data": {
      "text/plain": [
       "0"
      ]
     },
     "execution_count": 18,
     "metadata": {},
     "output_type": "execute_result"
    }
   ],
   "source": [
    "df_new['user.vendor_user_id'].isnull().sum()"
   ]
  },
  {
   "cell_type": "code",
   "execution_count": 19,
   "id": "b1bee182",
   "metadata": {
    "scrolled": true
   },
   "outputs": [
    {
     "data": {
      "text/plain": [
       "vendor_01    9087\n",
       "Name: user.vendor_id, dtype: int64"
      ]
     },
     "execution_count": 19,
     "metadata": {},
     "output_type": "execute_result"
    }
   ],
   "source": [
    "df_new['user.vendor_id'].value_counts()"
   ]
  },
  {
   "cell_type": "markdown",
   "id": "e3887069",
   "metadata": {},
   "source": [
    "- Here 'user.vendor_id' have only one category,it will not help much for analysis ,decided to drop."
   ]
  },
  {
   "cell_type": "code",
   "execution_count": 20,
   "id": "5bb0a28a",
   "metadata": {},
   "outputs": [
    {
     "data": {
      "text/plain": [
       "5    9082\n",
       "1       2\n",
       "2       2\n",
       "3       1\n",
       "Name: workpackage_total_size, dtype: int64"
      ]
     },
     "execution_count": 20,
     "metadata": {},
     "output_type": "execute_result"
    }
   ],
   "source": [
    "df_new['workpackage_total_size'].value_counts()\n"
   ]
  },
  {
   "cell_type": "code",
   "execution_count": 21,
   "id": "f2d71bf1",
   "metadata": {},
   "outputs": [
    {
     "data": {
      "text/plain": [
       "0.0    9087\n",
       "Name: loss, dtype: int64"
      ]
     },
     "execution_count": 21,
     "metadata": {},
     "output_type": "execute_result"
    }
   ],
   "source": [
    "df_new['loss'].value_counts()"
   ]
  },
  {
   "cell_type": "markdown",
   "id": "e8ad4ca9",
   "metadata": {},
   "source": [
    "- Here 'Loss' column  also not giving much infromation,so decided to drop."
   ]
  },
  {
   "cell_type": "code",
   "execution_count": 22,
   "id": "cf806da6",
   "metadata": {},
   "outputs": [
    {
     "data": {
      "text/plain": [
       "yes    4618\n",
       "no     4467\n",
       "Name: task_output.answer, dtype: int64"
      ]
     },
     "execution_count": 22,
     "metadata": {},
     "output_type": "execute_result"
    }
   ],
   "source": [
    "df_new['task_output.answer'].value_counts()\n"
   ]
  },
  {
   "cell_type": "markdown",
   "id": "367f8332",
   "metadata": {},
   "source": [
    "- Here the task out put almost eqally distributed."
   ]
  },
  {
   "cell_type": "code",
   "execution_count": 23,
   "id": "ddfa4820",
   "metadata": {},
   "outputs": [
    {
     "data": {
      "text/html": [
       "<div>\n",
       "<style scoped>\n",
       "    .dataframe tbody tr th:only-of-type {\n",
       "        vertical-align: middle;\n",
       "    }\n",
       "\n",
       "    .dataframe tbody tr th {\n",
       "        vertical-align: top;\n",
       "    }\n",
       "\n",
       "    .dataframe thead th {\n",
       "        text-align: right;\n",
       "    }\n",
       "</style>\n",
       "<table border=\"1\" class=\"dataframe\">\n",
       "  <thead>\n",
       "    <tr style=\"text-align: right;\">\n",
       "      <th></th>\n",
       "      <th>gui_type</th>\n",
       "      <th>created_at</th>\n",
       "      <th>workpackage_total_size</th>\n",
       "      <th>loss</th>\n",
       "      <th>project_node_input_id</th>\n",
       "      <th>project_node_output_id</th>\n",
       "      <th>project_root_node_input_id</th>\n",
       "      <th>task_input.image_url</th>\n",
       "      <th>task_output.answer</th>\n",
       "      <th>task_output.cant_solve</th>\n",
       "      <th>task_output.corrupt_data</th>\n",
       "      <th>task_output.duration_ms</th>\n",
       "      <th>user.vendor_id</th>\n",
       "      <th>user.id</th>\n",
       "      <th>user.vendor_user_id</th>\n",
       "      <th>root_input.image_url</th>\n",
       "      <th>img</th>\n",
       "      <th>is_bicycle</th>\n",
       "    </tr>\n",
       "  </thead>\n",
       "  <tbody>\n",
       "    <tr>\n",
       "      <th>7024</th>\n",
       "      <td>discrete_answer</td>\n",
       "      <td>2021-02-25T13:16:11.077555+00:00</td>\n",
       "      <td>5</td>\n",
       "      <td>0.0</td>\n",
       "      <td>035315c3-ef9b-47c9-b48a-a6dca661b38c</td>\n",
       "      <td>234248a6-016b-451d-9e77-110ae1e7c92f</td>\n",
       "      <td>035315c3-ef9b-47c9-b48a-a6dca661b38c</td>\n",
       "      <td>https://qm-auto-annotator.s3.eu-central-1.amaz...</td>\n",
       "      <td>NaN</td>\n",
       "      <td>True</td>\n",
       "      <td>False</td>\n",
       "      <td>746</td>\n",
       "      <td>vendor_01</td>\n",
       "      <td>9fddf227-6680-42f5-aca5-533fc439c193</td>\n",
       "      <td>annotator_04</td>\n",
       "      <td>https://qm-auto-annotator.s3.eu-central-1.amaz...</td>\n",
       "      <td>NaN</td>\n",
       "      <td>NaN</td>\n",
       "    </tr>\n",
       "    <tr>\n",
       "      <th>8710</th>\n",
       "      <td>discrete_answer</td>\n",
       "      <td>2021-02-25T10:10:08.355604+00:00</td>\n",
       "      <td>5</td>\n",
       "      <td>0.0</td>\n",
       "      <td>bc616814-9d98-4c9f-afcb-d921d166653a</td>\n",
       "      <td>46f706a4-39ad-443a-ba86-b23ec8a56cd4</td>\n",
       "      <td>bc616814-9d98-4c9f-afcb-d921d166653a</td>\n",
       "      <td>https://qm-auto-annotator.s3.eu-central-1.amaz...</td>\n",
       "      <td>NaN</td>\n",
       "      <td>True</td>\n",
       "      <td>False</td>\n",
       "      <td>783</td>\n",
       "      <td>vendor_01</td>\n",
       "      <td>0e606b41-ebe4-4d7d-996c-db910c84971a</td>\n",
       "      <td>annotator_20</td>\n",
       "      <td>https://qm-auto-annotator.s3.eu-central-1.amaz...</td>\n",
       "      <td>NaN</td>\n",
       "      <td>NaN</td>\n",
       "    </tr>\n",
       "  </tbody>\n",
       "</table>\n",
       "</div>"
      ],
      "text/plain": [
       "             gui_type                        created_at  \\\n",
       "7024  discrete_answer  2021-02-25T13:16:11.077555+00:00   \n",
       "8710  discrete_answer  2021-02-25T10:10:08.355604+00:00   \n",
       "\n",
       "      workpackage_total_size  loss                 project_node_input_id  \\\n",
       "7024                       5   0.0  035315c3-ef9b-47c9-b48a-a6dca661b38c   \n",
       "8710                       5   0.0  bc616814-9d98-4c9f-afcb-d921d166653a   \n",
       "\n",
       "                    project_node_output_id  \\\n",
       "7024  234248a6-016b-451d-9e77-110ae1e7c92f   \n",
       "8710  46f706a4-39ad-443a-ba86-b23ec8a56cd4   \n",
       "\n",
       "                project_root_node_input_id  \\\n",
       "7024  035315c3-ef9b-47c9-b48a-a6dca661b38c   \n",
       "8710  bc616814-9d98-4c9f-afcb-d921d166653a   \n",
       "\n",
       "                                   task_input.image_url task_output.answer  \\\n",
       "7024  https://qm-auto-annotator.s3.eu-central-1.amaz...                NaN   \n",
       "8710  https://qm-auto-annotator.s3.eu-central-1.amaz...                NaN   \n",
       "\n",
       "      task_output.cant_solve  task_output.corrupt_data  \\\n",
       "7024                    True                     False   \n",
       "8710                    True                     False   \n",
       "\n",
       "      task_output.duration_ms user.vendor_id  \\\n",
       "7024                      746      vendor_01   \n",
       "8710                      783      vendor_01   \n",
       "\n",
       "                                   user.id user.vendor_user_id  \\\n",
       "7024  9fddf227-6680-42f5-aca5-533fc439c193        annotator_04   \n",
       "8710  0e606b41-ebe4-4d7d-996c-db910c84971a        annotator_20   \n",
       "\n",
       "                                   root_input.image_url  img is_bicycle  \n",
       "7024  https://qm-auto-annotator.s3.eu-central-1.amaz...  NaN        NaN  \n",
       "8710  https://qm-auto-annotator.s3.eu-central-1.amaz...  NaN        NaN  "
      ]
     },
     "execution_count": 23,
     "metadata": {},
     "output_type": "execute_result"
    }
   ],
   "source": [
    "df_new.loc[(df_new['task_output.answer']!='yes') & (df_new['task_output.answer'] != 'no')]"
   ]
  },
  {
   "cell_type": "code",
   "execution_count": 24,
   "id": "a2b50486",
   "metadata": {},
   "outputs": [
    {
     "data": {
      "text/html": [
       "<div>\n",
       "<style scoped>\n",
       "    .dataframe tbody tr th:only-of-type {\n",
       "        vertical-align: middle;\n",
       "    }\n",
       "\n",
       "    .dataframe tbody tr th {\n",
       "        vertical-align: top;\n",
       "    }\n",
       "\n",
       "    .dataframe thead th {\n",
       "        text-align: right;\n",
       "    }\n",
       "</style>\n",
       "<table border=\"1\" class=\"dataframe\">\n",
       "  <thead>\n",
       "    <tr style=\"text-align: right;\">\n",
       "      <th></th>\n",
       "      <th>task_output.cant_solve</th>\n",
       "      <th>task_output.corrupt_data</th>\n",
       "    </tr>\n",
       "    <tr>\n",
       "      <th>user.vendor_user_id</th>\n",
       "      <th></th>\n",
       "      <th></th>\n",
       "    </tr>\n",
       "  </thead>\n",
       "  <tbody>\n",
       "    <tr>\n",
       "      <th>annotator_04</th>\n",
       "      <td>1</td>\n",
       "      <td>0</td>\n",
       "    </tr>\n",
       "    <tr>\n",
       "      <th>annotator_20</th>\n",
       "      <td>1</td>\n",
       "      <td>0</td>\n",
       "    </tr>\n",
       "  </tbody>\n",
       "</table>\n",
       "</div>"
      ],
      "text/plain": [
       "                     task_output.cant_solve  task_output.corrupt_data\n",
       "user.vendor_user_id                                                  \n",
       "annotator_04                              1                         0\n",
       "annotator_20                              1                         0"
      ]
     },
     "execution_count": 24,
     "metadata": {},
     "output_type": "execute_result"
    }
   ],
   "source": [
    "df_new.loc[df_new['task_output.answer'] == '', 'task_output.answer'] = 'cant_solve&corrupt_data'\n",
    "task_df=df_new.loc[(df_new['task_output.answer']!='yes') & (df_new['task_output.answer'] != 'no')].reset_index()\n",
    "task_df.groupby('user.vendor_user_id')[['task_output.answer','task_output.cant_solve','task_output.corrupt_data']].sum()"
   ]
  },
  {
   "cell_type": "markdown",
   "id": "6840f137",
   "metadata": {},
   "source": [
    "#### Insights:\n",
    "- There is no case with  corrupted data.Only two cases can't solved by some other reasons."
   ]
  },
  {
   "cell_type": "markdown",
   "id": "e5488a25",
   "metadata": {},
   "source": [
    "\n",
    "#### Dropping unnecessary columns"
   ]
  },
  {
   "cell_type": "code",
   "execution_count": 25,
   "id": "7a787ef7",
   "metadata": {
    "scrolled": true
   },
   "outputs": [
    {
     "data": {
      "text/html": [
       "<div>\n",
       "<style scoped>\n",
       "    .dataframe tbody tr th:only-of-type {\n",
       "        vertical-align: middle;\n",
       "    }\n",
       "\n",
       "    .dataframe tbody tr th {\n",
       "        vertical-align: top;\n",
       "    }\n",
       "\n",
       "    .dataframe thead th {\n",
       "        text-align: right;\n",
       "    }\n",
       "</style>\n",
       "<table border=\"1\" class=\"dataframe\">\n",
       "  <thead>\n",
       "    <tr style=\"text-align: right;\">\n",
       "      <th></th>\n",
       "      <th>created_at</th>\n",
       "      <th>workpackage_total_size</th>\n",
       "      <th>task_output.answer</th>\n",
       "      <th>task_output.cant_solve</th>\n",
       "      <th>task_output.corrupt_data</th>\n",
       "      <th>task_output.duration_ms</th>\n",
       "      <th>user.id</th>\n",
       "      <th>user.vendor_user_id</th>\n",
       "      <th>is_bicycle</th>\n",
       "    </tr>\n",
       "  </thead>\n",
       "  <tbody>\n",
       "    <tr>\n",
       "      <th>0</th>\n",
       "      <td>2021-02-25T14:08:11.319438+00:00</td>\n",
       "      <td>5</td>\n",
       "      <td>no</td>\n",
       "      <td>False</td>\n",
       "      <td>False</td>\n",
       "      <td>997</td>\n",
       "      <td>08af8775-a72c-4c59-b60f-9ce7df04fa92</td>\n",
       "      <td>annotator_12</td>\n",
       "      <td>False</td>\n",
       "    </tr>\n",
       "    <tr>\n",
       "      <th>1</th>\n",
       "      <td>2021-02-25T13:53:31.698130+00:00</td>\n",
       "      <td>5</td>\n",
       "      <td>yes</td>\n",
       "      <td>False</td>\n",
       "      <td>False</td>\n",
       "      <td>1044</td>\n",
       "      <td>62f1cf90-71c9-45c5-990c-f9dc0aa6ea3d</td>\n",
       "      <td>annotator_11</td>\n",
       "      <td>False</td>\n",
       "    </tr>\n",
       "    <tr>\n",
       "      <th>2</th>\n",
       "      <td>2021-02-25T13:35:02.076869+00:00</td>\n",
       "      <td>5</td>\n",
       "      <td>no</td>\n",
       "      <td>False</td>\n",
       "      <td>False</td>\n",
       "      <td>848</td>\n",
       "      <td>e336139c-5228-42cd-b501-81855532dfa6</td>\n",
       "      <td>annotator_05</td>\n",
       "      <td>True</td>\n",
       "    </tr>\n",
       "    <tr>\n",
       "      <th>3</th>\n",
       "      <td>2021-02-26T03:53:40.752056+00:00</td>\n",
       "      <td>5</td>\n",
       "      <td>no</td>\n",
       "      <td>False</td>\n",
       "      <td>False</td>\n",
       "      <td>1077</td>\n",
       "      <td>5765cc32-9e32-43e1-bd78-384cfd52d55a</td>\n",
       "      <td>annotator_06</td>\n",
       "      <td>False</td>\n",
       "    </tr>\n",
       "    <tr>\n",
       "      <th>4</th>\n",
       "      <td>2021-02-25T10:19:19.501386+00:00</td>\n",
       "      <td>5</td>\n",
       "      <td>yes</td>\n",
       "      <td>False</td>\n",
       "      <td>False</td>\n",
       "      <td>1742</td>\n",
       "      <td>0e606b41-ebe4-4d7d-996c-db910c84971a</td>\n",
       "      <td>annotator_20</td>\n",
       "      <td>True</td>\n",
       "    </tr>\n",
       "  </tbody>\n",
       "</table>\n",
       "</div>"
      ],
      "text/plain": [
       "                         created_at  workpackage_total_size  \\\n",
       "0  2021-02-25T14:08:11.319438+00:00                       5   \n",
       "1  2021-02-25T13:53:31.698130+00:00                       5   \n",
       "2  2021-02-25T13:35:02.076869+00:00                       5   \n",
       "3  2021-02-26T03:53:40.752056+00:00                       5   \n",
       "4  2021-02-25T10:19:19.501386+00:00                       5   \n",
       "\n",
       "  task_output.answer  task_output.cant_solve  task_output.corrupt_data  \\\n",
       "0                 no                   False                     False   \n",
       "1                yes                   False                     False   \n",
       "2                 no                   False                     False   \n",
       "3                 no                   False                     False   \n",
       "4                yes                   False                     False   \n",
       "\n",
       "   task_output.duration_ms                               user.id  \\\n",
       "0                      997  08af8775-a72c-4c59-b60f-9ce7df04fa92   \n",
       "1                     1044  62f1cf90-71c9-45c5-990c-f9dc0aa6ea3d   \n",
       "2                      848  e336139c-5228-42cd-b501-81855532dfa6   \n",
       "3                     1077  5765cc32-9e32-43e1-bd78-384cfd52d55a   \n",
       "4                     1742  0e606b41-ebe4-4d7d-996c-db910c84971a   \n",
       "\n",
       "  user.vendor_user_id is_bicycle  \n",
       "0        annotator_12      False  \n",
       "1        annotator_11      False  \n",
       "2        annotator_05       True  \n",
       "3        annotator_06      False  \n",
       "4        annotator_20       True  "
      ]
     },
     "execution_count": 25,
     "metadata": {},
     "output_type": "execute_result"
    }
   ],
   "source": [
    "df = df_new.drop(columns=['gui_type', 'task_input.image_url','root_input.image_url','project_root_node_input_id',\n",
    "                          'user.vendor_id','loss','project_node_input_id',\n",
    "                          'project_node_output_id','img'],axis=1)\n",
    "df.head()"
   ]
  },
  {
   "cell_type": "code",
   "execution_count": 26,
   "id": "8eb38dfb",
   "metadata": {},
   "outputs": [
    {
     "name": "stdout",
     "output_type": "stream",
     "text": [
      "<class 'pandas.core.frame.DataFrame'>\n",
      "RangeIndex: 9087 entries, 0 to 9086\n",
      "Data columns (total 9 columns):\n",
      " #   Column                    Non-Null Count  Dtype \n",
      "---  ------                    --------------  ----- \n",
      " 0   created_at                9087 non-null   object\n",
      " 1   workpackage_total_size    9087 non-null   int64 \n",
      " 2   task_output.answer        9085 non-null   object\n",
      " 3   task_output.cant_solve    9087 non-null   bool  \n",
      " 4   task_output.corrupt_data  9087 non-null   bool  \n",
      " 5   task_output.duration_ms   9087 non-null   int64 \n",
      " 6   user.id                   9087 non-null   object\n",
      " 7   user.vendor_user_id       9087 non-null   object\n",
      " 8   is_bicycle                909 non-null    object\n",
      "dtypes: bool(2), int64(2), object(5)\n",
      "memory usage: 514.8+ KB\n"
     ]
    }
   ],
   "source": [
    "df.info()"
   ]
  },
  {
   "cell_type": "code",
   "execution_count": 27,
   "id": "fa5db223",
   "metadata": {},
   "outputs": [
    {
     "data": {
      "text/plain": [
       "['task_output.answer', 'is_bicycle']"
      ]
     },
     "execution_count": 27,
     "metadata": {},
     "output_type": "execute_result"
    }
   ],
   "source": [
    "#  Print the columns with missing values\n",
    "[col for col in df.columns if df[col].isnull().any()]"
   ]
  },
  {
   "cell_type": "code",
   "execution_count": 28,
   "id": "9892f319",
   "metadata": {},
   "outputs": [
    {
     "data": {
      "text/plain": [
       "<Axes: >"
      ]
     },
     "execution_count": 28,
     "metadata": {},
     "output_type": "execute_result"
    },
    {
     "data": {
      "image/png": "[encoded data removed]",
      "text/plain": [
       "<Figure size 640x480 with 1 Axes>"
      ]
     },
     "metadata": {},
     "output_type": "display_data"
    }
   ],
   "source": [
    "sns.heatmap(df.isnull(), cbar=False)"
   ]
  },
  {
   "cell_type": "markdown",
   "id": "fa93b868",
   "metadata": {},
   "source": [
    "#### Insights:\n",
    "- There are is_bicycle column(almost 90%) and 'task_output.answer'(2 instances) have null values.\n"
   ]
  },
  {
   "cell_type": "markdown",
   "id": "95eaeab7",
   "metadata": {},
   "source": [
    "#### filling null values with zero"
   ]
  },
  {
   "cell_type": "code",
   "execution_count": 29,
   "id": "d269c1fa",
   "metadata": {},
   "outputs": [
    {
     "data": {
      "text/plain": [
       "created_at                  0\n",
       "workpackage_total_size      0\n",
       "task_output.answer          0\n",
       "task_output.cant_solve      0\n",
       "task_output.corrupt_data    0\n",
       "task_output.duration_ms     0\n",
       "user.id                     0\n",
       "user.vendor_user_id         0\n",
       "is_bicycle                  0\n",
       "dtype: int64"
      ]
     },
     "execution_count": 29,
     "metadata": {},
     "output_type": "execute_result"
    }
   ],
   "source": [
    "df.fillna('no_output', inplace=True)\n",
    "df.isnull().sum()"
   ]
  },
  {
   "cell_type": "markdown",
   "id": "c36b7e3b",
   "metadata": {},
   "source": [
    "### Converting 'created_at'  columns to date time format"
   ]
  },
  {
   "cell_type": "code",
   "execution_count": 30,
   "id": "06e2cc9d",
   "metadata": {
    "scrolled": true
   },
   "outputs": [
    {
     "data": {
      "text/html": [
       "<div>\n",
       "<style scoped>\n",
       "    .dataframe tbody tr th:only-of-type {\n",
       "        vertical-align: middle;\n",
       "    }\n",
       "\n",
       "    .dataframe tbody tr th {\n",
       "        vertical-align: top;\n",
       "    }\n",
       "\n",
       "    .dataframe thead th {\n",
       "        text-align: right;\n",
       "    }\n",
       "</style>\n",
       "<table border=\"1\" class=\"dataframe\">\n",
       "  <thead>\n",
       "    <tr style=\"text-align: right;\">\n",
       "      <th></th>\n",
       "      <th>created_at</th>\n",
       "      <th>workpackage_total_size</th>\n",
       "      <th>task_output.answer</th>\n",
       "      <th>task_output.cant_solve</th>\n",
       "      <th>task_output.corrupt_data</th>\n",
       "      <th>task_output.duration_ms</th>\n",
       "      <th>user.id</th>\n",
       "      <th>user.vendor_user_id</th>\n",
       "      <th>is_bicycle</th>\n",
       "    </tr>\n",
       "  </thead>\n",
       "  <tbody>\n",
       "    <tr>\n",
       "      <th>0</th>\n",
       "      <td>2021-02-25 14:08:11.319438+00:00</td>\n",
       "      <td>5</td>\n",
       "      <td>no</td>\n",
       "      <td>False</td>\n",
       "      <td>False</td>\n",
       "      <td>997</td>\n",
       "      <td>08af8775-a72c-4c59-b60f-9ce7df04fa92</td>\n",
       "      <td>annotator_12</td>\n",
       "      <td>False</td>\n",
       "    </tr>\n",
       "    <tr>\n",
       "      <th>1</th>\n",
       "      <td>2021-02-25 13:53:31.698130+00:00</td>\n",
       "      <td>5</td>\n",
       "      <td>yes</td>\n",
       "      <td>False</td>\n",
       "      <td>False</td>\n",
       "      <td>1044</td>\n",
       "      <td>62f1cf90-71c9-45c5-990c-f9dc0aa6ea3d</td>\n",
       "      <td>annotator_11</td>\n",
       "      <td>False</td>\n",
       "    </tr>\n",
       "    <tr>\n",
       "      <th>2</th>\n",
       "      <td>2021-02-25 13:35:02.076869+00:00</td>\n",
       "      <td>5</td>\n",
       "      <td>no</td>\n",
       "      <td>False</td>\n",
       "      <td>False</td>\n",
       "      <td>848</td>\n",
       "      <td>e336139c-5228-42cd-b501-81855532dfa6</td>\n",
       "      <td>annotator_05</td>\n",
       "      <td>True</td>\n",
       "    </tr>\n",
       "    <tr>\n",
       "      <th>3</th>\n",
       "      <td>2021-02-26 03:53:40.752056+00:00</td>\n",
       "      <td>5</td>\n",
       "      <td>no</td>\n",
       "      <td>False</td>\n",
       "      <td>False</td>\n",
       "      <td>1077</td>\n",
       "      <td>5765cc32-9e32-43e1-bd78-384cfd52d55a</td>\n",
       "      <td>annotator_06</td>\n",
       "      <td>False</td>\n",
       "    </tr>\n",
       "    <tr>\n",
       "      <th>4</th>\n",
       "      <td>2021-02-25 10:19:19.501386+00:00</td>\n",
       "      <td>5</td>\n",
       "      <td>yes</td>\n",
       "      <td>False</td>\n",
       "      <td>False</td>\n",
       "      <td>1742</td>\n",
       "      <td>0e606b41-ebe4-4d7d-996c-db910c84971a</td>\n",
       "      <td>annotator_20</td>\n",
       "      <td>True</td>\n",
       "    </tr>\n",
       "    <tr>\n",
       "      <th>...</th>\n",
       "      <td>...</td>\n",
       "      <td>...</td>\n",
       "      <td>...</td>\n",
       "      <td>...</td>\n",
       "      <td>...</td>\n",
       "      <td>...</td>\n",
       "      <td>...</td>\n",
       "      <td>...</td>\n",
       "      <td>...</td>\n",
       "    </tr>\n",
       "    <tr>\n",
       "      <th>9082</th>\n",
       "      <td>2021-02-26 04:06:28.213617+00:00</td>\n",
       "      <td>5</td>\n",
       "      <td>yes</td>\n",
       "      <td>False</td>\n",
       "      <td>False</td>\n",
       "      <td>918</td>\n",
       "      <td>32971d11-e972-4d73-99a6-0847e1261995</td>\n",
       "      <td>annotator_18</td>\n",
       "      <td>no_output</td>\n",
       "    </tr>\n",
       "    <tr>\n",
       "      <th>9083</th>\n",
       "      <td>2021-02-25 12:50:45.388598+00:00</td>\n",
       "      <td>5</td>\n",
       "      <td>yes</td>\n",
       "      <td>False</td>\n",
       "      <td>False</td>\n",
       "      <td>1415</td>\n",
       "      <td>6d8be901-c6a6-43f8-a5ac-8e44b924bd84</td>\n",
       "      <td>annotator_09</td>\n",
       "      <td>no_output</td>\n",
       "    </tr>\n",
       "    <tr>\n",
       "      <th>9084</th>\n",
       "      <td>2021-02-25 15:10:56.190173+00:00</td>\n",
       "      <td>5</td>\n",
       "      <td>yes</td>\n",
       "      <td>False</td>\n",
       "      <td>False</td>\n",
       "      <td>1047</td>\n",
       "      <td>37a6036c-a9ef-4fcb-b554-7058f00415db</td>\n",
       "      <td>annotator_02</td>\n",
       "      <td>no_output</td>\n",
       "    </tr>\n",
       "    <tr>\n",
       "      <th>9085</th>\n",
       "      <td>2021-02-25 14:42:36.468576+00:00</td>\n",
       "      <td>5</td>\n",
       "      <td>no</td>\n",
       "      <td>False</td>\n",
       "      <td>False</td>\n",
       "      <td>911</td>\n",
       "      <td>6d8be901-c6a6-43f8-a5ac-8e44b924bd84</td>\n",
       "      <td>annotator_09</td>\n",
       "      <td>no_output</td>\n",
       "    </tr>\n",
       "    <tr>\n",
       "      <th>9086</th>\n",
       "      <td>2021-02-26 03:50:31.899478+00:00</td>\n",
       "      <td>5</td>\n",
       "      <td>yes</td>\n",
       "      <td>False</td>\n",
       "      <td>False</td>\n",
       "      <td>1467</td>\n",
       "      <td>94afdf79-917c-4904-bdaa-7a121f33b0ff</td>\n",
       "      <td>annotator_17</td>\n",
       "      <td>no_output</td>\n",
       "    </tr>\n",
       "  </tbody>\n",
       "</table>\n",
       "<p>9087 rows × 9 columns</p>\n",
       "</div>"
      ],
      "text/plain": [
       "                           created_at  workpackage_total_size  \\\n",
       "0    2021-02-25 14:08:11.319438+00:00                       5   \n",
       "1    2021-02-25 13:53:31.698130+00:00                       5   \n",
       "2    2021-02-25 13:35:02.076869+00:00                       5   \n",
       "3    2021-02-26 03:53:40.752056+00:00                       5   \n",
       "4    2021-02-25 10:19:19.501386+00:00                       5   \n",
       "...                               ...                     ...   \n",
       "9082 2021-02-26 04:06:28.213617+00:00                       5   \n",
       "9083 2021-02-25 12:50:45.388598+00:00                       5   \n",
       "9084 2021-02-25 15:10:56.190173+00:00                       5   \n",
       "9085 2021-02-25 14:42:36.468576+00:00                       5   \n",
       "9086 2021-02-26 03:50:31.899478+00:00                       5   \n",
       "\n",
       "     task_output.answer  task_output.cant_solve  task_output.corrupt_data  \\\n",
       "0                    no                   False                     False   \n",
       "1                   yes                   False                     False   \n",
       "2                    no                   False                     False   \n",
       "3                    no                   False                     False   \n",
       "4                   yes                   False                     False   \n",
       "...                 ...                     ...                       ...   \n",
       "9082                yes                   False                     False   \n",
       "9083                yes                   False                     False   \n",
       "9084                yes                   False                     False   \n",
       "9085                 no                   False                     False   \n",
       "9086                yes                   False                     False   \n",
       "\n",
       "      task_output.duration_ms                               user.id  \\\n",
       "0                         997  08af8775-a72c-4c59-b60f-9ce7df04fa92   \n",
       "1                        1044  62f1cf90-71c9-45c5-990c-f9dc0aa6ea3d   \n",
       "2                         848  e336139c-5228-42cd-b501-81855532dfa6   \n",
       "3                        1077  5765cc32-9e32-43e1-bd78-384cfd52d55a   \n",
       "4                        1742  0e606b41-ebe4-4d7d-996c-db910c84971a   \n",
       "...                       ...                                   ...   \n",
       "9082                      918  32971d11-e972-4d73-99a6-0847e1261995   \n",
       "9083                     1415  6d8be901-c6a6-43f8-a5ac-8e44b924bd84   \n",
       "9084                     1047  37a6036c-a9ef-4fcb-b554-7058f00415db   \n",
       "9085                      911  6d8be901-c6a6-43f8-a5ac-8e44b924bd84   \n",
       "9086                     1467  94afdf79-917c-4904-bdaa-7a121f33b0ff   \n",
       "\n",
       "     user.vendor_user_id is_bicycle  \n",
       "0           annotator_12      False  \n",
       "1           annotator_11      False  \n",
       "2           annotator_05       True  \n",
       "3           annotator_06      False  \n",
       "4           annotator_20       True  \n",
       "...                  ...        ...  \n",
       "9082        annotator_18  no_output  \n",
       "9083        annotator_09  no_output  \n",
       "9084        annotator_02  no_output  \n",
       "9085        annotator_09  no_output  \n",
       "9086        annotator_17  no_output  \n",
       "\n",
       "[9087 rows x 9 columns]"
      ]
     },
     "execution_count": 30,
     "metadata": {},
     "output_type": "execute_result"
    }
   ],
   "source": [
    "df['created_at'] = pd.to_datetime(df['created_at'], infer_datetime_format=True)\n",
    "#df['task_output.duration_ms'] = pd.to_time(df['task_output.duration_ms'], unit = 'ms')\n",
    "#df['task_output.duration_ms'] = pd.to_timedelta(df['task_output.duration_ms'])\n",
    "#df['task_output.duration_ms']=df['task_output.duration_ms'].strftime('%s%f')[:-3]\n",
    "df"
   ]
  },
  {
   "cell_type": "code",
   "execution_count": 31,
   "id": "1605d82d",
   "metadata": {},
   "outputs": [
    {
     "data": {
      "text/plain": [
       "22"
      ]
     },
     "execution_count": 31,
     "metadata": {},
     "output_type": "execute_result"
    }
   ],
   "source": [
    "df['user.vendor_user_id'].value_counts().count()"
   ]
  },
  {
   "cell_type": "code",
   "execution_count": 32,
   "id": "8f7621a8",
   "metadata": {},
   "outputs": [
    {
     "name": "stdout",
     "output_type": "stream",
     "text": [
      "<class 'pandas.core.frame.DataFrame'>\n",
      "RangeIndex: 9087 entries, 0 to 9086\n",
      "Data columns (total 9 columns):\n",
      " #   Column                    Non-Null Count  Dtype              \n",
      "---  ------                    --------------  -----              \n",
      " 0   created_at                9087 non-null   datetime64[ns, UTC]\n",
      " 1   workpackage_total_size    9087 non-null   int64              \n",
      " 2   task_output.answer        9087 non-null   object             \n",
      " 3   task_output.cant_solve    9087 non-null   bool               \n",
      " 4   task_output.corrupt_data  9087 non-null   bool               \n",
      " 5   task_output.duration_ms   9087 non-null   int64              \n",
      " 6   user.id                   9087 non-null   object             \n",
      " 7   user.vendor_user_id       9087 non-null   object             \n",
      " 8   is_bicycle                9087 non-null   object             \n",
      "dtypes: bool(2), datetime64[ns, UTC](1), int64(2), object(4)\n",
      "memory usage: 514.8+ KB\n"
     ]
    }
   ],
   "source": [
    "df.info()"
   ]
  },
  {
   "cell_type": "code",
   "execution_count": 33,
   "id": "2ff4edc3",
   "metadata": {},
   "outputs": [],
   "source": [
    "## Function to visualise annotators\n",
    "def annotator_visual(df,column):\n",
    "    col=column\n",
    "    df[col] = df[col].value_counts().plot(kind='bar')\n",
    "    #df[feature].value_counts().plot.bar(figsize = (8, 6))\n",
    "    plt.xlabel('annatators')\n",
    "    plt.ylabel('count')\n",
    "    # Show graph\n",
    "    plt.show()\n",
    "#vendor_visual(filter_df,'user.vendor_user_id')    \n"
   ]
  },
  {
   "cell_type": "code",
   "execution_count": 76,
   "id": "2327d03f",
   "metadata": {},
   "outputs": [],
   "source": [
    "##Function to calculate annotators percentage\n",
    "def annot_percent(df,column):\n",
    "    df_=df[column].value_counts().to_frame().reset_index().rename(columns={'index':'annotator'})\n",
    "    df_['annotator %'] = ((df_[column] / df_[column] .sum())*100).round(2).astype(str) + '%'\n",
    "    return df_"
   ]
  },
  {
   "cell_type": "markdown",
   "id": "14dc744b",
   "metadata": {},
   "source": [
    "### Tasks\n",
    "#### 1. Gather insights about the annotators:\n",
    " #### - a.  How many annotators did contribute to the dataset?"
   ]
  },
  {
   "cell_type": "code",
   "execution_count": 36,
   "id": "dfd71e05",
   "metadata": {},
   "outputs": [
    {
     "name": "stdout",
     "output_type": "stream",
     "text": [
      "The total annotators are contributing to the datase: 22\n"
     ]
    }
   ],
   "source": [
    "a=df['user.vendor_user_id'].value_counts().count()\n",
    "print('The total annotators are contributing to the datase:', a)"
   ]
  },
  {
   "cell_type": "code",
   "execution_count": 35,
   "id": "1745853b",
   "metadata": {},
   "outputs": [
    {
     "data": {
      "image/png": "[encoded data removed]",
      "text/plain": [
       "<Figure size 640x480 with 1 Axes>"
      ]
     },
     "metadata": {},
     "output_type": "display_data"
    }
   ],
   "source": [
    "annotator_visual(df.copy(),'user.vendor_user_id') "
   ]
  },
  {
   "cell_type": "markdown",
   "id": "2526d6ce",
   "metadata": {},
   "source": [
    "#### Insights from annotators class\n",
    "- There are 22 annotators in total\n",
    "-  The heighest number of jobs(771jobs) done by 'annotator-2' and the less work done by 'annotator-19(19jobs)'.\n",
    "\n",
    "\n"
   ]
  },
  {
   "cell_type": "markdown",
   "id": "0658d3c3",
   "metadata": {},
   "source": [
    "#### 1.b. What are the average, min and max annotation times (durations)? Feel free toadd visual representations here such as graphs if you like."
   ]
  },
  {
   "cell_type": "code",
   "execution_count": 37,
   "id": "58fefe57",
   "metadata": {
    "scrolled": true
   },
   "outputs": [
    {
     "data": {
      "text/html": [
       "<div>\n",
       "<style scoped>\n",
       "    .dataframe tbody tr th:only-of-type {\n",
       "        vertical-align: middle;\n",
       "    }\n",
       "\n",
       "    .dataframe tbody tr th {\n",
       "        vertical-align: top;\n",
       "    }\n",
       "\n",
       "    .dataframe thead th {\n",
       "        text-align: right;\n",
       "    }\n",
       "</style>\n",
       "<table border=\"1\" class=\"dataframe\">\n",
       "  <thead>\n",
       "    <tr style=\"text-align: right;\">\n",
       "      <th></th>\n",
       "      <th>user.vendor_user_id</th>\n",
       "      <th>tasktime_Min</th>\n",
       "      <th>tasktime_Max</th>\n",
       "      <th>tasktime_mean</th>\n",
       "    </tr>\n",
       "  </thead>\n",
       "  <tbody>\n",
       "    <tr>\n",
       "      <th>19</th>\n",
       "      <td>annotator_20</td>\n",
       "      <td>70</td>\n",
       "      <td>7753</td>\n",
       "      <td>1179.331137</td>\n",
       "    </tr>\n",
       "    <tr>\n",
       "      <th>7</th>\n",
       "      <td>annotator_08</td>\n",
       "      <td>166</td>\n",
       "      <td>14310</td>\n",
       "      <td>1413.185022</td>\n",
       "    </tr>\n",
       "    <tr>\n",
       "      <th>21</th>\n",
       "      <td>annotator_22</td>\n",
       "      <td>349</td>\n",
       "      <td>3300</td>\n",
       "      <td>890.217877</td>\n",
       "    </tr>\n",
       "    <tr>\n",
       "      <th>10</th>\n",
       "      <td>annotator_11</td>\n",
       "      <td>479</td>\n",
       "      <td>11079</td>\n",
       "      <td>1256.322528</td>\n",
       "    </tr>\n",
       "    <tr>\n",
       "      <th>9</th>\n",
       "      <td>annotator_10</td>\n",
       "      <td>486</td>\n",
       "      <td>7302</td>\n",
       "      <td>1284.709677</td>\n",
       "    </tr>\n",
       "    <tr>\n",
       "      <th>16</th>\n",
       "      <td>annotator_17</td>\n",
       "      <td>495</td>\n",
       "      <td>3583</td>\n",
       "      <td>986.675362</td>\n",
       "    </tr>\n",
       "    <tr>\n",
       "      <th>20</th>\n",
       "      <td>annotator_21</td>\n",
       "      <td>495</td>\n",
       "      <td>9999</td>\n",
       "      <td>1193.451389</td>\n",
       "    </tr>\n",
       "    <tr>\n",
       "      <th>6</th>\n",
       "      <td>annotator_07</td>\n",
       "      <td>525</td>\n",
       "      <td>10672</td>\n",
       "      <td>1450.868182</td>\n",
       "    </tr>\n",
       "    <tr>\n",
       "      <th>8</th>\n",
       "      <td>annotator_09</td>\n",
       "      <td>558</td>\n",
       "      <td>13385</td>\n",
       "      <td>1199.093117</td>\n",
       "    </tr>\n",
       "    <tr>\n",
       "      <th>3</th>\n",
       "      <td>annotator_04</td>\n",
       "      <td>565</td>\n",
       "      <td>10389</td>\n",
       "      <td>1146.992272</td>\n",
       "    </tr>\n",
       "    <tr>\n",
       "      <th>0</th>\n",
       "      <td>annotator_01</td>\n",
       "      <td>572</td>\n",
       "      <td>4630</td>\n",
       "      <td>1058.541667</td>\n",
       "    </tr>\n",
       "    <tr>\n",
       "      <th>2</th>\n",
       "      <td>annotator_03</td>\n",
       "      <td>589</td>\n",
       "      <td>4750</td>\n",
       "      <td>1208.039216</td>\n",
       "    </tr>\n",
       "    <tr>\n",
       "      <th>11</th>\n",
       "      <td>annotator_12</td>\n",
       "      <td>589</td>\n",
       "      <td>16565</td>\n",
       "      <td>1297.053628</td>\n",
       "    </tr>\n",
       "    <tr>\n",
       "      <th>15</th>\n",
       "      <td>annotator_16</td>\n",
       "      <td>591</td>\n",
       "      <td>22311</td>\n",
       "      <td>1305.661509</td>\n",
       "    </tr>\n",
       "    <tr>\n",
       "      <th>1</th>\n",
       "      <td>annotator_02</td>\n",
       "      <td>598</td>\n",
       "      <td>8912</td>\n",
       "      <td>1197.207523</td>\n",
       "    </tr>\n",
       "    <tr>\n",
       "      <th>12</th>\n",
       "      <td>annotator_13</td>\n",
       "      <td>607</td>\n",
       "      <td>24000</td>\n",
       "      <td>1197.879213</td>\n",
       "    </tr>\n",
       "    <tr>\n",
       "      <th>5</th>\n",
       "      <td>annotator_06</td>\n",
       "      <td>615</td>\n",
       "      <td>19622</td>\n",
       "      <td>1496.853516</td>\n",
       "    </tr>\n",
       "    <tr>\n",
       "      <th>14</th>\n",
       "      <td>annotator_15</td>\n",
       "      <td>653</td>\n",
       "      <td>7228</td>\n",
       "      <td>1342.390285</td>\n",
       "    </tr>\n",
       "    <tr>\n",
       "      <th>4</th>\n",
       "      <td>annotator_05</td>\n",
       "      <td>670</td>\n",
       "      <td>12038</td>\n",
       "      <td>1417.239645</td>\n",
       "    </tr>\n",
       "    <tr>\n",
       "      <th>13</th>\n",
       "      <td>annotator_14</td>\n",
       "      <td>686</td>\n",
       "      <td>24757</td>\n",
       "      <td>1612.388571</td>\n",
       "    </tr>\n",
       "    <tr>\n",
       "      <th>17</th>\n",
       "      <td>annotator_18</td>\n",
       "      <td>743</td>\n",
       "      <td>15128</td>\n",
       "      <td>1667.818898</td>\n",
       "    </tr>\n",
       "    <tr>\n",
       "      <th>18</th>\n",
       "      <td>annotator_19</td>\n",
       "      <td>774</td>\n",
       "      <td>10518</td>\n",
       "      <td>1921.263158</td>\n",
       "    </tr>\n",
       "  </tbody>\n",
       "</table>\n",
       "</div>"
      ],
      "text/plain": [
       "   user.vendor_user_id  tasktime_Min  tasktime_Max  tasktime_mean\n",
       "19        annotator_20            70          7753    1179.331137\n",
       "7         annotator_08           166         14310    1413.185022\n",
       "21        annotator_22           349          3300     890.217877\n",
       "10        annotator_11           479         11079    1256.322528\n",
       "9         annotator_10           486          7302    1284.709677\n",
       "16        annotator_17           495          3583     986.675362\n",
       "20        annotator_21           495          9999    1193.451389\n",
       "6         annotator_07           525         10672    1450.868182\n",
       "8         annotator_09           558         13385    1199.093117\n",
       "3         annotator_04           565         10389    1146.992272\n",
       "0         annotator_01           572          4630    1058.541667\n",
       "2         annotator_03           589          4750    1208.039216\n",
       "11        annotator_12           589         16565    1297.053628\n",
       "15        annotator_16           591         22311    1305.661509\n",
       "1         annotator_02           598          8912    1197.207523\n",
       "12        annotator_13           607         24000    1197.879213\n",
       "5         annotator_06           615         19622    1496.853516\n",
       "14        annotator_15           653          7228    1342.390285\n",
       "4         annotator_05           670         12038    1417.239645\n",
       "13        annotator_14           686         24757    1612.388571\n",
       "17        annotator_18           743         15128    1667.818898\n",
       "18        annotator_19           774         10518    1921.263158"
      ]
     },
     "execution_count": 37,
     "metadata": {},
     "output_type": "execute_result"
    }
   ],
   "source": [
    "#df.groupby('user.vendor_user_id')['task_output.duration_ms'].agg()\n",
    "df_time=df.groupby(['user.vendor_user_id'])['task_output.duration_ms'].agg([('Min' , 'min'), ('Max', 'max'),\n",
    "                                                                                              ('mean','mean')]).add_prefix('tasktime_').reset_index().sort_values(['tasktime_Min',\n",
    "                                                                                              'tasktime_Max','tasktime_mean'])\n",
    "df_time\n"
   ]
  },
  {
   "cell_type": "markdown",
   "id": "db6bd594",
   "metadata": {},
   "source": [
    "### Insights\n",
    "\n",
    "- Form the above data annotator_20 took min time 70ms to complete the task and annotator_14 took max time 24757 ms to complete task.\n",
    "- Both cases the output answer is 'yes'.\n",
    "\n",
    "### Lets see visually the max and min task time\n"
   ]
  },
  {
   "cell_type": "code",
   "execution_count": 38,
   "id": "98d1ef17",
   "metadata": {},
   "outputs": [
    {
     "data": {
      "text/plain": [
       "<Axes: xlabel='user.vendor_user_id'>"
      ]
     },
     "execution_count": 38,
     "metadata": {},
     "output_type": "execute_result"
    },
    {
     "data": {
      "image/png": "[encoded data removed]",
      "text/plain": [
       "<Figure size 640x480 with 1 Axes>"
      ]
     },
     "metadata": {},
     "output_type": "display_data"
    }
   ],
   "source": [
    "df_time.groupby(['user.vendor_user_id']).sum().plot(kind='bar')"
   ]
  },
  {
   "cell_type": "markdown",
   "id": "42e04fb5",
   "metadata": {},
   "source": [
    "#### Insignts\n",
    "- Form the above data annotator_20 took min time 70ms to complete the task and annotator_14 took max time 24757 mins to complete task.\n",
    "- Both cases the output answer is 'yes'.\n",
    "\n",
    "#### Lets see visually the max and min task time"
   ]
  },
  {
   "cell_type": "code",
   "execution_count": 39,
   "id": "ab167376",
   "metadata": {},
   "outputs": [
    {
     "data": {
      "text/plain": [
       "<Axes: xlabel='user.vendor_user_id'>"
      ]
     },
     "execution_count": 39,
     "metadata": {},
     "output_type": "execute_result"
    },
    {
     "data": {
      "image/png": "[encoded data removed]",
      "text/plain": [
       "<Figure size 640x480 with 1 Axes>"
      ]
     },
     "metadata": {},
     "output_type": "display_data"
    }
   ],
   "source": [
    "df_time.groupby(['user.vendor_user_id']).sum().plot(kind='bar')"
   ]
  },
  {
   "cell_type": "markdown",
   "id": "04173975",
   "metadata": {},
   "source": [
    "#### 1.c. Did all annotators produce the same amount of results, or are there differences?"
   ]
  },
  {
   "cell_type": "code",
   "execution_count": 77,
   "id": "67bd3664",
   "metadata": {},
   "outputs": [
    {
     "data": {
      "text/html": [
       "<div>\n",
       "<style scoped>\n",
       "    .dataframe tbody tr th:only-of-type {\n",
       "        vertical-align: middle;\n",
       "    }\n",
       "\n",
       "    .dataframe tbody tr th {\n",
       "        vertical-align: top;\n",
       "    }\n",
       "\n",
       "    .dataframe thead th {\n",
       "        text-align: right;\n",
       "    }\n",
       "</style>\n",
       "<table border=\"1\" class=\"dataframe\">\n",
       "  <thead>\n",
       "    <tr style=\"text-align: right;\">\n",
       "      <th></th>\n",
       "      <th>annotator</th>\n",
       "      <th>user.vendor_user_id</th>\n",
       "      <th>annotator %</th>\n",
       "    </tr>\n",
       "  </thead>\n",
       "  <tbody>\n",
       "    <tr>\n",
       "      <th>0</th>\n",
       "      <td>annotator_02</td>\n",
       "      <td>771</td>\n",
       "      <td>8.48%</td>\n",
       "    </tr>\n",
       "    <tr>\n",
       "      <th>1</th>\n",
       "      <td>annotator_13</td>\n",
       "      <td>712</td>\n",
       "      <td>7.84%</td>\n",
       "    </tr>\n",
       "    <tr>\n",
       "      <th>2</th>\n",
       "      <td>annotator_08</td>\n",
       "      <td>681</td>\n",
       "      <td>7.49%</td>\n",
       "    </tr>\n",
       "    <tr>\n",
       "      <th>3</th>\n",
       "      <td>annotator_04</td>\n",
       "      <td>647</td>\n",
       "      <td>7.12%</td>\n",
       "    </tr>\n",
       "    <tr>\n",
       "      <th>4</th>\n",
       "      <td>annotator_12</td>\n",
       "      <td>634</td>\n",
       "      <td>6.98%</td>\n",
       "    </tr>\n",
       "    <tr>\n",
       "      <th>5</th>\n",
       "      <td>annotator_11</td>\n",
       "      <td>617</td>\n",
       "      <td>6.79%</td>\n",
       "    </tr>\n",
       "    <tr>\n",
       "      <th>6</th>\n",
       "      <td>annotator_20</td>\n",
       "      <td>607</td>\n",
       "      <td>6.68%</td>\n",
       "    </tr>\n",
       "    <tr>\n",
       "      <th>7</th>\n",
       "      <td>annotator_15</td>\n",
       "      <td>597</td>\n",
       "      <td>6.57%</td>\n",
       "    </tr>\n",
       "    <tr>\n",
       "      <th>8</th>\n",
       "      <td>annotator_16</td>\n",
       "      <td>517</td>\n",
       "      <td>5.69%</td>\n",
       "    </tr>\n",
       "    <tr>\n",
       "      <th>9</th>\n",
       "      <td>annotator_06</td>\n",
       "      <td>512</td>\n",
       "      <td>5.63%</td>\n",
       "    </tr>\n",
       "    <tr>\n",
       "      <th>10</th>\n",
       "      <td>annotator_18</td>\n",
       "      <td>508</td>\n",
       "      <td>5.59%</td>\n",
       "    </tr>\n",
       "    <tr>\n",
       "      <th>11</th>\n",
       "      <td>annotator_09</td>\n",
       "      <td>494</td>\n",
       "      <td>5.44%</td>\n",
       "    </tr>\n",
       "    <tr>\n",
       "      <th>12</th>\n",
       "      <td>annotator_17</td>\n",
       "      <td>345</td>\n",
       "      <td>3.8%</td>\n",
       "    </tr>\n",
       "    <tr>\n",
       "      <th>13</th>\n",
       "      <td>annotator_05</td>\n",
       "      <td>338</td>\n",
       "      <td>3.72%</td>\n",
       "    </tr>\n",
       "    <tr>\n",
       "      <th>14</th>\n",
       "      <td>annotator_21</td>\n",
       "      <td>288</td>\n",
       "      <td>3.17%</td>\n",
       "    </tr>\n",
       "    <tr>\n",
       "      <th>15</th>\n",
       "      <td>annotator_07</td>\n",
       "      <td>220</td>\n",
       "      <td>2.42%</td>\n",
       "    </tr>\n",
       "    <tr>\n",
       "      <th>16</th>\n",
       "      <td>annotator_22</td>\n",
       "      <td>179</td>\n",
       "      <td>1.97%</td>\n",
       "    </tr>\n",
       "    <tr>\n",
       "      <th>17</th>\n",
       "      <td>annotator_14</td>\n",
       "      <td>175</td>\n",
       "      <td>1.93%</td>\n",
       "    </tr>\n",
       "    <tr>\n",
       "      <th>18</th>\n",
       "      <td>annotator_01</td>\n",
       "      <td>144</td>\n",
       "      <td>1.58%</td>\n",
       "    </tr>\n",
       "    <tr>\n",
       "      <th>19</th>\n",
       "      <td>annotator_03</td>\n",
       "      <td>51</td>\n",
       "      <td>0.56%</td>\n",
       "    </tr>\n",
       "    <tr>\n",
       "      <th>20</th>\n",
       "      <td>annotator_10</td>\n",
       "      <td>31</td>\n",
       "      <td>0.34%</td>\n",
       "    </tr>\n",
       "    <tr>\n",
       "      <th>21</th>\n",
       "      <td>annotator_19</td>\n",
       "      <td>19</td>\n",
       "      <td>0.21%</td>\n",
       "    </tr>\n",
       "  </tbody>\n",
       "</table>\n",
       "</div>"
      ],
      "text/plain": [
       "       annotator  user.vendor_user_id annotator %\n",
       "0   annotator_02                  771       8.48%\n",
       "1   annotator_13                  712       7.84%\n",
       "2   annotator_08                  681       7.49%\n",
       "3   annotator_04                  647       7.12%\n",
       "4   annotator_12                  634       6.98%\n",
       "5   annotator_11                  617       6.79%\n",
       "6   annotator_20                  607       6.68%\n",
       "7   annotator_15                  597       6.57%\n",
       "8   annotator_16                  517       5.69%\n",
       "9   annotator_06                  512       5.63%\n",
       "10  annotator_18                  508       5.59%\n",
       "11  annotator_09                  494       5.44%\n",
       "12  annotator_17                  345        3.8%\n",
       "13  annotator_05                  338       3.72%\n",
       "14  annotator_21                  288       3.17%\n",
       "15  annotator_07                  220       2.42%\n",
       "16  annotator_22                  179       1.97%\n",
       "17  annotator_14                  175       1.93%\n",
       "18  annotator_01                  144       1.58%\n",
       "19  annotator_03                   51       0.56%\n",
       "20  annotator_10                   31       0.34%\n",
       "21  annotator_19                   19       0.21%"
      ]
     },
     "execution_count": 77,
     "metadata": {},
     "output_type": "execute_result"
    }
   ],
   "source": [
    "##Calling annot_percent function to calcutlate percentage\n",
    "annot_percent(df.copy(),'user.vendor_user_id')"
   ]
  },
  {
   "cell_type": "code",
   "execution_count": 43,
   "id": "d3bb21b6",
   "metadata": {
    "scrolled": true
   },
   "outputs": [
    {
     "data": {
      "image/png": "[encoded data removed]",
      "text/plain": [
       "<Figure size 640x480 with 1 Axes>"
      ]
     },
     "metadata": {},
     "output_type": "display_data"
    }
   ],
   "source": [
    "#calling annotator function\n",
    "annotator_visual(df.copy(),'user.vendor_user_id')"
   ]
  },
  {
   "cell_type": "markdown",
   "id": "91318787",
   "metadata": {},
   "source": [
    "#### Insights\n",
    "- From the above analysis all annotators are not producing same amount of results.\n",
    "- Annotator-2 is producing more results(8.48%).\n",
    "- Annotatos -19 is producing least results(0.21%)"
   ]
  },
  {
   "cell_type": "markdown",
   "id": "e9b22684",
   "metadata": {},
   "source": [
    "#### 2. Besides picking yes or no the annotators had the chance to tell if the data werecorrupted or if they for any reason were not able to solve the task. These are fields'cant_solve' and 'corrupt_data' given in the task_output.a. How often does each occur in the project and do you see a trend within theannotators that made use of these options?"
   ]
  },
  {
   "cell_type": "code",
   "execution_count": 51,
   "id": "f067684c",
   "metadata": {
    "scrolled": true
   },
   "outputs": [
    {
     "data": {
      "text/html": [
       "<div>\n",
       "<style scoped>\n",
       "    .dataframe tbody tr th:only-of-type {\n",
       "        vertical-align: middle;\n",
       "    }\n",
       "\n",
       "    .dataframe tbody tr th {\n",
       "        vertical-align: top;\n",
       "    }\n",
       "\n",
       "    .dataframe thead th {\n",
       "        text-align: right;\n",
       "    }\n",
       "</style>\n",
       "<table border=\"1\" class=\"dataframe\">\n",
       "  <thead>\n",
       "    <tr style=\"text-align: right;\">\n",
       "      <th></th>\n",
       "      <th>created_at</th>\n",
       "      <th>workpackage_total_size</th>\n",
       "      <th>task_output.answer</th>\n",
       "      <th>task_output.cant_solve</th>\n",
       "      <th>task_output.corrupt_data</th>\n",
       "      <th>task_output.duration_ms</th>\n",
       "      <th>user.id</th>\n",
       "      <th>user.vendor_user_id</th>\n",
       "      <th>is_bicycle</th>\n",
       "    </tr>\n",
       "  </thead>\n",
       "  <tbody>\n",
       "    <tr>\n",
       "      <th>0</th>\n",
       "      <td>2021-02-25 13:16:11.077555+00:00</td>\n",
       "      <td>5</td>\n",
       "      <td>no_output</td>\n",
       "      <td>True</td>\n",
       "      <td>False</td>\n",
       "      <td>746</td>\n",
       "      <td>9fddf227-6680-42f5-aca5-533fc439c193</td>\n",
       "      <td>annotator_04</td>\n",
       "      <td>no_output</td>\n",
       "    </tr>\n",
       "    <tr>\n",
       "      <th>1</th>\n",
       "      <td>2021-02-25 10:10:08.355604+00:00</td>\n",
       "      <td>5</td>\n",
       "      <td>no_output</td>\n",
       "      <td>True</td>\n",
       "      <td>False</td>\n",
       "      <td>783</td>\n",
       "      <td>0e606b41-ebe4-4d7d-996c-db910c84971a</td>\n",
       "      <td>annotator_20</td>\n",
       "      <td>no_output</td>\n",
       "    </tr>\n",
       "  </tbody>\n",
       "</table>\n",
       "</div>"
      ],
      "text/plain": [
       "                        created_at  workpackage_total_size task_output.answer  \\\n",
       "0 2021-02-25 13:16:11.077555+00:00                       5          no_output   \n",
       "1 2021-02-25 10:10:08.355604+00:00                       5          no_output   \n",
       "\n",
       "   task_output.cant_solve  task_output.corrupt_data  task_output.duration_ms  \\\n",
       "0                    True                     False                      746   \n",
       "1                    True                     False                      783   \n",
       "\n",
       "                                user.id user.vendor_user_id is_bicycle  \n",
       "0  9fddf227-6680-42f5-aca5-533fc439c193        annotator_04  no_output  \n",
       "1  0e606b41-ebe4-4d7d-996c-db910c84971a        annotator_20  no_output  "
      ]
     },
     "execution_count": 51,
     "metadata": {},
     "output_type": "execute_result"
    }
   ],
   "source": [
    "df.loc[(df['task_output.answer']!='yes') & (df['task_output.answer'] != 'no')].reset_index(drop=True)"
   ]
  },
  {
   "cell_type": "code",
   "execution_count": 46,
   "id": "537aadfe",
   "metadata": {},
   "outputs": [
    {
     "data": {
      "image/png": "[encoded data removed]",
      "text/plain": [
       "<Figure size 640x480 with 1 Axes>"
      ]
     },
     "metadata": {},
     "output_type": "display_data"
    }
   ],
   "source": [
    "def task_output_visual(df,column):\n",
    "    col=column\n",
    "    df[col] = df[col].value_counts().plot(kind='bar')\n",
    "    #df[feature].value_counts().plot.bar(figsize = (8, 6))\n",
    "    plt.xlabel(\"OutputClass\")\n",
    "    plt.ylabel(\"Frequency\")\n",
    "    # Show graph\n",
    "    plt.show()\n",
    "task_output_visual(df.copy(),'task_output.answer')"
   ]
  },
  {
   "cell_type": "markdown",
   "id": "4838b47c",
   "metadata": {},
   "source": [
    "### Observations\n",
    "- There are only two instances occured with can#t solve output .\n",
    "- There are no instances that output corrupt_ data is true."
   ]
  },
  {
   "cell_type": "markdown",
   "id": "3e175313",
   "metadata": {},
   "source": [
    "#### 3. Is the reference set balanced? Please demonstrate via numbers and visualizations."
   ]
  },
  {
   "cell_type": "code",
   "execution_count": 47,
   "id": "d636a738",
   "metadata": {},
   "outputs": [
    {
     "data": {
      "text/html": [
       "<div>\n",
       "<style scoped>\n",
       "    .dataframe tbody tr th:only-of-type {\n",
       "        vertical-align: middle;\n",
       "    }\n",
       "\n",
       "    .dataframe tbody tr th {\n",
       "        vertical-align: top;\n",
       "    }\n",
       "\n",
       "    .dataframe thead th {\n",
       "        text-align: right;\n",
       "    }\n",
       "</style>\n",
       "<table border=\"1\" class=\"dataframe\">\n",
       "  <thead>\n",
       "    <tr style=\"text-align: right;\">\n",
       "      <th></th>\n",
       "      <th>is_bicycle</th>\n",
       "    </tr>\n",
       "  </thead>\n",
       "  <tbody>\n",
       "    <tr>\n",
       "      <th>no_output</th>\n",
       "      <td>8178</td>\n",
       "    </tr>\n",
       "    <tr>\n",
       "      <th>True</th>\n",
       "      <td>462</td>\n",
       "    </tr>\n",
       "    <tr>\n",
       "      <th>False</th>\n",
       "      <td>447</td>\n",
       "    </tr>\n",
       "  </tbody>\n",
       "</table>\n",
       "</div>"
      ],
      "text/plain": [
       "           is_bicycle\n",
       "no_output        8178\n",
       "True              462\n",
       "False             447"
      ]
     },
     "execution_count": 47,
     "metadata": {},
     "output_type": "execute_result"
    }
   ],
   "source": [
    "df['is_bicycle'].value_counts().to_frame()"
   ]
  },
  {
   "cell_type": "markdown",
   "id": "9c442cfa",
   "metadata": {},
   "source": [
    "### Insights\n",
    "- From the above information more pecentage of data is missing.\n",
    "- Lets see visually how data fall."
   ]
  },
  {
   "cell_type": "code",
   "execution_count": 51,
   "id": "a8bf133b",
   "metadata": {
    "scrolled": true
   },
   "outputs": [
    {
     "data": {
      "image/png": "[encoded data removed]",
      "text/plain": [
       "<Figure size 640x480 with 1 Axes>"
      ]
     },
     "metadata": {},
     "output_type": "display_data"
    }
   ],
   "source": [
    "def is_bicycle_visual(df,column):\n",
    "    col=column\n",
    "    df[col] = df[col].value_counts().plot(kind='bar')\n",
    "    #df[feature].value_counts().plot.bar(figsize = (8, 6))\n",
    "    plt.xlabel(\"BiclycleClass\")\n",
    "    plt.ylabel(\"Frequency\")\n",
    "    # Show graph\n",
    "    plt.show()\n",
    "task_output_visual(df.copy(),'is_bicycle')"
   ]
  },
  {
   "cell_type": "code",
   "execution_count": 52,
   "id": "f5e59c41",
   "metadata": {},
   "outputs": [
    {
     "data": {
      "text/plain": [
       "([<matplotlib.patches.Wedge at 0x27087c70130>,\n",
       "  <matplotlib.patches.Wedge at 0x27087c70c10>,\n",
       "  <matplotlib.patches.Wedge at 0x270912b4be0>],\n",
       " [Text(-1.0461269378609301, 0.3400271016870773, 'no_output'),\n",
       "  Text(0.9813215409759307, -0.49699902737995866, 'True'),\n",
       "  Text(1.0868909570886391, -0.16931641207792592, 'False')],\n",
       " [Text(-0.5706146933786891, 0.18546932819295123, '90.0%\\n8178'),\n",
       "  Text(0.5352662950777803, -0.2710903785708865, '5.1%\\n462'),\n",
       "  Text(0.5928496129574395, -0.09235440658795958, '4.9%\\n447')])"
      ]
     },
     "execution_count": 52,
     "metadata": {},
     "output_type": "execute_result"
    },
    {
     "data": {
      "image/png": "[encoded data removed]",
      "text/plain": [
       "<Figure size 640x480 with 1 Axes>"
      ]
     },
     "metadata": {},
     "output_type": "display_data"
    }
   ],
   "source": [
    "total = df['is_bicycle'].value_counts().values.sum()\n",
    "def fmt(x):\n",
    "    return '{:.1f}%\\n{:.0f}'.format(x, total*x/100)\n",
    "\n",
    "plt.pie(df['is_bicycle'].value_counts().values, labels=df['is_bicycle'].value_counts().index, autopct=fmt)"
   ]
  },
  {
   "cell_type": "markdown",
   "id": "c39a40f0",
   "metadata": {},
   "source": [
    "### Filter data with output values to further analysis"
   ]
  },
  {
   "cell_type": "code",
   "execution_count": 53,
   "id": "590c8db4",
   "metadata": {},
   "outputs": [
    {
     "data": {
      "text/html": [
       "<div>\n",
       "<style scoped>\n",
       "    .dataframe tbody tr th:only-of-type {\n",
       "        vertical-align: middle;\n",
       "    }\n",
       "\n",
       "    .dataframe tbody tr th {\n",
       "        vertical-align: top;\n",
       "    }\n",
       "\n",
       "    .dataframe thead th {\n",
       "        text-align: right;\n",
       "    }\n",
       "</style>\n",
       "<table border=\"1\" class=\"dataframe\">\n",
       "  <thead>\n",
       "    <tr style=\"text-align: right;\">\n",
       "      <th></th>\n",
       "      <th>user.vendor_user_id</th>\n",
       "      <th>task_output.answer</th>\n",
       "      <th>task_output.duration_ms</th>\n",
       "      <th>is_bicycle</th>\n",
       "    </tr>\n",
       "  </thead>\n",
       "  <tbody>\n",
       "    <tr>\n",
       "      <th>0</th>\n",
       "      <td>annotator_12</td>\n",
       "      <td>no</td>\n",
       "      <td>997</td>\n",
       "      <td>False</td>\n",
       "    </tr>\n",
       "    <tr>\n",
       "      <th>1</th>\n",
       "      <td>annotator_11</td>\n",
       "      <td>yes</td>\n",
       "      <td>1044</td>\n",
       "      <td>False</td>\n",
       "    </tr>\n",
       "    <tr>\n",
       "      <th>2</th>\n",
       "      <td>annotator_05</td>\n",
       "      <td>no</td>\n",
       "      <td>848</td>\n",
       "      <td>True</td>\n",
       "    </tr>\n",
       "    <tr>\n",
       "      <th>3</th>\n",
       "      <td>annotator_06</td>\n",
       "      <td>no</td>\n",
       "      <td>1077</td>\n",
       "      <td>False</td>\n",
       "    </tr>\n",
       "    <tr>\n",
       "      <th>4</th>\n",
       "      <td>annotator_20</td>\n",
       "      <td>yes</td>\n",
       "      <td>1742</td>\n",
       "      <td>True</td>\n",
       "    </tr>\n",
       "    <tr>\n",
       "      <th>...</th>\n",
       "      <td>...</td>\n",
       "      <td>...</td>\n",
       "      <td>...</td>\n",
       "      <td>...</td>\n",
       "    </tr>\n",
       "    <tr>\n",
       "      <th>904</th>\n",
       "      <td>annotator_21</td>\n",
       "      <td>yes</td>\n",
       "      <td>1118</td>\n",
       "      <td>False</td>\n",
       "    </tr>\n",
       "    <tr>\n",
       "      <th>905</th>\n",
       "      <td>annotator_14</td>\n",
       "      <td>no</td>\n",
       "      <td>854</td>\n",
       "      <td>True</td>\n",
       "    </tr>\n",
       "    <tr>\n",
       "      <th>906</th>\n",
       "      <td>annotator_12</td>\n",
       "      <td>no</td>\n",
       "      <td>1514</td>\n",
       "      <td>True</td>\n",
       "    </tr>\n",
       "    <tr>\n",
       "      <th>907</th>\n",
       "      <td>annotator_21</td>\n",
       "      <td>yes</td>\n",
       "      <td>967</td>\n",
       "      <td>True</td>\n",
       "    </tr>\n",
       "    <tr>\n",
       "      <th>908</th>\n",
       "      <td>annotator_02</td>\n",
       "      <td>no</td>\n",
       "      <td>856</td>\n",
       "      <td>True</td>\n",
       "    </tr>\n",
       "  </tbody>\n",
       "</table>\n",
       "<p>909 rows × 4 columns</p>\n",
       "</div>"
      ],
      "text/plain": [
       "    user.vendor_user_id task_output.answer  task_output.duration_ms is_bicycle\n",
       "0          annotator_12                 no                      997      False\n",
       "1          annotator_11                yes                     1044      False\n",
       "2          annotator_05                 no                      848       True\n",
       "3          annotator_06                 no                     1077      False\n",
       "4          annotator_20                yes                     1742       True\n",
       "..                  ...                ...                      ...        ...\n",
       "904        annotator_21                yes                     1118      False\n",
       "905        annotator_14                 no                      854       True\n",
       "906        annotator_12                 no                     1514       True\n",
       "907        annotator_21                yes                      967       True\n",
       "908        annotator_02                 no                      856       True\n",
       "\n",
       "[909 rows x 4 columns]"
      ]
     },
     "execution_count": 53,
     "metadata": {},
     "output_type": "execute_result"
    }
   ],
   "source": [
    "filter_df=df[df['is_bicycle']!='no_output']\n",
    "filter_df = filter_df.filter(['user.vendor_user_id','task_output.answer','task_output.duration_ms','is_bicycle'], axis=1)\n",
    "filter_df"
   ]
  },
  {
   "cell_type": "code",
   "execution_count": 54,
   "id": "f837533e",
   "metadata": {},
   "outputs": [
    {
     "data": {
      "image/png": "[encoded data removed]",
      "text/plain": [
       "<Figure size 640x480 with 1 Axes>"
      ]
     },
     "metadata": {},
     "output_type": "display_data"
    }
   ],
   "source": [
    "#Calling annotator function\n",
    "annotator_visual(filter_df.copy(),'user.vendor_user_id')\n"
   ]
  },
  {
   "cell_type": "code",
   "execution_count": 85,
   "id": "f3523a44",
   "metadata": {},
   "outputs": [
    {
     "data": {
      "text/html": [
       "<div>\n",
       "<style scoped>\n",
       "    .dataframe tbody tr th:only-of-type {\n",
       "        vertical-align: middle;\n",
       "    }\n",
       "\n",
       "    .dataframe tbody tr th {\n",
       "        vertical-align: top;\n",
       "    }\n",
       "\n",
       "    .dataframe thead th {\n",
       "        text-align: right;\n",
       "    }\n",
       "</style>\n",
       "<table border=\"1\" class=\"dataframe\">\n",
       "  <thead>\n",
       "    <tr style=\"text-align: right;\">\n",
       "      <th></th>\n",
       "      <th>annotator</th>\n",
       "      <th>user.vendor_user_id</th>\n",
       "      <th>annotator %</th>\n",
       "    </tr>\n",
       "  </thead>\n",
       "  <tbody>\n",
       "    <tr>\n",
       "      <th>0</th>\n",
       "      <td>annotator_08</td>\n",
       "      <td>82</td>\n",
       "      <td>9.02%</td>\n",
       "    </tr>\n",
       "    <tr>\n",
       "      <th>1</th>\n",
       "      <td>annotator_13</td>\n",
       "      <td>74</td>\n",
       "      <td>8.14%</td>\n",
       "    </tr>\n",
       "    <tr>\n",
       "      <th>2</th>\n",
       "      <td>annotator_11</td>\n",
       "      <td>68</td>\n",
       "      <td>7.48%</td>\n",
       "    </tr>\n",
       "    <tr>\n",
       "      <th>3</th>\n",
       "      <td>annotator_16</td>\n",
       "      <td>62</td>\n",
       "      <td>6.82%</td>\n",
       "    </tr>\n",
       "    <tr>\n",
       "      <th>4</th>\n",
       "      <td>annotator_15</td>\n",
       "      <td>62</td>\n",
       "      <td>6.82%</td>\n",
       "    </tr>\n",
       "    <tr>\n",
       "      <th>5</th>\n",
       "      <td>annotator_20</td>\n",
       "      <td>61</td>\n",
       "      <td>6.71%</td>\n",
       "    </tr>\n",
       "    <tr>\n",
       "      <th>6</th>\n",
       "      <td>annotator_02</td>\n",
       "      <td>61</td>\n",
       "      <td>6.71%</td>\n",
       "    </tr>\n",
       "    <tr>\n",
       "      <th>7</th>\n",
       "      <td>annotator_09</td>\n",
       "      <td>56</td>\n",
       "      <td>6.16%</td>\n",
       "    </tr>\n",
       "    <tr>\n",
       "      <th>8</th>\n",
       "      <td>annotator_12</td>\n",
       "      <td>56</td>\n",
       "      <td>6.16%</td>\n",
       "    </tr>\n",
       "    <tr>\n",
       "      <th>9</th>\n",
       "      <td>annotator_04</td>\n",
       "      <td>55</td>\n",
       "      <td>6.05%</td>\n",
       "    </tr>\n",
       "    <tr>\n",
       "      <th>10</th>\n",
       "      <td>annotator_18</td>\n",
       "      <td>47</td>\n",
       "      <td>5.17%</td>\n",
       "    </tr>\n",
       "    <tr>\n",
       "      <th>11</th>\n",
       "      <td>annotator_06</td>\n",
       "      <td>46</td>\n",
       "      <td>5.06%</td>\n",
       "    </tr>\n",
       "    <tr>\n",
       "      <th>12</th>\n",
       "      <td>annotator_05</td>\n",
       "      <td>40</td>\n",
       "      <td>4.4%</td>\n",
       "    </tr>\n",
       "    <tr>\n",
       "      <th>13</th>\n",
       "      <td>annotator_17</td>\n",
       "      <td>34</td>\n",
       "      <td>3.74%</td>\n",
       "    </tr>\n",
       "    <tr>\n",
       "      <th>14</th>\n",
       "      <td>annotator_21</td>\n",
       "      <td>32</td>\n",
       "      <td>3.52%</td>\n",
       "    </tr>\n",
       "    <tr>\n",
       "      <th>15</th>\n",
       "      <td>annotator_07</td>\n",
       "      <td>21</td>\n",
       "      <td>2.31%</td>\n",
       "    </tr>\n",
       "    <tr>\n",
       "      <th>16</th>\n",
       "      <td>annotator_01</td>\n",
       "      <td>19</td>\n",
       "      <td>2.09%</td>\n",
       "    </tr>\n",
       "    <tr>\n",
       "      <th>17</th>\n",
       "      <td>annotator_22</td>\n",
       "      <td>13</td>\n",
       "      <td>1.43%</td>\n",
       "    </tr>\n",
       "    <tr>\n",
       "      <th>18</th>\n",
       "      <td>annotator_14</td>\n",
       "      <td>13</td>\n",
       "      <td>1.43%</td>\n",
       "    </tr>\n",
       "    <tr>\n",
       "      <th>19</th>\n",
       "      <td>annotator_03</td>\n",
       "      <td>3</td>\n",
       "      <td>0.33%</td>\n",
       "    </tr>\n",
       "    <tr>\n",
       "      <th>20</th>\n",
       "      <td>annotator_10</td>\n",
       "      <td>3</td>\n",
       "      <td>0.33%</td>\n",
       "    </tr>\n",
       "    <tr>\n",
       "      <th>21</th>\n",
       "      <td>annotator_19</td>\n",
       "      <td>1</td>\n",
       "      <td>0.11%</td>\n",
       "    </tr>\n",
       "  </tbody>\n",
       "</table>\n",
       "</div>"
      ],
      "text/plain": [
       "       annotator  user.vendor_user_id annotator %\n",
       "0   annotator_08                   82       9.02%\n",
       "1   annotator_13                   74       8.14%\n",
       "2   annotator_11                   68       7.48%\n",
       "3   annotator_16                   62       6.82%\n",
       "4   annotator_15                   62       6.82%\n",
       "5   annotator_20                   61       6.71%\n",
       "6   annotator_02                   61       6.71%\n",
       "7   annotator_09                   56       6.16%\n",
       "8   annotator_12                   56       6.16%\n",
       "9   annotator_04                   55       6.05%\n",
       "10  annotator_18                   47       5.17%\n",
       "11  annotator_06                   46       5.06%\n",
       "12  annotator_05                   40        4.4%\n",
       "13  annotator_17                   34       3.74%\n",
       "14  annotator_21                   32       3.52%\n",
       "15  annotator_07                   21       2.31%\n",
       "16  annotator_01                   19       2.09%\n",
       "17  annotator_22                   13       1.43%\n",
       "18  annotator_14                   13       1.43%\n",
       "19  annotator_03                    3       0.33%\n",
       "20  annotator_10                    3       0.33%\n",
       "21  annotator_19                    1       0.11%"
      ]
     },
     "execution_count": 85,
     "metadata": {},
     "output_type": "execute_result"
    }
   ],
   "source": [
    "#checking percentages of filtered annotators\n",
    "annot_percent(filter_df.copy(),'user.vendor_user_id')"
   ]
  },
  {
   "cell_type": "code",
   "execution_count": 80,
   "id": "a6c84ed6",
   "metadata": {},
   "outputs": [],
   "source": [
    "#A function to filter corect values by comaring task_output.answer and is_bicycle' column\n",
    "def myFun(rec):\n",
    "    if (rec['task_output.answer']== 'yes') & (rec['is_bicycle']==True):\n",
    "        return 1\n",
    "    elif (rec['task_output.answer']== 'no') & (rec['is_bicycle']==False):\n",
    "        return 1\n",
    "    \n",
    "    return 0\n",
    "   \n",
    "filter_df['result']=filter_df.apply(myFun,axis=1)\n",
    "    "
   ]
  },
  {
   "cell_type": "code",
   "execution_count": 81,
   "id": "6c14b36d",
   "metadata": {},
   "outputs": [
    {
     "data": {
      "text/html": [
       "<div>\n",
       "<style scoped>\n",
       "    .dataframe tbody tr th:only-of-type {\n",
       "        vertical-align: middle;\n",
       "    }\n",
       "\n",
       "    .dataframe tbody tr th {\n",
       "        vertical-align: top;\n",
       "    }\n",
       "\n",
       "    .dataframe thead th {\n",
       "        text-align: right;\n",
       "    }\n",
       "</style>\n",
       "<table border=\"1\" class=\"dataframe\">\n",
       "  <thead>\n",
       "    <tr style=\"text-align: right;\">\n",
       "      <th></th>\n",
       "      <th>user.vendor_user_id</th>\n",
       "      <th>task_output.answer</th>\n",
       "      <th>task_output.duration_ms</th>\n",
       "      <th>is_bicycle</th>\n",
       "      <th>result</th>\n",
       "    </tr>\n",
       "  </thead>\n",
       "  <tbody>\n",
       "    <tr>\n",
       "      <th>0</th>\n",
       "      <td>annotator_12</td>\n",
       "      <td>no</td>\n",
       "      <td>997</td>\n",
       "      <td>False</td>\n",
       "      <td>1</td>\n",
       "    </tr>\n",
       "    <tr>\n",
       "      <th>1</th>\n",
       "      <td>annotator_11</td>\n",
       "      <td>yes</td>\n",
       "      <td>1044</td>\n",
       "      <td>False</td>\n",
       "      <td>0</td>\n",
       "    </tr>\n",
       "    <tr>\n",
       "      <th>2</th>\n",
       "      <td>annotator_05</td>\n",
       "      <td>no</td>\n",
       "      <td>848</td>\n",
       "      <td>True</td>\n",
       "      <td>0</td>\n",
       "    </tr>\n",
       "    <tr>\n",
       "      <th>3</th>\n",
       "      <td>annotator_06</td>\n",
       "      <td>no</td>\n",
       "      <td>1077</td>\n",
       "      <td>False</td>\n",
       "      <td>1</td>\n",
       "    </tr>\n",
       "    <tr>\n",
       "      <th>4</th>\n",
       "      <td>annotator_20</td>\n",
       "      <td>yes</td>\n",
       "      <td>1742</td>\n",
       "      <td>True</td>\n",
       "      <td>1</td>\n",
       "    </tr>\n",
       "    <tr>\n",
       "      <th>...</th>\n",
       "      <td>...</td>\n",
       "      <td>...</td>\n",
       "      <td>...</td>\n",
       "      <td>...</td>\n",
       "      <td>...</td>\n",
       "    </tr>\n",
       "    <tr>\n",
       "      <th>904</th>\n",
       "      <td>annotator_21</td>\n",
       "      <td>yes</td>\n",
       "      <td>1118</td>\n",
       "      <td>False</td>\n",
       "      <td>0</td>\n",
       "    </tr>\n",
       "    <tr>\n",
       "      <th>905</th>\n",
       "      <td>annotator_14</td>\n",
       "      <td>no</td>\n",
       "      <td>854</td>\n",
       "      <td>True</td>\n",
       "      <td>0</td>\n",
       "    </tr>\n",
       "    <tr>\n",
       "      <th>906</th>\n",
       "      <td>annotator_12</td>\n",
       "      <td>no</td>\n",
       "      <td>1514</td>\n",
       "      <td>True</td>\n",
       "      <td>0</td>\n",
       "    </tr>\n",
       "    <tr>\n",
       "      <th>907</th>\n",
       "      <td>annotator_21</td>\n",
       "      <td>yes</td>\n",
       "      <td>967</td>\n",
       "      <td>True</td>\n",
       "      <td>1</td>\n",
       "    </tr>\n",
       "    <tr>\n",
       "      <th>908</th>\n",
       "      <td>annotator_02</td>\n",
       "      <td>no</td>\n",
       "      <td>856</td>\n",
       "      <td>True</td>\n",
       "      <td>0</td>\n",
       "    </tr>\n",
       "  </tbody>\n",
       "</table>\n",
       "<p>909 rows × 5 columns</p>\n",
       "</div>"
      ],
      "text/plain": [
       "    user.vendor_user_id task_output.answer  task_output.duration_ms  \\\n",
       "0          annotator_12                 no                      997   \n",
       "1          annotator_11                yes                     1044   \n",
       "2          annotator_05                 no                      848   \n",
       "3          annotator_06                 no                     1077   \n",
       "4          annotator_20                yes                     1742   \n",
       "..                  ...                ...                      ...   \n",
       "904        annotator_21                yes                     1118   \n",
       "905        annotator_14                 no                      854   \n",
       "906        annotator_12                 no                     1514   \n",
       "907        annotator_21                yes                      967   \n",
       "908        annotator_02                 no                      856   \n",
       "\n",
       "    is_bicycle  result  \n",
       "0        False       1  \n",
       "1        False       0  \n",
       "2         True       0  \n",
       "3        False       1  \n",
       "4         True       1  \n",
       "..         ...     ...  \n",
       "904      False       0  \n",
       "905       True       0  \n",
       "906       True       0  \n",
       "907       True       1  \n",
       "908       True       0  \n",
       "\n",
       "[909 rows x 5 columns]"
      ]
     },
     "execution_count": 81,
     "metadata": {},
     "output_type": "execute_result"
    }
   ],
   "source": [
    "filter_df"
   ]
  },
  {
   "cell_type": "code",
   "execution_count": 82,
   "id": "c5cccf7e",
   "metadata": {},
   "outputs": [
    {
     "data": {
      "text/plain": [
       "0    459\n",
       "1    450\n",
       "Name: result, dtype: int64"
      ]
     },
     "execution_count": 82,
     "metadata": {},
     "output_type": "execute_result"
    }
   ],
   "source": [
    "filter_df.result.value_counts()"
   ]
  },
  {
   "cell_type": "code",
   "execution_count": 83,
   "id": "daee642d",
   "metadata": {},
   "outputs": [
    {
     "data": {
      "image/png": "[encoded data removed]",
      "text/plain": [
       "<Figure size 640x480 with 1 Axes>"
      ]
     },
     "metadata": {},
     "output_type": "display_data"
    }
   ],
   "source": [
    "#To check  which annotator given more correct  results\n",
    "true_df= filter_df[filter_df.result==1]\n",
    "true_df\n",
    "annotator_visual(true_df.copy(),'user.vendor_user_id')"
   ]
  },
  {
   "cell_type": "code",
   "execution_count": 86,
   "id": "65c69786",
   "metadata": {},
   "outputs": [
    {
     "data": {
      "text/html": [
       "<div>\n",
       "<style scoped>\n",
       "    .dataframe tbody tr th:only-of-type {\n",
       "        vertical-align: middle;\n",
       "    }\n",
       "\n",
       "    .dataframe tbody tr th {\n",
       "        vertical-align: top;\n",
       "    }\n",
       "\n",
       "    .dataframe thead th {\n",
       "        text-align: right;\n",
       "    }\n",
       "</style>\n",
       "<table border=\"1\" class=\"dataframe\">\n",
       "  <thead>\n",
       "    <tr style=\"text-align: right;\">\n",
       "      <th></th>\n",
       "      <th>annotator</th>\n",
       "      <th>user.vendor_user_id</th>\n",
       "      <th>annotator %</th>\n",
       "    </tr>\n",
       "  </thead>\n",
       "  <tbody>\n",
       "    <tr>\n",
       "      <th>0</th>\n",
       "      <td>annotator_08</td>\n",
       "      <td>39</td>\n",
       "      <td>8.67%</td>\n",
       "    </tr>\n",
       "    <tr>\n",
       "      <th>1</th>\n",
       "      <td>annotator_13</td>\n",
       "      <td>37</td>\n",
       "      <td>8.22%</td>\n",
       "    </tr>\n",
       "    <tr>\n",
       "      <th>2</th>\n",
       "      <td>annotator_02</td>\n",
       "      <td>35</td>\n",
       "      <td>7.78%</td>\n",
       "    </tr>\n",
       "    <tr>\n",
       "      <th>3</th>\n",
       "      <td>annotator_11</td>\n",
       "      <td>32</td>\n",
       "      <td>7.11%</td>\n",
       "    </tr>\n",
       "    <tr>\n",
       "      <th>4</th>\n",
       "      <td>annotator_15</td>\n",
       "      <td>32</td>\n",
       "      <td>7.11%</td>\n",
       "    </tr>\n",
       "    <tr>\n",
       "      <th>5</th>\n",
       "      <td>annotator_04</td>\n",
       "      <td>31</td>\n",
       "      <td>6.89%</td>\n",
       "    </tr>\n",
       "    <tr>\n",
       "      <th>6</th>\n",
       "      <td>annotator_12</td>\n",
       "      <td>30</td>\n",
       "      <td>6.67%</td>\n",
       "    </tr>\n",
       "    <tr>\n",
       "      <th>7</th>\n",
       "      <td>annotator_16</td>\n",
       "      <td>30</td>\n",
       "      <td>6.67%</td>\n",
       "    </tr>\n",
       "    <tr>\n",
       "      <th>8</th>\n",
       "      <td>annotator_20</td>\n",
       "      <td>30</td>\n",
       "      <td>6.67%</td>\n",
       "    </tr>\n",
       "    <tr>\n",
       "      <th>9</th>\n",
       "      <td>annotator_18</td>\n",
       "      <td>26</td>\n",
       "      <td>5.78%</td>\n",
       "    </tr>\n",
       "    <tr>\n",
       "      <th>10</th>\n",
       "      <td>annotator_06</td>\n",
       "      <td>24</td>\n",
       "      <td>5.33%</td>\n",
       "    </tr>\n",
       "    <tr>\n",
       "      <th>11</th>\n",
       "      <td>annotator_09</td>\n",
       "      <td>21</td>\n",
       "      <td>4.67%</td>\n",
       "    </tr>\n",
       "    <tr>\n",
       "      <th>12</th>\n",
       "      <td>annotator_05</td>\n",
       "      <td>19</td>\n",
       "      <td>4.22%</td>\n",
       "    </tr>\n",
       "    <tr>\n",
       "      <th>13</th>\n",
       "      <td>annotator_21</td>\n",
       "      <td>14</td>\n",
       "      <td>3.11%</td>\n",
       "    </tr>\n",
       "    <tr>\n",
       "      <th>14</th>\n",
       "      <td>annotator_17</td>\n",
       "      <td>13</td>\n",
       "      <td>2.89%</td>\n",
       "    </tr>\n",
       "    <tr>\n",
       "      <th>15</th>\n",
       "      <td>annotator_07</td>\n",
       "      <td>11</td>\n",
       "      <td>2.44%</td>\n",
       "    </tr>\n",
       "    <tr>\n",
       "      <th>16</th>\n",
       "      <td>annotator_01</td>\n",
       "      <td>10</td>\n",
       "      <td>2.22%</td>\n",
       "    </tr>\n",
       "    <tr>\n",
       "      <th>17</th>\n",
       "      <td>annotator_22</td>\n",
       "      <td>6</td>\n",
       "      <td>1.33%</td>\n",
       "    </tr>\n",
       "    <tr>\n",
       "      <th>18</th>\n",
       "      <td>annotator_14</td>\n",
       "      <td>5</td>\n",
       "      <td>1.11%</td>\n",
       "    </tr>\n",
       "    <tr>\n",
       "      <th>19</th>\n",
       "      <td>annotator_03</td>\n",
       "      <td>3</td>\n",
       "      <td>0.67%</td>\n",
       "    </tr>\n",
       "    <tr>\n",
       "      <th>20</th>\n",
       "      <td>annotator_10</td>\n",
       "      <td>2</td>\n",
       "      <td>0.44%</td>\n",
       "    </tr>\n",
       "  </tbody>\n",
       "</table>\n",
       "</div>"
      ],
      "text/plain": [
       "       annotator  user.vendor_user_id annotator %\n",
       "0   annotator_08                   39       8.67%\n",
       "1   annotator_13                   37       8.22%\n",
       "2   annotator_02                   35       7.78%\n",
       "3   annotator_11                   32       7.11%\n",
       "4   annotator_15                   32       7.11%\n",
       "5   annotator_04                   31       6.89%\n",
       "6   annotator_12                   30       6.67%\n",
       "7   annotator_16                   30       6.67%\n",
       "8   annotator_20                   30       6.67%\n",
       "9   annotator_18                   26       5.78%\n",
       "10  annotator_06                   24       5.33%\n",
       "11  annotator_09                   21       4.67%\n",
       "12  annotator_05                   19       4.22%\n",
       "13  annotator_21                   14       3.11%\n",
       "14  annotator_17                   13       2.89%\n",
       "15  annotator_07                   11       2.44%\n",
       "16  annotator_01                   10       2.22%\n",
       "17  annotator_22                    6       1.33%\n",
       "18  annotator_14                    5       1.11%\n",
       "19  annotator_03                    3       0.67%\n",
       "20  annotator_10                    2       0.44%"
      ]
     },
     "execution_count": 86,
     "metadata": {},
     "output_type": "execute_result"
    }
   ],
   "source": [
    "#checking percentages of  true filtered annotators\n",
    "annot_percent(true_df,'user.vendor_user_id')"
   ]
  },
  {
   "cell_type": "code",
   "execution_count": 63,
   "id": "778ae15e",
   "metadata": {},
   "outputs": [
    {
     "data": {
      "image/png": "[encoded data removed]",
      "text/plain": [
       "<Figure size 640x480 with 1 Axes>"
      ]
     },
     "metadata": {},
     "output_type": "display_data"
    }
   ],
   "source": [
    "#To check  which annotator given more correct  results\n",
    "false_df= filter_df[filter_df.result==0]\n",
    "false_df\n",
    "annotator_visual(false_df.copy(),'user.vendor_user_id')"
   ]
  },
  {
   "cell_type": "code",
   "execution_count": 87,
   "id": "8df9ea01",
   "metadata": {},
   "outputs": [
    {
     "data": {
      "text/html": [
       "<div>\n",
       "<style scoped>\n",
       "    .dataframe tbody tr th:only-of-type {\n",
       "        vertical-align: middle;\n",
       "    }\n",
       "\n",
       "    .dataframe tbody tr th {\n",
       "        vertical-align: top;\n",
       "    }\n",
       "\n",
       "    .dataframe thead th {\n",
       "        text-align: right;\n",
       "    }\n",
       "</style>\n",
       "<table border=\"1\" class=\"dataframe\">\n",
       "  <thead>\n",
       "    <tr style=\"text-align: right;\">\n",
       "      <th></th>\n",
       "      <th>annotator</th>\n",
       "      <th>user.vendor_user_id</th>\n",
       "      <th>annotator %</th>\n",
       "    </tr>\n",
       "  </thead>\n",
       "  <tbody>\n",
       "    <tr>\n",
       "      <th>0</th>\n",
       "      <td>annotator_08</td>\n",
       "      <td>43</td>\n",
       "      <td>9.37%</td>\n",
       "    </tr>\n",
       "    <tr>\n",
       "      <th>1</th>\n",
       "      <td>annotator_13</td>\n",
       "      <td>37</td>\n",
       "      <td>8.06%</td>\n",
       "    </tr>\n",
       "    <tr>\n",
       "      <th>2</th>\n",
       "      <td>annotator_11</td>\n",
       "      <td>36</td>\n",
       "      <td>7.84%</td>\n",
       "    </tr>\n",
       "    <tr>\n",
       "      <th>3</th>\n",
       "      <td>annotator_09</td>\n",
       "      <td>35</td>\n",
       "      <td>7.63%</td>\n",
       "    </tr>\n",
       "    <tr>\n",
       "      <th>4</th>\n",
       "      <td>annotator_16</td>\n",
       "      <td>32</td>\n",
       "      <td>6.97%</td>\n",
       "    </tr>\n",
       "    <tr>\n",
       "      <th>5</th>\n",
       "      <td>annotator_20</td>\n",
       "      <td>31</td>\n",
       "      <td>6.75%</td>\n",
       "    </tr>\n",
       "    <tr>\n",
       "      <th>6</th>\n",
       "      <td>annotator_15</td>\n",
       "      <td>30</td>\n",
       "      <td>6.54%</td>\n",
       "    </tr>\n",
       "    <tr>\n",
       "      <th>7</th>\n",
       "      <td>annotator_02</td>\n",
       "      <td>26</td>\n",
       "      <td>5.66%</td>\n",
       "    </tr>\n",
       "    <tr>\n",
       "      <th>8</th>\n",
       "      <td>annotator_12</td>\n",
       "      <td>26</td>\n",
       "      <td>5.66%</td>\n",
       "    </tr>\n",
       "    <tr>\n",
       "      <th>9</th>\n",
       "      <td>annotator_04</td>\n",
       "      <td>24</td>\n",
       "      <td>5.23%</td>\n",
       "    </tr>\n",
       "    <tr>\n",
       "      <th>10</th>\n",
       "      <td>annotator_06</td>\n",
       "      <td>22</td>\n",
       "      <td>4.79%</td>\n",
       "    </tr>\n",
       "    <tr>\n",
       "      <th>11</th>\n",
       "      <td>annotator_05</td>\n",
       "      <td>21</td>\n",
       "      <td>4.58%</td>\n",
       "    </tr>\n",
       "    <tr>\n",
       "      <th>12</th>\n",
       "      <td>annotator_18</td>\n",
       "      <td>21</td>\n",
       "      <td>4.58%</td>\n",
       "    </tr>\n",
       "    <tr>\n",
       "      <th>13</th>\n",
       "      <td>annotator_17</td>\n",
       "      <td>21</td>\n",
       "      <td>4.58%</td>\n",
       "    </tr>\n",
       "    <tr>\n",
       "      <th>14</th>\n",
       "      <td>annotator_21</td>\n",
       "      <td>18</td>\n",
       "      <td>3.92%</td>\n",
       "    </tr>\n",
       "    <tr>\n",
       "      <th>15</th>\n",
       "      <td>annotator_07</td>\n",
       "      <td>10</td>\n",
       "      <td>2.18%</td>\n",
       "    </tr>\n",
       "    <tr>\n",
       "      <th>16</th>\n",
       "      <td>annotator_01</td>\n",
       "      <td>9</td>\n",
       "      <td>1.96%</td>\n",
       "    </tr>\n",
       "    <tr>\n",
       "      <th>17</th>\n",
       "      <td>annotator_14</td>\n",
       "      <td>8</td>\n",
       "      <td>1.74%</td>\n",
       "    </tr>\n",
       "    <tr>\n",
       "      <th>18</th>\n",
       "      <td>annotator_22</td>\n",
       "      <td>7</td>\n",
       "      <td>1.53%</td>\n",
       "    </tr>\n",
       "    <tr>\n",
       "      <th>19</th>\n",
       "      <td>annotator_10</td>\n",
       "      <td>1</td>\n",
       "      <td>0.22%</td>\n",
       "    </tr>\n",
       "    <tr>\n",
       "      <th>20</th>\n",
       "      <td>annotator_19</td>\n",
       "      <td>1</td>\n",
       "      <td>0.22%</td>\n",
       "    </tr>\n",
       "  </tbody>\n",
       "</table>\n",
       "</div>"
      ],
      "text/plain": [
       "       annotator  user.vendor_user_id annotator %\n",
       "0   annotator_08                   43       9.37%\n",
       "1   annotator_13                   37       8.06%\n",
       "2   annotator_11                   36       7.84%\n",
       "3   annotator_09                   35       7.63%\n",
       "4   annotator_16                   32       6.97%\n",
       "5   annotator_20                   31       6.75%\n",
       "6   annotator_15                   30       6.54%\n",
       "7   annotator_02                   26       5.66%\n",
       "8   annotator_12                   26       5.66%\n",
       "9   annotator_04                   24       5.23%\n",
       "10  annotator_06                   22       4.79%\n",
       "11  annotator_05                   21       4.58%\n",
       "12  annotator_18                   21       4.58%\n",
       "13  annotator_17                   21       4.58%\n",
       "14  annotator_21                   18       3.92%\n",
       "15  annotator_07                   10       2.18%\n",
       "16  annotator_01                    9       1.96%\n",
       "17  annotator_14                    8       1.74%\n",
       "18  annotator_22                    7       1.53%\n",
       "19  annotator_10                    1       0.22%\n",
       "20  annotator_19                    1       0.22%"
      ]
     },
     "execution_count": 87,
     "metadata": {},
     "output_type": "execute_result"
    }
   ],
   "source": [
    "annot_percent(false_df.copy(),'user.vendor_user_id')"
   ]
  },
  {
   "cell_type": "code",
   "execution_count": 110,
   "id": "65424ea1",
   "metadata": {},
   "outputs": [
    {
     "data": {
      "text/html": [
       "<div>\n",
       "<style scoped>\n",
       "    .dataframe tbody tr th:only-of-type {\n",
       "        vertical-align: middle;\n",
       "    }\n",
       "\n",
       "    .dataframe tbody tr th {\n",
       "        vertical-align: top;\n",
       "    }\n",
       "\n",
       "    .dataframe thead th {\n",
       "        text-align: right;\n",
       "    }\n",
       "</style>\n",
       "<table border=\"1\" class=\"dataframe\">\n",
       "  <thead>\n",
       "    <tr style=\"text-align: right;\">\n",
       "      <th></th>\n",
       "      <th>user.vendor_user_id</th>\n",
       "      <th>result</th>\n",
       "      <th>count</th>\n",
       "    </tr>\n",
       "  </thead>\n",
       "  <tbody>\n",
       "    <tr>\n",
       "      <th>0</th>\n",
       "      <td>annotator_01</td>\n",
       "      <td>1</td>\n",
       "      <td>10</td>\n",
       "    </tr>\n",
       "    <tr>\n",
       "      <th>1</th>\n",
       "      <td>annotator_01</td>\n",
       "      <td>0</td>\n",
       "      <td>9</td>\n",
       "    </tr>\n",
       "    <tr>\n",
       "      <th>2</th>\n",
       "      <td>annotator_02</td>\n",
       "      <td>1</td>\n",
       "      <td>35</td>\n",
       "    </tr>\n",
       "    <tr>\n",
       "      <th>3</th>\n",
       "      <td>annotator_02</td>\n",
       "      <td>0</td>\n",
       "      <td>26</td>\n",
       "    </tr>\n",
       "    <tr>\n",
       "      <th>4</th>\n",
       "      <td>annotator_03</td>\n",
       "      <td>1</td>\n",
       "      <td>3</td>\n",
       "    </tr>\n",
       "  </tbody>\n",
       "</table>\n",
       "</div>"
      ],
      "text/plain": [
       "  user.vendor_user_id  result  count\n",
       "0        annotator_01       1     10\n",
       "1        annotator_01       0      9\n",
       "2        annotator_02       1     35\n",
       "3        annotator_02       0     26\n",
       "4        annotator_03       1      3"
      ]
     },
     "execution_count": 110,
     "metadata": {},
     "output_type": "execute_result"
    }
   ],
   "source": [
    "##Checking whcih annotator contributed how may  results\n",
    "df_=filter_df.groupby('user.vendor_user_id')['result'].value_counts().to_frame().rename(columns={'result':'count'})\n",
    "df_=df_.reset_index()\n",
    "df_.head()"
   ]
  },
  {
   "cell_type": "code",
   "execution_count": 114,
   "id": "daf8b825",
   "metadata": {},
   "outputs": [
    {
     "data": {
      "text/plain": [
       "<Axes: xlabel='count', ylabel='user.vendor_user_id'>"
      ]
     },
     "execution_count": 114,
     "metadata": {},
     "output_type": "execute_result"
    },
    {
     "data": {
      "image/png": "[encoded data removed]",
      "text/plain": [
       "<Figure size 640x480 with 1 Axes>"
      ]
     },
     "metadata": {},
     "output_type": "display_data"
    }
   ],
   "source": [
    "sns.barplot(data=df_, x='count', y='user.vendor_user_id', hue='result')"
   ]
  },
  {
   "cell_type": "code",
   "execution_count": null,
   "id": "d1ce2c23",
   "metadata": {},
   "outputs": [],
   "source": []
  }
 ],
 "metadata": {
  "kernelspec": {
   "display_name": "Python 3 (ipykernel)",
   "language": "python",
   "name": "python3"
  },
  "language_info": {
   "codemirror_mode": {
    "name": "ipython",
    "version": 3
   },
   "file_extension": ".py",
   "mimetype": "text/x-python",
   "name": "python",
   "nbconvert_exporter": "python",
   "pygments_lexer": "ipython3",
   "version": "3.10.9"
  }
 },
 "nbformat": 4,
 "nbformat_minor": 5
}
