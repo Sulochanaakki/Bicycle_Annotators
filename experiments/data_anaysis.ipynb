{
 "cells": [
  {
   "cell_type": "markdown",
   "id": "fe7d5255",
   "metadata": {},
   "source": [
    " ## Bycycle image capture analysis\n",
    "\n",
    "### Importing Necessary Libraries"
   ]
  },
  {
   "cell_type": "code",
   "execution_count": 1,
   "id": "d2305394",
   "metadata": {},
   "outputs": [],
   "source": [
    "import pandas as pd\n",
    "import numpy as np\n",
    "import seaborn as sns\n",
    "from matplotlib import pyplot as plt\n",
    "import os\n",
    "import json\n",
    "from pandas.io.json import json_normalize\n",
    "import warnings\n",
    "warnings.filterwarnings('ignore')\n",
    "from sklearn import preprocessing\n",
    "from sklearn.preprocessing import MinMaxScaler\n",
    "from sklearn.model_selection import train_test_split\n"
   ]
  },
  {
   "cell_type": "markdown",
   "id": "1cf434e6",
   "metadata": {},
   "source": [
    "### Reading json data to pandas dataframe\n",
    "\n",
    "#### loading the ``anonymized_project file``"
   ]
  },
  {
   "cell_type": "code",
   "execution_count": 80,
   "id": "88b00bef",
   "metadata": {
    "scrolled": false
   },
   "outputs": [
    {
     "data": {
      "text/html": [
       "<div>\n",
       "<style scoped>\n",
       "    .dataframe tbody tr th:only-of-type {\n",
       "        vertical-align: middle;\n",
       "    }\n",
       "\n",
       "    .dataframe tbody tr th {\n",
       "        vertical-align: top;\n",
       "    }\n",
       "\n",
       "    .dataframe thead th {\n",
       "        text-align: right;\n",
       "    }\n",
       "</style>\n",
       "<table border=\"1\" class=\"dataframe\">\n",
       "  <thead>\n",
       "    <tr style=\"text-align: right;\">\n",
       "      <th></th>\n",
       "      <th>gui_type</th>\n",
       "      <th>created_at</th>\n",
       "      <th>workpackage_total_size</th>\n",
       "      <th>loss</th>\n",
       "      <th>project_node_input_id</th>\n",
       "      <th>project_node_output_id</th>\n",
       "      <th>project_root_node_input_id</th>\n",
       "      <th>task_input.image_url</th>\n",
       "      <th>task_output.answer</th>\n",
       "      <th>task_output.cant_solve</th>\n",
       "      <th>task_output.corrupt_data</th>\n",
       "      <th>task_output.duration_ms</th>\n",
       "      <th>user.vendor_id</th>\n",
       "      <th>user.id</th>\n",
       "      <th>user.vendor_user_id</th>\n",
       "      <th>root_input.image_url</th>\n",
       "    </tr>\n",
       "  </thead>\n",
       "  <tbody>\n",
       "    <tr>\n",
       "      <th>0</th>\n",
       "      <td>discrete_answer</td>\n",
       "      <td>2021-02-25T14:08:11.319438+00:00</td>\n",
       "      <td>5</td>\n",
       "      <td>0.0</td>\n",
       "      <td>7e8984b6-dff7-4015-865a-b721a2faf681</td>\n",
       "      <td>0000439a-96ac-4bd4-8753-a4baa229ecf2</td>\n",
       "      <td>7e8984b6-dff7-4015-865a-b721a2faf681</td>\n",
       "      <td>https://qm-auto-annotator.s3.eu-central-1.amaz...</td>\n",
       "      <td>no</td>\n",
       "      <td>False</td>\n",
       "      <td>False</td>\n",
       "      <td>997</td>\n",
       "      <td>vendor_01</td>\n",
       "      <td>08af8775-a72c-4c59-b60f-9ce7df04fa92</td>\n",
       "      <td>annotator_12</td>\n",
       "      <td>https://qm-auto-annotator.s3.eu-central-1.amaz...</td>\n",
       "    </tr>\n",
       "    <tr>\n",
       "      <th>10</th>\n",
       "      <td>discrete_answer</td>\n",
       "      <td>2021-02-25T13:53:31.698130+00:00</td>\n",
       "      <td>5</td>\n",
       "      <td>0.0</td>\n",
       "      <td>9d8a2527-accb-40bd-90d8-a73f20a609be</td>\n",
       "      <td>0000de80-97c8-40f4-aee1-f30377174381</td>\n",
       "      <td>9d8a2527-accb-40bd-90d8-a73f20a609be</td>\n",
       "      <td>https://qm-auto-annotator.s3.eu-central-1.amaz...</td>\n",
       "      <td>yes</td>\n",
       "      <td>False</td>\n",
       "      <td>False</td>\n",
       "      <td>1044</td>\n",
       "      <td>vendor_01</td>\n",
       "      <td>62f1cf90-71c9-45c5-990c-f9dc0aa6ea3d</td>\n",
       "      <td>annotator_11</td>\n",
       "      <td>https://qm-auto-annotator.s3.eu-central-1.amaz...</td>\n",
       "    </tr>\n",
       "    <tr>\n",
       "      <th>20</th>\n",
       "      <td>discrete_answer</td>\n",
       "      <td>2021-02-25T13:35:02.076869+00:00</td>\n",
       "      <td>5</td>\n",
       "      <td>0.0</td>\n",
       "      <td>0625d00c-96c3-41ad-9324-37037ffd0325</td>\n",
       "      <td>00023262-3608-4678-8d3f-142e6758fadb</td>\n",
       "      <td>0625d00c-96c3-41ad-9324-37037ffd0325</td>\n",
       "      <td>https://qm-auto-annotator.s3.eu-central-1.amaz...</td>\n",
       "      <td>no</td>\n",
       "      <td>False</td>\n",
       "      <td>False</td>\n",
       "      <td>848</td>\n",
       "      <td>vendor_01</td>\n",
       "      <td>e336139c-5228-42cd-b501-81855532dfa6</td>\n",
       "      <td>annotator_05</td>\n",
       "      <td>https://qm-auto-annotator.s3.eu-central-1.amaz...</td>\n",
       "    </tr>\n",
       "    <tr>\n",
       "      <th>30</th>\n",
       "      <td>discrete_answer</td>\n",
       "      <td>2021-02-26T03:53:40.752056+00:00</td>\n",
       "      <td>5</td>\n",
       "      <td>0.0</td>\n",
       "      <td>a7c5595d-0ee0-4dea-bf6b-7ee3fb42d0e7</td>\n",
       "      <td>00036ee9-f7da-4753-9607-7df7b57d4623</td>\n",
       "      <td>a7c5595d-0ee0-4dea-bf6b-7ee3fb42d0e7</td>\n",
       "      <td>https://qm-auto-annotator.s3.eu-central-1.amaz...</td>\n",
       "      <td>no</td>\n",
       "      <td>False</td>\n",
       "      <td>False</td>\n",
       "      <td>1077</td>\n",
       "      <td>vendor_01</td>\n",
       "      <td>5765cc32-9e32-43e1-bd78-384cfd52d55a</td>\n",
       "      <td>annotator_06</td>\n",
       "      <td>https://qm-auto-annotator.s3.eu-central-1.amaz...</td>\n",
       "    </tr>\n",
       "    <tr>\n",
       "      <th>40</th>\n",
       "      <td>discrete_answer</td>\n",
       "      <td>2021-02-25T10:19:19.501386+00:00</td>\n",
       "      <td>5</td>\n",
       "      <td>0.0</td>\n",
       "      <td>363aaded-07f3-41b1-8c84-4bae83406757</td>\n",
       "      <td>000468b7-a24c-435c-b506-9db1bf3c700d</td>\n",
       "      <td>363aaded-07f3-41b1-8c84-4bae83406757</td>\n",
       "      <td>https://qm-auto-annotator.s3.eu-central-1.amaz...</td>\n",
       "      <td>yes</td>\n",
       "      <td>False</td>\n",
       "      <td>False</td>\n",
       "      <td>1742</td>\n",
       "      <td>vendor_01</td>\n",
       "      <td>0e606b41-ebe4-4d7d-996c-db910c84971a</td>\n",
       "      <td>annotator_20</td>\n",
       "      <td>https://qm-auto-annotator.s3.eu-central-1.amaz...</td>\n",
       "    </tr>\n",
       "  </tbody>\n",
       "</table>\n",
       "</div>"
      ],
      "text/plain": [
       "           gui_type                        created_at  workpackage_total_size  \\\n",
       "0   discrete_answer  2021-02-25T14:08:11.319438+00:00                       5   \n",
       "10  discrete_answer  2021-02-25T13:53:31.698130+00:00                       5   \n",
       "20  discrete_answer  2021-02-25T13:35:02.076869+00:00                       5   \n",
       "30  discrete_answer  2021-02-26T03:53:40.752056+00:00                       5   \n",
       "40  discrete_answer  2021-02-25T10:19:19.501386+00:00                       5   \n",
       "\n",
       "    loss                 project_node_input_id  \\\n",
       "0    0.0  7e8984b6-dff7-4015-865a-b721a2faf681   \n",
       "10   0.0  9d8a2527-accb-40bd-90d8-a73f20a609be   \n",
       "20   0.0  0625d00c-96c3-41ad-9324-37037ffd0325   \n",
       "30   0.0  a7c5595d-0ee0-4dea-bf6b-7ee3fb42d0e7   \n",
       "40   0.0  363aaded-07f3-41b1-8c84-4bae83406757   \n",
       "\n",
       "                  project_node_output_id  \\\n",
       "0   0000439a-96ac-4bd4-8753-a4baa229ecf2   \n",
       "10  0000de80-97c8-40f4-aee1-f30377174381   \n",
       "20  00023262-3608-4678-8d3f-142e6758fadb   \n",
       "30  00036ee9-f7da-4753-9607-7df7b57d4623   \n",
       "40  000468b7-a24c-435c-b506-9db1bf3c700d   \n",
       "\n",
       "              project_root_node_input_id  \\\n",
       "0   7e8984b6-dff7-4015-865a-b721a2faf681   \n",
       "10  9d8a2527-accb-40bd-90d8-a73f20a609be   \n",
       "20  0625d00c-96c3-41ad-9324-37037ffd0325   \n",
       "30  a7c5595d-0ee0-4dea-bf6b-7ee3fb42d0e7   \n",
       "40  363aaded-07f3-41b1-8c84-4bae83406757   \n",
       "\n",
       "                                 task_input.image_url task_output.answer  \\\n",
       "0   https://qm-auto-annotator.s3.eu-central-1.amaz...                 no   \n",
       "10  https://qm-auto-annotator.s3.eu-central-1.amaz...                yes   \n",
       "20  https://qm-auto-annotator.s3.eu-central-1.amaz...                 no   \n",
       "30  https://qm-auto-annotator.s3.eu-central-1.amaz...                 no   \n",
       "40  https://qm-auto-annotator.s3.eu-central-1.amaz...                yes   \n",
       "\n",
       "    task_output.cant_solve  task_output.corrupt_data  task_output.duration_ms  \\\n",
       "0                    False                     False                      997   \n",
       "10                   False                     False                     1044   \n",
       "20                   False                     False                      848   \n",
       "30                   False                     False                     1077   \n",
       "40                   False                     False                     1742   \n",
       "\n",
       "   user.vendor_id                               user.id user.vendor_user_id  \\\n",
       "0       vendor_01  08af8775-a72c-4c59-b60f-9ce7df04fa92        annotator_12   \n",
       "10      vendor_01  62f1cf90-71c9-45c5-990c-f9dc0aa6ea3d        annotator_11   \n",
       "20      vendor_01  e336139c-5228-42cd-b501-81855532dfa6        annotator_05   \n",
       "30      vendor_01  5765cc32-9e32-43e1-bd78-384cfd52d55a        annotator_06   \n",
       "40      vendor_01  0e606b41-ebe4-4d7d-996c-db910c84971a        annotator_20   \n",
       "\n",
       "                                 root_input.image_url  \n",
       "0   https://qm-auto-annotator.s3.eu-central-1.amaz...  \n",
       "10  https://qm-auto-annotator.s3.eu-central-1.amaz...  \n",
       "20  https://qm-auto-annotator.s3.eu-central-1.amaz...  \n",
       "30  https://qm-auto-annotator.s3.eu-central-1.amaz...  \n",
       "40  https://qm-auto-annotator.s3.eu-central-1.amaz...  "
      ]
     },
     "execution_count": 80,
     "metadata": {},
     "output_type": "execute_result"
    }
   ],
   "source": [
    "#open and loading the anonymized_project file\n",
    "with open('../data/anonymized_project.json') as f:\n",
    "    j = json.load(f)\n",
    "data=j['results']['root_node']['results']\n",
    "df = pd.json_normalize(data.values()).apply(pd.Series.explode).reset_index(drop=True)\n",
    "# remove and normalize the column of dictionaries, and join the result to df\n",
    "df = df.join(pd.json_normalize(df.pop('results')))\n",
    "#here we should drop project_node_input_id' record from the df, here i assume the input id should be unique\n",
    "df = df.drop_duplicates(subset='project_node_input_id', keep=\"first\")\n",
    "df.head()\n"
   ]
  },
  {
   "cell_type": "markdown",
   "id": "6a29dbde",
   "metadata": {},
   "source": [
    "#### Ectracting  ``img_``  string from ``root_input.image_url`` "
   ]
  },
  {
   "cell_type": "code",
   "execution_count": 3,
   "id": "ee6e434a",
   "metadata": {},
   "outputs": [
    {
     "data": {
      "text/html": [
       "<div>\n",
       "<style scoped>\n",
       "    .dataframe tbody tr th:only-of-type {\n",
       "        vertical-align: middle;\n",
       "    }\n",
       "\n",
       "    .dataframe tbody tr th {\n",
       "        vertical-align: top;\n",
       "    }\n",
       "\n",
       "    .dataframe thead th {\n",
       "        text-align: right;\n",
       "    }\n",
       "</style>\n",
       "<table border=\"1\" class=\"dataframe\">\n",
       "  <thead>\n",
       "    <tr style=\"text-align: right;\">\n",
       "      <th></th>\n",
       "      <th>gui_type</th>\n",
       "      <th>created_at</th>\n",
       "      <th>workpackage_total_size</th>\n",
       "      <th>loss</th>\n",
       "      <th>project_node_input_id</th>\n",
       "      <th>project_node_output_id</th>\n",
       "      <th>project_root_node_input_id</th>\n",
       "      <th>task_input.image_url</th>\n",
       "      <th>task_output.answer</th>\n",
       "      <th>task_output.cant_solve</th>\n",
       "      <th>task_output.corrupt_data</th>\n",
       "      <th>task_output.duration_ms</th>\n",
       "      <th>user.vendor_id</th>\n",
       "      <th>user.id</th>\n",
       "      <th>user.vendor_user_id</th>\n",
       "      <th>root_input.image_url</th>\n",
       "      <th>img</th>\n",
       "    </tr>\n",
       "  </thead>\n",
       "  <tbody>\n",
       "    <tr>\n",
       "      <th>0</th>\n",
       "      <td>discrete_answer</td>\n",
       "      <td>2021-02-25T14:08:11.319438+00:00</td>\n",
       "      <td>5</td>\n",
       "      <td>0.0</td>\n",
       "      <td>7e8984b6-dff7-4015-865a-b721a2faf681</td>\n",
       "      <td>0000439a-96ac-4bd4-8753-a4baa229ecf2</td>\n",
       "      <td>7e8984b6-dff7-4015-865a-b721a2faf681</td>\n",
       "      <td>https://qm-auto-annotator.s3.eu-central-1.amaz...</td>\n",
       "      <td>no</td>\n",
       "      <td>False</td>\n",
       "      <td>False</td>\n",
       "      <td>997</td>\n",
       "      <td>vendor_01</td>\n",
       "      <td>08af8775-a72c-4c59-b60f-9ce7df04fa92</td>\n",
       "      <td>annotator_12</td>\n",
       "      <td>https://qm-auto-annotator.s3.eu-central-1.amaz...</td>\n",
       "      <td>img_4686</td>\n",
       "    </tr>\n",
       "    <tr>\n",
       "      <th>1</th>\n",
       "      <td>discrete_answer</td>\n",
       "      <td>2021-02-25T13:53:31.698130+00:00</td>\n",
       "      <td>5</td>\n",
       "      <td>0.0</td>\n",
       "      <td>9d8a2527-accb-40bd-90d8-a73f20a609be</td>\n",
       "      <td>0000de80-97c8-40f4-aee1-f30377174381</td>\n",
       "      <td>9d8a2527-accb-40bd-90d8-a73f20a609be</td>\n",
       "      <td>https://qm-auto-annotator.s3.eu-central-1.amaz...</td>\n",
       "      <td>yes</td>\n",
       "      <td>False</td>\n",
       "      <td>False</td>\n",
       "      <td>1044</td>\n",
       "      <td>vendor_01</td>\n",
       "      <td>62f1cf90-71c9-45c5-990c-f9dc0aa6ea3d</td>\n",
       "      <td>annotator_11</td>\n",
       "      <td>https://qm-auto-annotator.s3.eu-central-1.amaz...</td>\n",
       "      <td>img_8607</td>\n",
       "    </tr>\n",
       "    <tr>\n",
       "      <th>2</th>\n",
       "      <td>discrete_answer</td>\n",
       "      <td>2021-02-25T13:35:02.076869+00:00</td>\n",
       "      <td>5</td>\n",
       "      <td>0.0</td>\n",
       "      <td>0625d00c-96c3-41ad-9324-37037ffd0325</td>\n",
       "      <td>00023262-3608-4678-8d3f-142e6758fadb</td>\n",
       "      <td>0625d00c-96c3-41ad-9324-37037ffd0325</td>\n",
       "      <td>https://qm-auto-annotator.s3.eu-central-1.amaz...</td>\n",
       "      <td>no</td>\n",
       "      <td>False</td>\n",
       "      <td>False</td>\n",
       "      <td>848</td>\n",
       "      <td>vendor_01</td>\n",
       "      <td>e336139c-5228-42cd-b501-81855532dfa6</td>\n",
       "      <td>annotator_05</td>\n",
       "      <td>https://qm-auto-annotator.s3.eu-central-1.amaz...</td>\n",
       "      <td>img_5541</td>\n",
       "    </tr>\n",
       "    <tr>\n",
       "      <th>3</th>\n",
       "      <td>discrete_answer</td>\n",
       "      <td>2021-02-26T03:53:40.752056+00:00</td>\n",
       "      <td>5</td>\n",
       "      <td>0.0</td>\n",
       "      <td>a7c5595d-0ee0-4dea-bf6b-7ee3fb42d0e7</td>\n",
       "      <td>00036ee9-f7da-4753-9607-7df7b57d4623</td>\n",
       "      <td>a7c5595d-0ee0-4dea-bf6b-7ee3fb42d0e7</td>\n",
       "      <td>https://qm-auto-annotator.s3.eu-central-1.amaz...</td>\n",
       "      <td>no</td>\n",
       "      <td>False</td>\n",
       "      <td>False</td>\n",
       "      <td>1077</td>\n",
       "      <td>vendor_01</td>\n",
       "      <td>5765cc32-9e32-43e1-bd78-384cfd52d55a</td>\n",
       "      <td>annotator_06</td>\n",
       "      <td>https://qm-auto-annotator.s3.eu-central-1.amaz...</td>\n",
       "      <td>img_3218</td>\n",
       "    </tr>\n",
       "    <tr>\n",
       "      <th>4</th>\n",
       "      <td>discrete_answer</td>\n",
       "      <td>2021-02-25T10:19:19.501386+00:00</td>\n",
       "      <td>5</td>\n",
       "      <td>0.0</td>\n",
       "      <td>363aaded-07f3-41b1-8c84-4bae83406757</td>\n",
       "      <td>000468b7-a24c-435c-b506-9db1bf3c700d</td>\n",
       "      <td>363aaded-07f3-41b1-8c84-4bae83406757</td>\n",
       "      <td>https://qm-auto-annotator.s3.eu-central-1.amaz...</td>\n",
       "      <td>yes</td>\n",
       "      <td>False</td>\n",
       "      <td>False</td>\n",
       "      <td>1742</td>\n",
       "      <td>vendor_01</td>\n",
       "      <td>0e606b41-ebe4-4d7d-996c-db910c84971a</td>\n",
       "      <td>annotator_20</td>\n",
       "      <td>https://qm-auto-annotator.s3.eu-central-1.amaz...</td>\n",
       "      <td>img_3247</td>\n",
       "    </tr>\n",
       "    <tr>\n",
       "      <th>...</th>\n",
       "      <td>...</td>\n",
       "      <td>...</td>\n",
       "      <td>...</td>\n",
       "      <td>...</td>\n",
       "      <td>...</td>\n",
       "      <td>...</td>\n",
       "      <td>...</td>\n",
       "      <td>...</td>\n",
       "      <td>...</td>\n",
       "      <td>...</td>\n",
       "      <td>...</td>\n",
       "      <td>...</td>\n",
       "      <td>...</td>\n",
       "      <td>...</td>\n",
       "      <td>...</td>\n",
       "      <td>...</td>\n",
       "      <td>...</td>\n",
       "    </tr>\n",
       "    <tr>\n",
       "      <th>9082</th>\n",
       "      <td>discrete_answer</td>\n",
       "      <td>2021-02-26T04:06:28.213617+00:00</td>\n",
       "      <td>5</td>\n",
       "      <td>0.0</td>\n",
       "      <td>0ea47243-a5ba-4bea-a61e-632ca41ab503</td>\n",
       "      <td>8c3b0939-0ea0-4326-b32c-525e026f74d4</td>\n",
       "      <td>0ea47243-a5ba-4bea-a61e-632ca41ab503</td>\n",
       "      <td>https://qm-auto-annotator.s3.eu-central-1.amaz...</td>\n",
       "      <td>yes</td>\n",
       "      <td>False</td>\n",
       "      <td>False</td>\n",
       "      <td>918</td>\n",
       "      <td>vendor_01</td>\n",
       "      <td>32971d11-e972-4d73-99a6-0847e1261995</td>\n",
       "      <td>annotator_18</td>\n",
       "      <td>https://qm-auto-annotator.s3.eu-central-1.amaz...</td>\n",
       "      <td>img_5282</td>\n",
       "    </tr>\n",
       "    <tr>\n",
       "      <th>9083</th>\n",
       "      <td>discrete_answer</td>\n",
       "      <td>2021-02-25T12:50:45.388598+00:00</td>\n",
       "      <td>5</td>\n",
       "      <td>0.0</td>\n",
       "      <td>9ac9d365-9dd7-44fc-9e3e-5772110bb217</td>\n",
       "      <td>8df11808-4d11-49b7-97ff-3a61f618f45c</td>\n",
       "      <td>9ac9d365-9dd7-44fc-9e3e-5772110bb217</td>\n",
       "      <td>https://qm-auto-annotator.s3.eu-central-1.amaz...</td>\n",
       "      <td>yes</td>\n",
       "      <td>False</td>\n",
       "      <td>False</td>\n",
       "      <td>1415</td>\n",
       "      <td>vendor_01</td>\n",
       "      <td>6d8be901-c6a6-43f8-a5ac-8e44b924bd84</td>\n",
       "      <td>annotator_09</td>\n",
       "      <td>https://qm-auto-annotator.s3.eu-central-1.amaz...</td>\n",
       "      <td>img_0628</td>\n",
       "    </tr>\n",
       "    <tr>\n",
       "      <th>9084</th>\n",
       "      <td>discrete_answer</td>\n",
       "      <td>2021-02-25T15:10:56.190173+00:00</td>\n",
       "      <td>5</td>\n",
       "      <td>0.0</td>\n",
       "      <td>bf4f4d43-de3b-46ef-8ed4-4d04d4641187</td>\n",
       "      <td>92ccde6e-1302-40e1-9f82-454179b7f1ae</td>\n",
       "      <td>bf4f4d43-de3b-46ef-8ed4-4d04d4641187</td>\n",
       "      <td>https://qm-auto-annotator.s3.eu-central-1.amaz...</td>\n",
       "      <td>yes</td>\n",
       "      <td>False</td>\n",
       "      <td>False</td>\n",
       "      <td>1047</td>\n",
       "      <td>vendor_01</td>\n",
       "      <td>37a6036c-a9ef-4fcb-b554-7058f00415db</td>\n",
       "      <td>annotator_02</td>\n",
       "      <td>https://qm-auto-annotator.s3.eu-central-1.amaz...</td>\n",
       "      <td>img_7736</td>\n",
       "    </tr>\n",
       "    <tr>\n",
       "      <th>9085</th>\n",
       "      <td>discrete_answer</td>\n",
       "      <td>2021-02-25T14:42:36.468576+00:00</td>\n",
       "      <td>5</td>\n",
       "      <td>0.0</td>\n",
       "      <td>cfa36c30-31ab-4647-bbc0-7e505db482ac</td>\n",
       "      <td>93799099-e674-43c3-a3e8-d8b872aad0eb</td>\n",
       "      <td>cfa36c30-31ab-4647-bbc0-7e505db482ac</td>\n",
       "      <td>https://qm-auto-annotator.s3.eu-central-1.amaz...</td>\n",
       "      <td>no</td>\n",
       "      <td>False</td>\n",
       "      <td>False</td>\n",
       "      <td>911</td>\n",
       "      <td>vendor_01</td>\n",
       "      <td>6d8be901-c6a6-43f8-a5ac-8e44b924bd84</td>\n",
       "      <td>annotator_09</td>\n",
       "      <td>https://qm-auto-annotator.s3.eu-central-1.amaz...</td>\n",
       "      <td>img_1042</td>\n",
       "    </tr>\n",
       "    <tr>\n",
       "      <th>9086</th>\n",
       "      <td>discrete_answer</td>\n",
       "      <td>2021-02-26T03:50:31.899478+00:00</td>\n",
       "      <td>5</td>\n",
       "      <td>0.0</td>\n",
       "      <td>3db139c1-7fec-44b3-b770-a790bfcff241</td>\n",
       "      <td>98663a9a-dfa3-4c80-9d8a-9fc255bdf51e</td>\n",
       "      <td>3db139c1-7fec-44b3-b770-a790bfcff241</td>\n",
       "      <td>https://qm-auto-annotator.s3.eu-central-1.amaz...</td>\n",
       "      <td>yes</td>\n",
       "      <td>False</td>\n",
       "      <td>False</td>\n",
       "      <td>1467</td>\n",
       "      <td>vendor_01</td>\n",
       "      <td>94afdf79-917c-4904-bdaa-7a121f33b0ff</td>\n",
       "      <td>annotator_17</td>\n",
       "      <td>https://qm-auto-annotator.s3.eu-central-1.amaz...</td>\n",
       "      <td>img_2866</td>\n",
       "    </tr>\n",
       "  </tbody>\n",
       "</table>\n",
       "<p>9087 rows × 17 columns</p>\n",
       "</div>"
      ],
      "text/plain": [
       "             gui_type                        created_at  \\\n",
       "0     discrete_answer  2021-02-25T14:08:11.319438+00:00   \n",
       "1     discrete_answer  2021-02-25T13:53:31.698130+00:00   \n",
       "2     discrete_answer  2021-02-25T13:35:02.076869+00:00   \n",
       "3     discrete_answer  2021-02-26T03:53:40.752056+00:00   \n",
       "4     discrete_answer  2021-02-25T10:19:19.501386+00:00   \n",
       "...               ...                               ...   \n",
       "9082  discrete_answer  2021-02-26T04:06:28.213617+00:00   \n",
       "9083  discrete_answer  2021-02-25T12:50:45.388598+00:00   \n",
       "9084  discrete_answer  2021-02-25T15:10:56.190173+00:00   \n",
       "9085  discrete_answer  2021-02-25T14:42:36.468576+00:00   \n",
       "9086  discrete_answer  2021-02-26T03:50:31.899478+00:00   \n",
       "\n",
       "      workpackage_total_size  loss                 project_node_input_id  \\\n",
       "0                          5   0.0  7e8984b6-dff7-4015-865a-b721a2faf681   \n",
       "1                          5   0.0  9d8a2527-accb-40bd-90d8-a73f20a609be   \n",
       "2                          5   0.0  0625d00c-96c3-41ad-9324-37037ffd0325   \n",
       "3                          5   0.0  a7c5595d-0ee0-4dea-bf6b-7ee3fb42d0e7   \n",
       "4                          5   0.0  363aaded-07f3-41b1-8c84-4bae83406757   \n",
       "...                      ...   ...                                   ...   \n",
       "9082                       5   0.0  0ea47243-a5ba-4bea-a61e-632ca41ab503   \n",
       "9083                       5   0.0  9ac9d365-9dd7-44fc-9e3e-5772110bb217   \n",
       "9084                       5   0.0  bf4f4d43-de3b-46ef-8ed4-4d04d4641187   \n",
       "9085                       5   0.0  cfa36c30-31ab-4647-bbc0-7e505db482ac   \n",
       "9086                       5   0.0  3db139c1-7fec-44b3-b770-a790bfcff241   \n",
       "\n",
       "                    project_node_output_id  \\\n",
       "0     0000439a-96ac-4bd4-8753-a4baa229ecf2   \n",
       "1     0000de80-97c8-40f4-aee1-f30377174381   \n",
       "2     00023262-3608-4678-8d3f-142e6758fadb   \n",
       "3     00036ee9-f7da-4753-9607-7df7b57d4623   \n",
       "4     000468b7-a24c-435c-b506-9db1bf3c700d   \n",
       "...                                    ...   \n",
       "9082  8c3b0939-0ea0-4326-b32c-525e026f74d4   \n",
       "9083  8df11808-4d11-49b7-97ff-3a61f618f45c   \n",
       "9084  92ccde6e-1302-40e1-9f82-454179b7f1ae   \n",
       "9085  93799099-e674-43c3-a3e8-d8b872aad0eb   \n",
       "9086  98663a9a-dfa3-4c80-9d8a-9fc255bdf51e   \n",
       "\n",
       "                project_root_node_input_id  \\\n",
       "0     7e8984b6-dff7-4015-865a-b721a2faf681   \n",
       "1     9d8a2527-accb-40bd-90d8-a73f20a609be   \n",
       "2     0625d00c-96c3-41ad-9324-37037ffd0325   \n",
       "3     a7c5595d-0ee0-4dea-bf6b-7ee3fb42d0e7   \n",
       "4     363aaded-07f3-41b1-8c84-4bae83406757   \n",
       "...                                    ...   \n",
       "9082  0ea47243-a5ba-4bea-a61e-632ca41ab503   \n",
       "9083  9ac9d365-9dd7-44fc-9e3e-5772110bb217   \n",
       "9084  bf4f4d43-de3b-46ef-8ed4-4d04d4641187   \n",
       "9085  cfa36c30-31ab-4647-bbc0-7e505db482ac   \n",
       "9086  3db139c1-7fec-44b3-b770-a790bfcff241   \n",
       "\n",
       "                                   task_input.image_url task_output.answer  \\\n",
       "0     https://qm-auto-annotator.s3.eu-central-1.amaz...                 no   \n",
       "1     https://qm-auto-annotator.s3.eu-central-1.amaz...                yes   \n",
       "2     https://qm-auto-annotator.s3.eu-central-1.amaz...                 no   \n",
       "3     https://qm-auto-annotator.s3.eu-central-1.amaz...                 no   \n",
       "4     https://qm-auto-annotator.s3.eu-central-1.amaz...                yes   \n",
       "...                                                 ...                ...   \n",
       "9082  https://qm-auto-annotator.s3.eu-central-1.amaz...                yes   \n",
       "9083  https://qm-auto-annotator.s3.eu-central-1.amaz...                yes   \n",
       "9084  https://qm-auto-annotator.s3.eu-central-1.amaz...                yes   \n",
       "9085  https://qm-auto-annotator.s3.eu-central-1.amaz...                 no   \n",
       "9086  https://qm-auto-annotator.s3.eu-central-1.amaz...                yes   \n",
       "\n",
       "      task_output.cant_solve  task_output.corrupt_data  \\\n",
       "0                      False                     False   \n",
       "1                      False                     False   \n",
       "2                      False                     False   \n",
       "3                      False                     False   \n",
       "4                      False                     False   \n",
       "...                      ...                       ...   \n",
       "9082                   False                     False   \n",
       "9083                   False                     False   \n",
       "9084                   False                     False   \n",
       "9085                   False                     False   \n",
       "9086                   False                     False   \n",
       "\n",
       "      task_output.duration_ms user.vendor_id  \\\n",
       "0                         997      vendor_01   \n",
       "1                        1044      vendor_01   \n",
       "2                         848      vendor_01   \n",
       "3                        1077      vendor_01   \n",
       "4                        1742      vendor_01   \n",
       "...                       ...            ...   \n",
       "9082                      918      vendor_01   \n",
       "9083                     1415      vendor_01   \n",
       "9084                     1047      vendor_01   \n",
       "9085                      911      vendor_01   \n",
       "9086                     1467      vendor_01   \n",
       "\n",
       "                                   user.id user.vendor_user_id  \\\n",
       "0     08af8775-a72c-4c59-b60f-9ce7df04fa92        annotator_12   \n",
       "1     62f1cf90-71c9-45c5-990c-f9dc0aa6ea3d        annotator_11   \n",
       "2     e336139c-5228-42cd-b501-81855532dfa6        annotator_05   \n",
       "3     5765cc32-9e32-43e1-bd78-384cfd52d55a        annotator_06   \n",
       "4     0e606b41-ebe4-4d7d-996c-db910c84971a        annotator_20   \n",
       "...                                    ...                 ...   \n",
       "9082  32971d11-e972-4d73-99a6-0847e1261995        annotator_18   \n",
       "9083  6d8be901-c6a6-43f8-a5ac-8e44b924bd84        annotator_09   \n",
       "9084  37a6036c-a9ef-4fcb-b554-7058f00415db        annotator_02   \n",
       "9085  6d8be901-c6a6-43f8-a5ac-8e44b924bd84        annotator_09   \n",
       "9086  94afdf79-917c-4904-bdaa-7a121f33b0ff        annotator_17   \n",
       "\n",
       "                                   root_input.image_url       img  \n",
       "0     https://qm-auto-annotator.s3.eu-central-1.amaz...  img_4686  \n",
       "1     https://qm-auto-annotator.s3.eu-central-1.amaz...  img_8607  \n",
       "2     https://qm-auto-annotator.s3.eu-central-1.amaz...  img_5541  \n",
       "3     https://qm-auto-annotator.s3.eu-central-1.amaz...  img_3218  \n",
       "4     https://qm-auto-annotator.s3.eu-central-1.amaz...  img_3247  \n",
       "...                                                 ...       ...  \n",
       "9082  https://qm-auto-annotator.s3.eu-central-1.amaz...  img_5282  \n",
       "9083  https://qm-auto-annotator.s3.eu-central-1.amaz...  img_0628  \n",
       "9084  https://qm-auto-annotator.s3.eu-central-1.amaz...  img_7736  \n",
       "9085  https://qm-auto-annotator.s3.eu-central-1.amaz...  img_1042  \n",
       "9086  https://qm-auto-annotator.s3.eu-central-1.amaz...  img_2866  \n",
       "\n",
       "[9087 rows x 17 columns]"
      ]
     },
     "execution_count": 3,
     "metadata": {},
     "output_type": "execute_result"
    }
   ],
   "source": [
    "df['img'] = df['root_input.image_url'].str.extract('(img_\\d+)')\n",
    "df.reset_index(drop=True)"
   ]
  },
  {
   "cell_type": "code",
   "execution_count": 4,
   "id": "ea201d12",
   "metadata": {},
   "outputs": [
    {
     "data": {
      "text/plain": [
       "Index(['gui_type', 'created_at', 'workpackage_total_size', 'loss',\n",
       "       'project_node_input_id', 'project_node_output_id',\n",
       "       'project_root_node_input_id', 'task_input.image_url',\n",
       "       'task_output.answer', 'task_output.cant_solve',\n",
       "       'task_output.corrupt_data', 'task_output.duration_ms', 'user.vendor_id',\n",
       "       'user.id', 'user.vendor_user_id', 'root_input.image_url', 'img'],\n",
       "      dtype='object')"
      ]
     },
     "execution_count": 4,
     "metadata": {},
     "output_type": "execute_result"
    }
   ],
   "source": [
    "df.columns"
   ]
  },
  {
   "cell_type": "markdown",
   "id": "308cb5da",
   "metadata": {},
   "source": [
    "#### Loading the ``references.json file``"
   ]
  },
  {
   "cell_type": "code",
   "execution_count": 5,
   "id": "d119714c",
   "metadata": {
    "scrolled": true
   },
   "outputs": [
    {
     "data": {
      "text/plain": [
       "img           0\n",
       "is_bicycle    0\n",
       "dtype: int64"
      ]
     },
     "execution_count": 5,
     "metadata": {},
     "output_type": "execute_result"
    }
   ],
   "source": [
    "with open('../data/references.json') as f:\n",
    "    j1 = json.load(f)\n",
    "df1 = pd.json_normalize(j1).T\n",
    "df1=pd.json_normalize(j1,max_level=0).T\n",
    "df1.columns=['result']\n",
    "# Create a new column with index values\n",
    "#df1['img'] = df1.index\n",
    "\n",
    "#using reset_index() to set index into column\n",
    "df2=df1.reset_index()\n",
    "df2=df2.rename(columns={'index':'img'})\n",
    "df2=pd.concat([df2.drop(['result'], axis=1), df2['result'].apply(pd.Series)], axis=1)\n",
    "df2.isnull().sum()\n"
   ]
  },
  {
   "cell_type": "markdown",
   "id": "aedf3acf",
   "metadata": {},
   "source": [
    "### Joining two data frames  on ``img`` column"
   ]
  },
  {
   "cell_type": "code",
   "execution_count": 6,
   "id": "4e2bc17a",
   "metadata": {},
   "outputs": [
    {
     "data": {
      "text/html": [
       "<div>\n",
       "<style scoped>\n",
       "    .dataframe tbody tr th:only-of-type {\n",
       "        vertical-align: middle;\n",
       "    }\n",
       "\n",
       "    .dataframe tbody tr th {\n",
       "        vertical-align: top;\n",
       "    }\n",
       "\n",
       "    .dataframe thead th {\n",
       "        text-align: right;\n",
       "    }\n",
       "</style>\n",
       "<table border=\"1\" class=\"dataframe\">\n",
       "  <thead>\n",
       "    <tr style=\"text-align: right;\">\n",
       "      <th></th>\n",
       "      <th>gui_type</th>\n",
       "      <th>created_at</th>\n",
       "      <th>workpackage_total_size</th>\n",
       "      <th>loss</th>\n",
       "      <th>project_node_input_id</th>\n",
       "      <th>project_node_output_id</th>\n",
       "      <th>project_root_node_input_id</th>\n",
       "      <th>task_input.image_url</th>\n",
       "      <th>task_output.answer</th>\n",
       "      <th>task_output.cant_solve</th>\n",
       "      <th>task_output.corrupt_data</th>\n",
       "      <th>task_output.duration_ms</th>\n",
       "      <th>user.vendor_id</th>\n",
       "      <th>user.id</th>\n",
       "      <th>user.vendor_user_id</th>\n",
       "      <th>root_input.image_url</th>\n",
       "      <th>img</th>\n",
       "      <th>is_bicycle</th>\n",
       "    </tr>\n",
       "  </thead>\n",
       "  <tbody>\n",
       "    <tr>\n",
       "      <th>0</th>\n",
       "      <td>discrete_answer</td>\n",
       "      <td>2021-02-25T14:08:11.319438+00:00</td>\n",
       "      <td>5</td>\n",
       "      <td>0.0</td>\n",
       "      <td>7e8984b6-dff7-4015-865a-b721a2faf681</td>\n",
       "      <td>0000439a-96ac-4bd4-8753-a4baa229ecf2</td>\n",
       "      <td>7e8984b6-dff7-4015-865a-b721a2faf681</td>\n",
       "      <td>https://qm-auto-annotator.s3.eu-central-1.amaz...</td>\n",
       "      <td>no</td>\n",
       "      <td>False</td>\n",
       "      <td>False</td>\n",
       "      <td>997</td>\n",
       "      <td>vendor_01</td>\n",
       "      <td>08af8775-a72c-4c59-b60f-9ce7df04fa92</td>\n",
       "      <td>annotator_12</td>\n",
       "      <td>https://qm-auto-annotator.s3.eu-central-1.amaz...</td>\n",
       "      <td>img_4686</td>\n",
       "      <td>False</td>\n",
       "    </tr>\n",
       "    <tr>\n",
       "      <th>1</th>\n",
       "      <td>discrete_answer</td>\n",
       "      <td>2021-02-25T13:53:31.698130+00:00</td>\n",
       "      <td>5</td>\n",
       "      <td>0.0</td>\n",
       "      <td>9d8a2527-accb-40bd-90d8-a73f20a609be</td>\n",
       "      <td>0000de80-97c8-40f4-aee1-f30377174381</td>\n",
       "      <td>9d8a2527-accb-40bd-90d8-a73f20a609be</td>\n",
       "      <td>https://qm-auto-annotator.s3.eu-central-1.amaz...</td>\n",
       "      <td>yes</td>\n",
       "      <td>False</td>\n",
       "      <td>False</td>\n",
       "      <td>1044</td>\n",
       "      <td>vendor_01</td>\n",
       "      <td>62f1cf90-71c9-45c5-990c-f9dc0aa6ea3d</td>\n",
       "      <td>annotator_11</td>\n",
       "      <td>https://qm-auto-annotator.s3.eu-central-1.amaz...</td>\n",
       "      <td>img_8607</td>\n",
       "      <td>True</td>\n",
       "    </tr>\n",
       "    <tr>\n",
       "      <th>2</th>\n",
       "      <td>discrete_answer</td>\n",
       "      <td>2021-02-25T13:35:02.076869+00:00</td>\n",
       "      <td>5</td>\n",
       "      <td>0.0</td>\n",
       "      <td>0625d00c-96c3-41ad-9324-37037ffd0325</td>\n",
       "      <td>00023262-3608-4678-8d3f-142e6758fadb</td>\n",
       "      <td>0625d00c-96c3-41ad-9324-37037ffd0325</td>\n",
       "      <td>https://qm-auto-annotator.s3.eu-central-1.amaz...</td>\n",
       "      <td>no</td>\n",
       "      <td>False</td>\n",
       "      <td>False</td>\n",
       "      <td>848</td>\n",
       "      <td>vendor_01</td>\n",
       "      <td>e336139c-5228-42cd-b501-81855532dfa6</td>\n",
       "      <td>annotator_05</td>\n",
       "      <td>https://qm-auto-annotator.s3.eu-central-1.amaz...</td>\n",
       "      <td>img_5541</td>\n",
       "      <td>False</td>\n",
       "    </tr>\n",
       "    <tr>\n",
       "      <th>3</th>\n",
       "      <td>discrete_answer</td>\n",
       "      <td>2021-02-26T03:53:40.752056+00:00</td>\n",
       "      <td>5</td>\n",
       "      <td>0.0</td>\n",
       "      <td>a7c5595d-0ee0-4dea-bf6b-7ee3fb42d0e7</td>\n",
       "      <td>00036ee9-f7da-4753-9607-7df7b57d4623</td>\n",
       "      <td>a7c5595d-0ee0-4dea-bf6b-7ee3fb42d0e7</td>\n",
       "      <td>https://qm-auto-annotator.s3.eu-central-1.amaz...</td>\n",
       "      <td>no</td>\n",
       "      <td>False</td>\n",
       "      <td>False</td>\n",
       "      <td>1077</td>\n",
       "      <td>vendor_01</td>\n",
       "      <td>5765cc32-9e32-43e1-bd78-384cfd52d55a</td>\n",
       "      <td>annotator_06</td>\n",
       "      <td>https://qm-auto-annotator.s3.eu-central-1.amaz...</td>\n",
       "      <td>img_3218</td>\n",
       "      <td>False</td>\n",
       "    </tr>\n",
       "    <tr>\n",
       "      <th>4</th>\n",
       "      <td>discrete_answer</td>\n",
       "      <td>2021-02-25T10:19:19.501386+00:00</td>\n",
       "      <td>5</td>\n",
       "      <td>0.0</td>\n",
       "      <td>363aaded-07f3-41b1-8c84-4bae83406757</td>\n",
       "      <td>000468b7-a24c-435c-b506-9db1bf3c700d</td>\n",
       "      <td>363aaded-07f3-41b1-8c84-4bae83406757</td>\n",
       "      <td>https://qm-auto-annotator.s3.eu-central-1.amaz...</td>\n",
       "      <td>yes</td>\n",
       "      <td>False</td>\n",
       "      <td>False</td>\n",
       "      <td>1742</td>\n",
       "      <td>vendor_01</td>\n",
       "      <td>0e606b41-ebe4-4d7d-996c-db910c84971a</td>\n",
       "      <td>annotator_20</td>\n",
       "      <td>https://qm-auto-annotator.s3.eu-central-1.amaz...</td>\n",
       "      <td>img_3247</td>\n",
       "      <td>True</td>\n",
       "    </tr>\n",
       "  </tbody>\n",
       "</table>\n",
       "</div>"
      ],
      "text/plain": [
       "          gui_type                        created_at  workpackage_total_size  \\\n",
       "0  discrete_answer  2021-02-25T14:08:11.319438+00:00                       5   \n",
       "1  discrete_answer  2021-02-25T13:53:31.698130+00:00                       5   \n",
       "2  discrete_answer  2021-02-25T13:35:02.076869+00:00                       5   \n",
       "3  discrete_answer  2021-02-26T03:53:40.752056+00:00                       5   \n",
       "4  discrete_answer  2021-02-25T10:19:19.501386+00:00                       5   \n",
       "\n",
       "   loss                 project_node_input_id  \\\n",
       "0   0.0  7e8984b6-dff7-4015-865a-b721a2faf681   \n",
       "1   0.0  9d8a2527-accb-40bd-90d8-a73f20a609be   \n",
       "2   0.0  0625d00c-96c3-41ad-9324-37037ffd0325   \n",
       "3   0.0  a7c5595d-0ee0-4dea-bf6b-7ee3fb42d0e7   \n",
       "4   0.0  363aaded-07f3-41b1-8c84-4bae83406757   \n",
       "\n",
       "                 project_node_output_id            project_root_node_input_id  \\\n",
       "0  0000439a-96ac-4bd4-8753-a4baa229ecf2  7e8984b6-dff7-4015-865a-b721a2faf681   \n",
       "1  0000de80-97c8-40f4-aee1-f30377174381  9d8a2527-accb-40bd-90d8-a73f20a609be   \n",
       "2  00023262-3608-4678-8d3f-142e6758fadb  0625d00c-96c3-41ad-9324-37037ffd0325   \n",
       "3  00036ee9-f7da-4753-9607-7df7b57d4623  a7c5595d-0ee0-4dea-bf6b-7ee3fb42d0e7   \n",
       "4  000468b7-a24c-435c-b506-9db1bf3c700d  363aaded-07f3-41b1-8c84-4bae83406757   \n",
       "\n",
       "                                task_input.image_url task_output.answer  \\\n",
       "0  https://qm-auto-annotator.s3.eu-central-1.amaz...                 no   \n",
       "1  https://qm-auto-annotator.s3.eu-central-1.amaz...                yes   \n",
       "2  https://qm-auto-annotator.s3.eu-central-1.amaz...                 no   \n",
       "3  https://qm-auto-annotator.s3.eu-central-1.amaz...                 no   \n",
       "4  https://qm-auto-annotator.s3.eu-central-1.amaz...                yes   \n",
       "\n",
       "   task_output.cant_solve  task_output.corrupt_data  task_output.duration_ms  \\\n",
       "0                   False                     False                      997   \n",
       "1                   False                     False                     1044   \n",
       "2                   False                     False                      848   \n",
       "3                   False                     False                     1077   \n",
       "4                   False                     False                     1742   \n",
       "\n",
       "  user.vendor_id                               user.id user.vendor_user_id  \\\n",
       "0      vendor_01  08af8775-a72c-4c59-b60f-9ce7df04fa92        annotator_12   \n",
       "1      vendor_01  62f1cf90-71c9-45c5-990c-f9dc0aa6ea3d        annotator_11   \n",
       "2      vendor_01  e336139c-5228-42cd-b501-81855532dfa6        annotator_05   \n",
       "3      vendor_01  5765cc32-9e32-43e1-bd78-384cfd52d55a        annotator_06   \n",
       "4      vendor_01  0e606b41-ebe4-4d7d-996c-db910c84971a        annotator_20   \n",
       "\n",
       "                                root_input.image_url       img  is_bicycle  \n",
       "0  https://qm-auto-annotator.s3.eu-central-1.amaz...  img_4686       False  \n",
       "1  https://qm-auto-annotator.s3.eu-central-1.amaz...  img_8607        True  \n",
       "2  https://qm-auto-annotator.s3.eu-central-1.amaz...  img_5541       False  \n",
       "3  https://qm-auto-annotator.s3.eu-central-1.amaz...  img_3218       False  \n",
       "4  https://qm-auto-annotator.s3.eu-central-1.amaz...  img_3247        True  "
      ]
     },
     "execution_count": 6,
     "metadata": {},
     "output_type": "execute_result"
    }
   ],
   "source": [
    "df_new=pd.merge(df, df2, on='img')\n",
    "df_new.head()"
   ]
  },
  {
   "cell_type": "code",
   "execution_count": 7,
   "id": "9bb94150",
   "metadata": {},
   "outputs": [
    {
     "data": {
      "text/plain": [
       "(9087, 18)"
      ]
     },
     "execution_count": 7,
     "metadata": {},
     "output_type": "execute_result"
    }
   ],
   "source": [
    "df_new.shape"
   ]
  },
  {
   "cell_type": "markdown",
   "id": "6c5b0a5d",
   "metadata": {},
   "source": [
    "### Saving to csv file "
   ]
  },
  {
   "cell_type": "code",
   "execution_count": 8,
   "id": "ca9f51a9",
   "metadata": {},
   "outputs": [],
   "source": [
    "df_new.to_csv('../data/finaldata.csv')"
   ]
  },
  {
   "cell_type": "markdown",
   "id": "eb664bad",
   "metadata": {},
   "source": [
    "### Reading from csv file to dataframe"
   ]
  },
  {
   "cell_type": "code",
   "execution_count": 19,
   "id": "9e770ee9",
   "metadata": {},
   "outputs": [],
   "source": [
    "df_new=pd.read_csv('../data/finaldata.csv')"
   ]
  },
  {
   "cell_type": "markdown",
   "id": "ed9d4630",
   "metadata": {},
   "source": [
    "### Understanding data"
   ]
  },
  {
   "cell_type": "code",
   "execution_count": 20,
   "id": "f77ffa67",
   "metadata": {},
   "outputs": [
    {
     "data": {
      "text/plain": [
       "(9087, 18)"
      ]
     },
     "execution_count": 20,
     "metadata": {},
     "output_type": "execute_result"
    }
   ],
   "source": [
    "df_new.reset_index(drop=True)\n",
    "df_new.drop(columns='Unnamed: 0',inplace=True)\n",
    "df_new.shape"
   ]
  },
  {
   "cell_type": "code",
   "execution_count": 21,
   "id": "8be95792",
   "metadata": {},
   "outputs": [
    {
     "name": "stdout",
     "output_type": "stream",
     "text": [
      "<class 'pandas.core.frame.DataFrame'>\n",
      "RangeIndex: 9087 entries, 0 to 9086\n",
      "Data columns (total 18 columns):\n",
      " #   Column                      Non-Null Count  Dtype  \n",
      "---  ------                      --------------  -----  \n",
      " 0   gui_type                    9087 non-null   object \n",
      " 1   created_at                  9087 non-null   object \n",
      " 2   workpackage_total_size      9087 non-null   int64  \n",
      " 3   loss                        9087 non-null   float64\n",
      " 4   project_node_input_id       9087 non-null   object \n",
      " 5   project_node_output_id      9087 non-null   object \n",
      " 6   project_root_node_input_id  9087 non-null   object \n",
      " 7   task_input.image_url        9087 non-null   object \n",
      " 8   task_output.answer          9085 non-null   object \n",
      " 9   task_output.cant_solve      9087 non-null   bool   \n",
      " 10  task_output.corrupt_data    9087 non-null   bool   \n",
      " 11  task_output.duration_ms     9087 non-null   int64  \n",
      " 12  user.vendor_id              9087 non-null   object \n",
      " 13  user.id                     9087 non-null   object \n",
      " 14  user.vendor_user_id         9087 non-null   object \n",
      " 15  root_input.image_url        9087 non-null   object \n",
      " 16  img                         9087 non-null   object \n",
      " 17  is_bicycle                  9087 non-null   bool   \n",
      "dtypes: bool(3), float64(1), int64(2), object(12)\n",
      "memory usage: 1.1+ MB\n"
     ]
    }
   ],
   "source": [
    "df_new.info()"
   ]
  },
  {
   "cell_type": "markdown",
   "id": "6b20095e",
   "metadata": {},
   "source": [
    "- The file contains 9087 records and 18 features.\n",
    "- Almost all columns data is chategorcial except time columns"
   ]
  },
  {
   "cell_type": "markdown",
   "id": "9217262f",
   "metadata": {},
   "source": [
    "### Data Cleaning \n",
    "\n",
    "#### `` gui_type feature``"
   ]
  },
  {
   "cell_type": "code",
   "execution_count": 22,
   "id": "8be21e62",
   "metadata": {},
   "outputs": [
    {
     "data": {
      "text/plain": [
       "discrete_answer    9087\n",
       "Name: gui_type, dtype: int64"
      ]
     },
     "execution_count": 22,
     "metadata": {},
     "output_type": "execute_result"
    }
   ],
   "source": [
    "df_new.gui_type.value_counts()"
   ]
  },
  {
   "cell_type": "markdown",
   "id": "57cbd35f",
   "metadata": {},
   "source": [
    "- There is only one type of answer with 'gui_type'  so it will not help to us to anaysis data.\n",
    "- 'task_input.image_url' and 'root_input.image_url' also not help for further data analysis.\n",
    " ### checking column value dupication "
   ]
  },
  {
   "cell_type": "code",
   "execution_count": 23,
   "id": "497ccfbd",
   "metadata": {},
   "outputs": [
    {
     "data": {
      "text/plain": [
       "True"
      ]
     },
     "execution_count": 23,
     "metadata": {},
     "output_type": "execute_result"
    }
   ],
   "source": [
    "df_new['project_node_input_id'].equals(df_new['project_root_node_input_id'])"
   ]
  },
  {
   "cell_type": "markdown",
   "id": "e136b606",
   "metadata": {},
   "source": [
    "-  Here ``project_node_input_id`` column is duplicated with ``project_root_node_input_id`` column,so decided to drop one of them."
   ]
  },
  {
   "cell_type": "code",
   "execution_count": 24,
   "id": "b92393a2",
   "metadata": {},
   "outputs": [
    {
     "data": {
      "text/plain": [
       "False    9085\n",
       "True        2\n",
       "Name: task_output.cant_solve, dtype: int64"
      ]
     },
     "execution_count": 24,
     "metadata": {},
     "output_type": "execute_result"
    }
   ],
   "source": [
    "df_new['task_output.cant_solve'].value_counts()"
   ]
  },
  {
   "cell_type": "markdown",
   "id": "5fffcee4",
   "metadata": {},
   "source": [
    "- Here ``task_output.cant_solve`` column contains only two images with True"
   ]
  },
  {
   "cell_type": "code",
   "execution_count": 25,
   "id": "73162961",
   "metadata": {},
   "outputs": [
    {
     "data": {
      "text/plain": [
       "False    9087\n",
       "Name: task_output.corrupt_data, dtype: int64"
      ]
     },
     "execution_count": 25,
     "metadata": {},
     "output_type": "execute_result"
    }
   ],
   "source": [
    "df_new['task_output.corrupt_data'].value_counts()"
   ]
  },
  {
   "cell_type": "markdown",
   "id": "88aa9bc8",
   "metadata": {},
   "source": [
    "- Here ``task_output.corrupt_data`` have only one category 'False' ,so data is not correpted."
   ]
  },
  {
   "cell_type": "code",
   "execution_count": 26,
   "id": "cb2e1cd8",
   "metadata": {},
   "outputs": [
    {
     "data": {
      "text/plain": [
       "0"
      ]
     },
     "execution_count": 26,
     "metadata": {},
     "output_type": "execute_result"
    }
   ],
   "source": [
    "df_new.img.isnull().sum()"
   ]
  },
  {
   "cell_type": "code",
   "execution_count": 27,
   "id": "fd5a7897",
   "metadata": {},
   "outputs": [
    {
     "data": {
      "text/plain": [
       "0"
      ]
     },
     "execution_count": 27,
     "metadata": {},
     "output_type": "execute_result"
    }
   ],
   "source": [
    "df_new['is_bicycle'].isnull().sum()"
   ]
  },
  {
   "cell_type": "markdown",
   "id": "46702f5e",
   "metadata": {},
   "source": [
    "- Here img and is_bicycle column dont have any null values."
   ]
  },
  {
   "cell_type": "code",
   "execution_count": 28,
   "id": "b1bee182",
   "metadata": {
    "scrolled": true
   },
   "outputs": [
    {
     "data": {
      "text/plain": [
       "vendor_01    9087\n",
       "Name: user.vendor_id, dtype: int64"
      ]
     },
     "execution_count": 28,
     "metadata": {},
     "output_type": "execute_result"
    }
   ],
   "source": [
    "df_new['user.vendor_id'].value_counts()"
   ]
  },
  {
   "cell_type": "markdown",
   "id": "e3887069",
   "metadata": {},
   "source": [
    "- Here ``user.vendor_id`` have only one category,it will not help much for analysis ,decided to drop."
   ]
  },
  {
   "cell_type": "code",
   "execution_count": 29,
   "id": "5bb0a28a",
   "metadata": {},
   "outputs": [
    {
     "data": {
      "text/plain": [
       "5    9082\n",
       "1       2\n",
       "2       2\n",
       "3       1\n",
       "Name: workpackage_total_size, dtype: int64"
      ]
     },
     "execution_count": 29,
     "metadata": {},
     "output_type": "execute_result"
    }
   ],
   "source": [
    "df_new['workpackage_total_size'].value_counts()\n"
   ]
  },
  {
   "cell_type": "markdown",
   "id": "01e3c061",
   "metadata": {},
   "source": [
    "- Here total 4 workpakaege groups given."
   ]
  },
  {
   "cell_type": "code",
   "execution_count": 30,
   "id": "f2d71bf1",
   "metadata": {},
   "outputs": [
    {
     "data": {
      "text/plain": [
       "0.0    9087\n",
       "Name: loss, dtype: int64"
      ]
     },
     "execution_count": 30,
     "metadata": {},
     "output_type": "execute_result"
    }
   ],
   "source": [
    "df_new['loss'].value_counts()"
   ]
  },
  {
   "cell_type": "markdown",
   "id": "e8ad4ca9",
   "metadata": {},
   "source": [
    "- Here ``Loss`` column  also not giving much infromation,so decided to drop."
   ]
  },
  {
   "cell_type": "code",
   "execution_count": 31,
   "id": "cf806da6",
   "metadata": {},
   "outputs": [
    {
     "data": {
      "text/plain": [
       "yes    4618\n",
       "no     4467\n",
       "Name: task_output.answer, dtype: int64"
      ]
     },
     "execution_count": 31,
     "metadata": {},
     "output_type": "execute_result"
    }
   ],
   "source": [
    "df_new['task_output.answer'].value_counts()\n"
   ]
  },
  {
   "cell_type": "markdown",
   "id": "367f8332",
   "metadata": {},
   "source": [
    "- Here the ``task_output.answer``  column  almost eqally  provided results."
   ]
  },
  {
   "cell_type": "code",
   "execution_count": 32,
   "id": "ddfa4820",
   "metadata": {},
   "outputs": [
    {
     "data": {
      "text/html": [
       "<div>\n",
       "<style scoped>\n",
       "    .dataframe tbody tr th:only-of-type {\n",
       "        vertical-align: middle;\n",
       "    }\n",
       "\n",
       "    .dataframe tbody tr th {\n",
       "        vertical-align: top;\n",
       "    }\n",
       "\n",
       "    .dataframe thead th {\n",
       "        text-align: right;\n",
       "    }\n",
       "</style>\n",
       "<table border=\"1\" class=\"dataframe\">\n",
       "  <thead>\n",
       "    <tr style=\"text-align: right;\">\n",
       "      <th></th>\n",
       "      <th>gui_type</th>\n",
       "      <th>created_at</th>\n",
       "      <th>workpackage_total_size</th>\n",
       "      <th>loss</th>\n",
       "      <th>project_node_input_id</th>\n",
       "      <th>project_node_output_id</th>\n",
       "      <th>project_root_node_input_id</th>\n",
       "      <th>task_input.image_url</th>\n",
       "      <th>task_output.answer</th>\n",
       "      <th>task_output.cant_solve</th>\n",
       "      <th>task_output.corrupt_data</th>\n",
       "      <th>task_output.duration_ms</th>\n",
       "      <th>user.vendor_id</th>\n",
       "      <th>user.id</th>\n",
       "      <th>user.vendor_user_id</th>\n",
       "      <th>root_input.image_url</th>\n",
       "      <th>img</th>\n",
       "      <th>is_bicycle</th>\n",
       "    </tr>\n",
       "  </thead>\n",
       "  <tbody>\n",
       "    <tr>\n",
       "      <th>7024</th>\n",
       "      <td>discrete_answer</td>\n",
       "      <td>2021-02-25T13:16:11.077555+00:00</td>\n",
       "      <td>5</td>\n",
       "      <td>0.0</td>\n",
       "      <td>035315c3-ef9b-47c9-b48a-a6dca661b38c</td>\n",
       "      <td>234248a6-016b-451d-9e77-110ae1e7c92f</td>\n",
       "      <td>035315c3-ef9b-47c9-b48a-a6dca661b38c</td>\n",
       "      <td>https://qm-auto-annotator.s3.eu-central-1.amaz...</td>\n",
       "      <td>NaN</td>\n",
       "      <td>True</td>\n",
       "      <td>False</td>\n",
       "      <td>746</td>\n",
       "      <td>vendor_01</td>\n",
       "      <td>9fddf227-6680-42f5-aca5-533fc439c193</td>\n",
       "      <td>annotator_04</td>\n",
       "      <td>https://qm-auto-annotator.s3.eu-central-1.amaz...</td>\n",
       "      <td>img_6009</td>\n",
       "      <td>True</td>\n",
       "    </tr>\n",
       "    <tr>\n",
       "      <th>8710</th>\n",
       "      <td>discrete_answer</td>\n",
       "      <td>2021-02-25T10:10:08.355604+00:00</td>\n",
       "      <td>5</td>\n",
       "      <td>0.0</td>\n",
       "      <td>bc616814-9d98-4c9f-afcb-d921d166653a</td>\n",
       "      <td>46f706a4-39ad-443a-ba86-b23ec8a56cd4</td>\n",
       "      <td>bc616814-9d98-4c9f-afcb-d921d166653a</td>\n",
       "      <td>https://qm-auto-annotator.s3.eu-central-1.amaz...</td>\n",
       "      <td>NaN</td>\n",
       "      <td>True</td>\n",
       "      <td>False</td>\n",
       "      <td>783</td>\n",
       "      <td>vendor_01</td>\n",
       "      <td>0e606b41-ebe4-4d7d-996c-db910c84971a</td>\n",
       "      <td>annotator_20</td>\n",
       "      <td>https://qm-auto-annotator.s3.eu-central-1.amaz...</td>\n",
       "      <td>img_1963</td>\n",
       "      <td>True</td>\n",
       "    </tr>\n",
       "  </tbody>\n",
       "</table>\n",
       "</div>"
      ],
      "text/plain": [
       "             gui_type                        created_at  \\\n",
       "7024  discrete_answer  2021-02-25T13:16:11.077555+00:00   \n",
       "8710  discrete_answer  2021-02-25T10:10:08.355604+00:00   \n",
       "\n",
       "      workpackage_total_size  loss                 project_node_input_id  \\\n",
       "7024                       5   0.0  035315c3-ef9b-47c9-b48a-a6dca661b38c   \n",
       "8710                       5   0.0  bc616814-9d98-4c9f-afcb-d921d166653a   \n",
       "\n",
       "                    project_node_output_id  \\\n",
       "7024  234248a6-016b-451d-9e77-110ae1e7c92f   \n",
       "8710  46f706a4-39ad-443a-ba86-b23ec8a56cd4   \n",
       "\n",
       "                project_root_node_input_id  \\\n",
       "7024  035315c3-ef9b-47c9-b48a-a6dca661b38c   \n",
       "8710  bc616814-9d98-4c9f-afcb-d921d166653a   \n",
       "\n",
       "                                   task_input.image_url task_output.answer  \\\n",
       "7024  https://qm-auto-annotator.s3.eu-central-1.amaz...                NaN   \n",
       "8710  https://qm-auto-annotator.s3.eu-central-1.amaz...                NaN   \n",
       "\n",
       "      task_output.cant_solve  task_output.corrupt_data  \\\n",
       "7024                    True                     False   \n",
       "8710                    True                     False   \n",
       "\n",
       "      task_output.duration_ms user.vendor_id  \\\n",
       "7024                      746      vendor_01   \n",
       "8710                      783      vendor_01   \n",
       "\n",
       "                                   user.id user.vendor_user_id  \\\n",
       "7024  9fddf227-6680-42f5-aca5-533fc439c193        annotator_04   \n",
       "8710  0e606b41-ebe4-4d7d-996c-db910c84971a        annotator_20   \n",
       "\n",
       "                                   root_input.image_url       img  is_bicycle  \n",
       "7024  https://qm-auto-annotator.s3.eu-central-1.amaz...  img_6009        True  \n",
       "8710  https://qm-auto-annotator.s3.eu-central-1.amaz...  img_1963        True  "
      ]
     },
     "execution_count": 32,
     "metadata": {},
     "output_type": "execute_result"
    }
   ],
   "source": [
    "df_new.loc[(df_new['task_output.answer']!='yes') & (df_new['task_output.answer'] != 'no')]"
   ]
  },
  {
   "cell_type": "code",
   "execution_count": 33,
   "id": "a2b50486",
   "metadata": {},
   "outputs": [
    {
     "data": {
      "text/html": [
       "<div>\n",
       "<style scoped>\n",
       "    .dataframe tbody tr th:only-of-type {\n",
       "        vertical-align: middle;\n",
       "    }\n",
       "\n",
       "    .dataframe tbody tr th {\n",
       "        vertical-align: top;\n",
       "    }\n",
       "\n",
       "    .dataframe thead th {\n",
       "        text-align: right;\n",
       "    }\n",
       "</style>\n",
       "<table border=\"1\" class=\"dataframe\">\n",
       "  <thead>\n",
       "    <tr style=\"text-align: right;\">\n",
       "      <th></th>\n",
       "      <th>task_output.cant_solve</th>\n",
       "      <th>task_output.corrupt_data</th>\n",
       "    </tr>\n",
       "    <tr>\n",
       "      <th>user.vendor_user_id</th>\n",
       "      <th></th>\n",
       "      <th></th>\n",
       "    </tr>\n",
       "  </thead>\n",
       "  <tbody>\n",
       "    <tr>\n",
       "      <th>annotator_04</th>\n",
       "      <td>1</td>\n",
       "      <td>0</td>\n",
       "    </tr>\n",
       "    <tr>\n",
       "      <th>annotator_20</th>\n",
       "      <td>1</td>\n",
       "      <td>0</td>\n",
       "    </tr>\n",
       "  </tbody>\n",
       "</table>\n",
       "</div>"
      ],
      "text/plain": [
       "                     task_output.cant_solve  task_output.corrupt_data\n",
       "user.vendor_user_id                                                  \n",
       "annotator_04                              1                         0\n",
       "annotator_20                              1                         0"
      ]
     },
     "execution_count": 33,
     "metadata": {},
     "output_type": "execute_result"
    }
   ],
   "source": [
    "df_new.loc[df_new['task_output.answer'] == '', 'task_output.answer'] = 'cant_solve&corrupt_data'\n",
    "task_df=df_new.loc[(df_new['task_output.answer']!='yes') & (df_new['task_output.answer'] != 'no')].reset_index()\n",
    "task_df.groupby('user.vendor_user_id')[['task_output.answer','task_output.cant_solve','task_output.corrupt_data']].sum()"
   ]
  },
  {
   "cell_type": "markdown",
   "id": "6840f137",
   "metadata": {},
   "source": [
    "#### Insights:\n",
    "- There is no case with  corrupted data.Only two cases can't solved by some other reasons."
   ]
  },
  {
   "cell_type": "markdown",
   "id": "e5488a25",
   "metadata": {},
   "source": [
    "\n",
    "#### Dropping unnecessary columns"
   ]
  },
  {
   "cell_type": "code",
   "execution_count": 34,
   "id": "7a787ef7",
   "metadata": {
    "scrolled": false
   },
   "outputs": [
    {
     "data": {
      "text/html": [
       "<div>\n",
       "<style scoped>\n",
       "    .dataframe tbody tr th:only-of-type {\n",
       "        vertical-align: middle;\n",
       "    }\n",
       "\n",
       "    .dataframe tbody tr th {\n",
       "        vertical-align: top;\n",
       "    }\n",
       "\n",
       "    .dataframe thead th {\n",
       "        text-align: right;\n",
       "    }\n",
       "</style>\n",
       "<table border=\"1\" class=\"dataframe\">\n",
       "  <thead>\n",
       "    <tr style=\"text-align: right;\">\n",
       "      <th></th>\n",
       "      <th>created_at</th>\n",
       "      <th>workpackage_total_size</th>\n",
       "      <th>task_output.answer</th>\n",
       "      <th>task_output.cant_solve</th>\n",
       "      <th>task_output.corrupt_data</th>\n",
       "      <th>task_output.duration_ms</th>\n",
       "      <th>user.vendor_user_id</th>\n",
       "      <th>is_bicycle</th>\n",
       "    </tr>\n",
       "  </thead>\n",
       "  <tbody>\n",
       "    <tr>\n",
       "      <th>0</th>\n",
       "      <td>2021-02-25T14:08:11.319438+00:00</td>\n",
       "      <td>5</td>\n",
       "      <td>no</td>\n",
       "      <td>False</td>\n",
       "      <td>False</td>\n",
       "      <td>997</td>\n",
       "      <td>annotator_12</td>\n",
       "      <td>False</td>\n",
       "    </tr>\n",
       "    <tr>\n",
       "      <th>1</th>\n",
       "      <td>2021-02-25T13:53:31.698130+00:00</td>\n",
       "      <td>5</td>\n",
       "      <td>yes</td>\n",
       "      <td>False</td>\n",
       "      <td>False</td>\n",
       "      <td>1044</td>\n",
       "      <td>annotator_11</td>\n",
       "      <td>True</td>\n",
       "    </tr>\n",
       "    <tr>\n",
       "      <th>2</th>\n",
       "      <td>2021-02-25T13:35:02.076869+00:00</td>\n",
       "      <td>5</td>\n",
       "      <td>no</td>\n",
       "      <td>False</td>\n",
       "      <td>False</td>\n",
       "      <td>848</td>\n",
       "      <td>annotator_05</td>\n",
       "      <td>False</td>\n",
       "    </tr>\n",
       "    <tr>\n",
       "      <th>3</th>\n",
       "      <td>2021-02-26T03:53:40.752056+00:00</td>\n",
       "      <td>5</td>\n",
       "      <td>no</td>\n",
       "      <td>False</td>\n",
       "      <td>False</td>\n",
       "      <td>1077</td>\n",
       "      <td>annotator_06</td>\n",
       "      <td>False</td>\n",
       "    </tr>\n",
       "    <tr>\n",
       "      <th>4</th>\n",
       "      <td>2021-02-25T10:19:19.501386+00:00</td>\n",
       "      <td>5</td>\n",
       "      <td>yes</td>\n",
       "      <td>False</td>\n",
       "      <td>False</td>\n",
       "      <td>1742</td>\n",
       "      <td>annotator_20</td>\n",
       "      <td>True</td>\n",
       "    </tr>\n",
       "  </tbody>\n",
       "</table>\n",
       "</div>"
      ],
      "text/plain": [
       "                         created_at  workpackage_total_size  \\\n",
       "0  2021-02-25T14:08:11.319438+00:00                       5   \n",
       "1  2021-02-25T13:53:31.698130+00:00                       5   \n",
       "2  2021-02-25T13:35:02.076869+00:00                       5   \n",
       "3  2021-02-26T03:53:40.752056+00:00                       5   \n",
       "4  2021-02-25T10:19:19.501386+00:00                       5   \n",
       "\n",
       "  task_output.answer  task_output.cant_solve  task_output.corrupt_data  \\\n",
       "0                 no                   False                     False   \n",
       "1                yes                   False                     False   \n",
       "2                 no                   False                     False   \n",
       "3                 no                   False                     False   \n",
       "4                yes                   False                     False   \n",
       "\n",
       "   task_output.duration_ms user.vendor_user_id  is_bicycle  \n",
       "0                      997        annotator_12       False  \n",
       "1                     1044        annotator_11        True  \n",
       "2                      848        annotator_05       False  \n",
       "3                     1077        annotator_06       False  \n",
       "4                     1742        annotator_20        True  "
      ]
     },
     "execution_count": 34,
     "metadata": {},
     "output_type": "execute_result"
    }
   ],
   "source": [
    "df = df_new.drop(columns=['gui_type', 'task_input.image_url','root_input.image_url','project_root_node_input_id','user.id',\n",
    "                          'user.vendor_id','loss','project_node_input_id',\n",
    "                          'project_node_output_id','img'],axis=1)\n",
    "df.head()"
   ]
  },
  {
   "cell_type": "code",
   "execution_count": 35,
   "id": "fa1bfa75",
   "metadata": {},
   "outputs": [
    {
     "data": {
      "text/plain": [
       "(9087, 8)"
      ]
     },
     "execution_count": 35,
     "metadata": {},
     "output_type": "execute_result"
    }
   ],
   "source": [
    "df.shape"
   ]
  },
  {
   "cell_type": "code",
   "execution_count": 17,
   "id": "8eb38dfb",
   "metadata": {},
   "outputs": [
    {
     "name": "stdout",
     "output_type": "stream",
     "text": [
      "<class 'pandas.core.frame.DataFrame'>\n",
      "RangeIndex: 9087 entries, 0 to 9086\n",
      "Data columns (total 9 columns):\n",
      " #   Column                    Non-Null Count  Dtype \n",
      "---  ------                    --------------  ----- \n",
      " 0   created_at                9087 non-null   object\n",
      " 1   workpackage_total_size    9087 non-null   int64 \n",
      " 2   task_output.answer        9085 non-null   object\n",
      " 3   task_output.cant_solve    9087 non-null   bool  \n",
      " 4   task_output.corrupt_data  9087 non-null   bool  \n",
      " 5   task_output.duration_ms   9087 non-null   int64 \n",
      " 6   user.id                   9087 non-null   object\n",
      " 7   user.vendor_user_id       9087 non-null   object\n",
      " 8   is_bicycle                9087 non-null   bool  \n",
      "dtypes: bool(3), int64(2), object(4)\n",
      "memory usage: 452.7+ KB\n"
     ]
    }
   ],
   "source": [
    "df.info()"
   ]
  },
  {
   "cell_type": "markdown",
   "id": "8fdc2e3c",
   "metadata": {},
   "source": [
    "-  After Droping columns we got 8 features for further analysis\n",
    "\n",
    "### Checking  null Values"
   ]
  },
  {
   "cell_type": "code",
   "execution_count": 36,
   "id": "fa5db223",
   "metadata": {},
   "outputs": [
    {
     "data": {
      "text/plain": [
       "['task_output.answer']"
      ]
     },
     "execution_count": 36,
     "metadata": {},
     "output_type": "execute_result"
    }
   ],
   "source": [
    "#  Print the columns with missing values\n",
    "[col for col in df.columns if df[col].isnull().any()]"
   ]
  },
  {
   "cell_type": "code",
   "execution_count": 37,
   "id": "9892f319",
   "metadata": {},
   "outputs": [
    {
     "data": {
      "text/plain": [
       "<Axes: >"
      ]
     },
     "execution_count": 37,
     "metadata": {},
     "output_type": "execute_result"
    },
    {
     "data": {
      "image/png": "[encoded data removed]",
      "text/plain": [
       "<Figure size 640x480 with 1 Axes>"
      ]
     },
     "metadata": {},
     "output_type": "display_data"
    }
   ],
   "source": [
    "sns.heatmap(df.isnull(), cbar=False)"
   ]
  },
  {
   "cell_type": "markdown",
   "id": "fa93b868",
   "metadata": {},
   "source": [
    "#### Insights:\n",
    "- There are 2 instances from ``task_output.answer``column have null values.\n"
   ]
  },
  {
   "cell_type": "markdown",
   "id": "95eaeab7",
   "metadata": {},
   "source": [
    "### filling null values with ``no_output`` string"
   ]
  },
  {
   "cell_type": "code",
   "execution_count": 38,
   "id": "d269c1fa",
   "metadata": {},
   "outputs": [
    {
     "data": {
      "text/plain": [
       "created_at                  0\n",
       "workpackage_total_size      0\n",
       "task_output.answer          0\n",
       "task_output.cant_solve      0\n",
       "task_output.corrupt_data    0\n",
       "task_output.duration_ms     0\n",
       "user.vendor_user_id         0\n",
       "is_bicycle                  0\n",
       "dtype: int64"
      ]
     },
     "execution_count": 38,
     "metadata": {},
     "output_type": "execute_result"
    }
   ],
   "source": [
    "df.fillna('no_output', inplace=True)\n",
    "df.isnull().sum()"
   ]
  },
  {
   "cell_type": "markdown",
   "id": "c36b7e3b",
   "metadata": {},
   "source": [
    "### Converting ``created_at``  column to date time format"
   ]
  },
  {
   "cell_type": "code",
   "execution_count": 39,
   "id": "06e2cc9d",
   "metadata": {
    "scrolled": true
   },
   "outputs": [
    {
     "data": {
      "text/plain": [
       "datetime64[ns, UTC]"
      ]
     },
     "execution_count": 39,
     "metadata": {},
     "output_type": "execute_result"
    }
   ],
   "source": [
    "df['created_at'] = pd.to_datetime(df['created_at'], infer_datetime_format=True)\n",
    "#df['task_output.duration_ms'] = pd.to_time(df['task_output.duration_ms'], unit = 'ms')\n",
    "#df['task_output.duration_ms'] = pd.to_timedelta(df['task_output.duration_ms'])\n",
    "#df['task_output.duration_ms']=df['task_output.duration_ms'].strftime('%s%f')[:-3]\n",
    "df.created_at.dtype"
   ]
  },
  {
   "cell_type": "code",
   "execution_count": 40,
   "id": "b3a2c201",
   "metadata": {},
   "outputs": [
    {
     "data": {
      "text/plain": [
       "25    7208\n",
       "26    1879\n",
       "Name: created_at, dtype: int64"
      ]
     },
     "execution_count": 40,
     "metadata": {},
     "output_type": "execute_result"
    }
   ],
   "source": [
    "df.created_at.dt.day.value_counts()"
   ]
  },
  {
   "cell_type": "markdown",
   "id": "c695132d",
   "metadata": {},
   "source": [
    "#### All the data is spread over 2 days."
   ]
  },
  {
   "cell_type": "markdown",
   "id": "bd23abb5",
   "metadata": {},
   "source": [
    "### Exploratory Data Analysis"
   ]
  },
  {
   "cell_type": "markdown",
   "id": "5baf0511",
   "metadata": {},
   "source": [
    "### functions for visualization and percentage calculation"
   ]
  },
  {
   "cell_type": "code",
   "execution_count": 41,
   "id": "a0b7cb4a",
   "metadata": {},
   "outputs": [],
   "source": [
    "## Function to visualise annotators\n",
    "def annotator_visual(df,column):\n",
    "    col=column\n",
    "    df[col] = df[col].value_counts().plot(kind='bar')\n",
    "    #df[feature].value_counts().plot.bar(figsize = (8, 6))\n",
    "    plt.xlabel('annotators')\n",
    "    plt.ylabel('count')\n",
    "    # Show graph\n",
    "    plt.show()\n",
    "#vendor_visual(filter_df,'user.vendor_user_id')    \n"
   ]
  },
  {
   "cell_type": "code",
   "execution_count": 42,
   "id": "293f5c08",
   "metadata": {},
   "outputs": [],
   "source": [
    "##Function to calculate annotators percentage\n",
    "def annot_percent(df,column):\n",
    "    df_=df[column].value_counts().to_frame().reset_index().rename(columns={'index':'annotator'})\n",
    "    df_['annotator %'] = ((df_[column] / df_[column] .sum())*100).round(2).astype(str) + '%'\n",
    "    return df_"
   ]
  },
  {
   "cell_type": "markdown",
   "id": "14dc744b",
   "metadata": {},
   "source": [
    "### Tasks\n",
    "#### 1. Gather insights about the annotators:\n",
    " #### - a.  How many annotators did contribute to the dataset?"
   ]
  },
  {
   "cell_type": "code",
   "execution_count": 43,
   "id": "dfd71e05",
   "metadata": {},
   "outputs": [
    {
     "name": "stdout",
     "output_type": "stream",
     "text": [
      "The total annotators are contributing to the datase: 22\n"
     ]
    }
   ],
   "source": [
    "a=df['user.vendor_user_id'].value_counts().count()\n",
    "print('The total annotators are contributing to the datase:', a)"
   ]
  },
  {
   "cell_type": "code",
   "execution_count": 44,
   "id": "1745853b",
   "metadata": {},
   "outputs": [
    {
     "data": {
      "image/png": "[encoded data removed]",
      "text/plain": [
       "<Figure size 640x480 with 1 Axes>"
      ]
     },
     "metadata": {},
     "output_type": "display_data"
    }
   ],
   "source": [
    "annotator_visual(df.copy(),'user.vendor_user_id') "
   ]
  },
  {
   "cell_type": "markdown",
   "id": "2526d6ce",
   "metadata": {},
   "source": [
    "#### Insights from annotators class\n",
    "- There are 22 annotators in total\n",
    "-  More number of responses(771) provided by ``annotator-2`` and the less responses by ``annotator-19(19)``.\n",
    "\n",
    "\n"
   ]
  },
  {
   "cell_type": "markdown",
   "id": "0658d3c3",
   "metadata": {},
   "source": [
    "#### 1.b. What are the average, min and max annotation times (durations)? Feel free toadd visual representations here such as graphs if you like."
   ]
  },
  {
   "cell_type": "code",
   "execution_count": 45,
   "id": "58fefe57",
   "metadata": {
    "scrolled": true
   },
   "outputs": [
    {
     "data": {
      "text/html": [
       "<div>\n",
       "<style scoped>\n",
       "    .dataframe tbody tr th:only-of-type {\n",
       "        vertical-align: middle;\n",
       "    }\n",
       "\n",
       "    .dataframe tbody tr th {\n",
       "        vertical-align: top;\n",
       "    }\n",
       "\n",
       "    .dataframe thead th {\n",
       "        text-align: right;\n",
       "    }\n",
       "</style>\n",
       "<table border=\"1\" class=\"dataframe\">\n",
       "  <thead>\n",
       "    <tr style=\"text-align: right;\">\n",
       "      <th></th>\n",
       "      <th>user.vendor_user_id</th>\n",
       "      <th>tasktime_Min</th>\n",
       "      <th>tasktime_Max</th>\n",
       "      <th>tasktime_mean</th>\n",
       "    </tr>\n",
       "  </thead>\n",
       "  <tbody>\n",
       "    <tr>\n",
       "      <th>19</th>\n",
       "      <td>annotator_20</td>\n",
       "      <td>70</td>\n",
       "      <td>7753</td>\n",
       "      <td>1179.331137</td>\n",
       "    </tr>\n",
       "    <tr>\n",
       "      <th>7</th>\n",
       "      <td>annotator_08</td>\n",
       "      <td>166</td>\n",
       "      <td>14310</td>\n",
       "      <td>1413.185022</td>\n",
       "    </tr>\n",
       "    <tr>\n",
       "      <th>21</th>\n",
       "      <td>annotator_22</td>\n",
       "      <td>349</td>\n",
       "      <td>3300</td>\n",
       "      <td>890.217877</td>\n",
       "    </tr>\n",
       "    <tr>\n",
       "      <th>10</th>\n",
       "      <td>annotator_11</td>\n",
       "      <td>479</td>\n",
       "      <td>11079</td>\n",
       "      <td>1256.322528</td>\n",
       "    </tr>\n",
       "    <tr>\n",
       "      <th>9</th>\n",
       "      <td>annotator_10</td>\n",
       "      <td>486</td>\n",
       "      <td>7302</td>\n",
       "      <td>1284.709677</td>\n",
       "    </tr>\n",
       "    <tr>\n",
       "      <th>16</th>\n",
       "      <td>annotator_17</td>\n",
       "      <td>495</td>\n",
       "      <td>3583</td>\n",
       "      <td>986.675362</td>\n",
       "    </tr>\n",
       "    <tr>\n",
       "      <th>20</th>\n",
       "      <td>annotator_21</td>\n",
       "      <td>495</td>\n",
       "      <td>9999</td>\n",
       "      <td>1193.451389</td>\n",
       "    </tr>\n",
       "    <tr>\n",
       "      <th>6</th>\n",
       "      <td>annotator_07</td>\n",
       "      <td>525</td>\n",
       "      <td>10672</td>\n",
       "      <td>1450.868182</td>\n",
       "    </tr>\n",
       "    <tr>\n",
       "      <th>8</th>\n",
       "      <td>annotator_09</td>\n",
       "      <td>558</td>\n",
       "      <td>13385</td>\n",
       "      <td>1199.093117</td>\n",
       "    </tr>\n",
       "    <tr>\n",
       "      <th>3</th>\n",
       "      <td>annotator_04</td>\n",
       "      <td>565</td>\n",
       "      <td>10389</td>\n",
       "      <td>1146.992272</td>\n",
       "    </tr>\n",
       "    <tr>\n",
       "      <th>0</th>\n",
       "      <td>annotator_01</td>\n",
       "      <td>572</td>\n",
       "      <td>4630</td>\n",
       "      <td>1058.541667</td>\n",
       "    </tr>\n",
       "    <tr>\n",
       "      <th>2</th>\n",
       "      <td>annotator_03</td>\n",
       "      <td>589</td>\n",
       "      <td>4750</td>\n",
       "      <td>1208.039216</td>\n",
       "    </tr>\n",
       "    <tr>\n",
       "      <th>11</th>\n",
       "      <td>annotator_12</td>\n",
       "      <td>589</td>\n",
       "      <td>16565</td>\n",
       "      <td>1297.053628</td>\n",
       "    </tr>\n",
       "    <tr>\n",
       "      <th>15</th>\n",
       "      <td>annotator_16</td>\n",
       "      <td>591</td>\n",
       "      <td>22311</td>\n",
       "      <td>1305.661509</td>\n",
       "    </tr>\n",
       "    <tr>\n",
       "      <th>1</th>\n",
       "      <td>annotator_02</td>\n",
       "      <td>598</td>\n",
       "      <td>8912</td>\n",
       "      <td>1197.207523</td>\n",
       "    </tr>\n",
       "    <tr>\n",
       "      <th>12</th>\n",
       "      <td>annotator_13</td>\n",
       "      <td>607</td>\n",
       "      <td>24000</td>\n",
       "      <td>1197.879213</td>\n",
       "    </tr>\n",
       "    <tr>\n",
       "      <th>5</th>\n",
       "      <td>annotator_06</td>\n",
       "      <td>615</td>\n",
       "      <td>19622</td>\n",
       "      <td>1496.853516</td>\n",
       "    </tr>\n",
       "    <tr>\n",
       "      <th>14</th>\n",
       "      <td>annotator_15</td>\n",
       "      <td>653</td>\n",
       "      <td>7228</td>\n",
       "      <td>1342.390285</td>\n",
       "    </tr>\n",
       "    <tr>\n",
       "      <th>4</th>\n",
       "      <td>annotator_05</td>\n",
       "      <td>670</td>\n",
       "      <td>12038</td>\n",
       "      <td>1417.239645</td>\n",
       "    </tr>\n",
       "    <tr>\n",
       "      <th>13</th>\n",
       "      <td>annotator_14</td>\n",
       "      <td>686</td>\n",
       "      <td>24757</td>\n",
       "      <td>1612.388571</td>\n",
       "    </tr>\n",
       "    <tr>\n",
       "      <th>17</th>\n",
       "      <td>annotator_18</td>\n",
       "      <td>743</td>\n",
       "      <td>15128</td>\n",
       "      <td>1667.818898</td>\n",
       "    </tr>\n",
       "    <tr>\n",
       "      <th>18</th>\n",
       "      <td>annotator_19</td>\n",
       "      <td>774</td>\n",
       "      <td>10518</td>\n",
       "      <td>1921.263158</td>\n",
       "    </tr>\n",
       "  </tbody>\n",
       "</table>\n",
       "</div>"
      ],
      "text/plain": [
       "   user.vendor_user_id  tasktime_Min  tasktime_Max  tasktime_mean\n",
       "19        annotator_20            70          7753    1179.331137\n",
       "7         annotator_08           166         14310    1413.185022\n",
       "21        annotator_22           349          3300     890.217877\n",
       "10        annotator_11           479         11079    1256.322528\n",
       "9         annotator_10           486          7302    1284.709677\n",
       "16        annotator_17           495          3583     986.675362\n",
       "20        annotator_21           495          9999    1193.451389\n",
       "6         annotator_07           525         10672    1450.868182\n",
       "8         annotator_09           558         13385    1199.093117\n",
       "3         annotator_04           565         10389    1146.992272\n",
       "0         annotator_01           572          4630    1058.541667\n",
       "2         annotator_03           589          4750    1208.039216\n",
       "11        annotator_12           589         16565    1297.053628\n",
       "15        annotator_16           591         22311    1305.661509\n",
       "1         annotator_02           598          8912    1197.207523\n",
       "12        annotator_13           607         24000    1197.879213\n",
       "5         annotator_06           615         19622    1496.853516\n",
       "14        annotator_15           653          7228    1342.390285\n",
       "4         annotator_05           670         12038    1417.239645\n",
       "13        annotator_14           686         24757    1612.388571\n",
       "17        annotator_18           743         15128    1667.818898\n",
       "18        annotator_19           774         10518    1921.263158"
      ]
     },
     "execution_count": 45,
     "metadata": {},
     "output_type": "execute_result"
    }
   ],
   "source": [
    "#df.groupby('user.vendor_user_id')['task_output.duration_ms'].agg()\n",
    "df_time=df.groupby(['user.vendor_user_id'])['task_output.duration_ms'].agg([('Min' , 'min'), ('Max', 'max'),\n",
    "                                                                                              ('mean','mean')]).add_prefix('tasktime_').reset_index().sort_values(['tasktime_Min',\n",
    "                                                                                              'tasktime_Max','tasktime_mean'])\n",
    "df_time\n"
   ]
  },
  {
   "cell_type": "markdown",
   "id": "efb9de1d",
   "metadata": {},
   "source": [
    "### Insights\n",
    "\n",
    "- Form the above data ``annotator_20`` took min time ``70ms`` to respond and ``annotator_14`` took max time ``24757ms`` to respond.\n",
    "- Both cases the output answer is ``yes``.\n",
    "\n",
    "### Lets see visually the  Avg,max and min task time\n"
   ]
  },
  {
   "cell_type": "code",
   "execution_count": 46,
   "id": "641463a3",
   "metadata": {},
   "outputs": [
    {
     "data": {
      "text/plain": [
       "<Figure size 2000x1000 with 0 Axes>"
      ]
     },
     "execution_count": 46,
     "metadata": {},
     "output_type": "execute_result"
    },
    {
     "data": {
      "image/png": "[encoded data removed]",
      "text/plain": [
       "<Figure size 640x480 with 1 Axes>"
      ]
     },
     "metadata": {},
     "output_type": "display_data"
    },
    {
     "data": {
      "text/plain": [
       "<Figure size 2000x1000 with 0 Axes>"
      ]
     },
     "metadata": {},
     "output_type": "display_data"
    }
   ],
   "source": [
    "df_time.groupby(['user.vendor_user_id']).sum().plot(kind='bar',width=1)\n",
    "plt.xlabel(\"Annotator\")\n",
    "plt.ylabel(\"Time in ms\")\n",
    "plt.figure(figsize=(20,10))"
   ]
  },
  {
   "cell_type": "code",
   "execution_count": 47,
   "id": "460a3c40",
   "metadata": {},
   "outputs": [
    {
     "data": {
      "text/plain": [
       "<Figure size 2000x1000 with 0 Axes>"
      ]
     },
     "execution_count": 47,
     "metadata": {},
     "output_type": "execute_result"
    },
    {
     "data": {
      "image/png": "[encoded data removed]",
      "text/plain": [
       "<Figure size 640x480 with 1 Axes>"
      ]
     },
     "metadata": {},
     "output_type": "display_data"
    },
    {
     "data": {
      "text/plain": [
       "<Figure size 2000x1000 with 0 Axes>"
      ]
     },
     "metadata": {},
     "output_type": "display_data"
    }
   ],
   "source": [
    "df_time.groupby(['user.vendor_user_id'])[['tasktime_Min','tasktime_mean']].sum().plot(kind='bar',width=1\n",
    "                                                                                     )\n",
    "plt.xlabel(\"Annotator\")\n",
    "plt.ylabel(\"Time in ms\")\n",
    "plt.figure(figsize=(20,10))\n"
   ]
  },
  {
   "cell_type": "markdown",
   "id": "04173975",
   "metadata": {},
   "source": [
    "#### 1.c. Did all annotators produce the same amount of results, or are there differences?"
   ]
  },
  {
   "cell_type": "code",
   "execution_count": 48,
   "id": "725789e9",
   "metadata": {},
   "outputs": [
    {
     "data": {
      "text/html": [
       "<div>\n",
       "<style scoped>\n",
       "    .dataframe tbody tr th:only-of-type {\n",
       "        vertical-align: middle;\n",
       "    }\n",
       "\n",
       "    .dataframe tbody tr th {\n",
       "        vertical-align: top;\n",
       "    }\n",
       "\n",
       "    .dataframe thead th {\n",
       "        text-align: right;\n",
       "    }\n",
       "</style>\n",
       "<table border=\"1\" class=\"dataframe\">\n",
       "  <thead>\n",
       "    <tr style=\"text-align: right;\">\n",
       "      <th></th>\n",
       "      <th>annotator</th>\n",
       "      <th>user.vendor_user_id</th>\n",
       "      <th>annotator %</th>\n",
       "    </tr>\n",
       "  </thead>\n",
       "  <tbody>\n",
       "    <tr>\n",
       "      <th>0</th>\n",
       "      <td>annotator_02</td>\n",
       "      <td>771</td>\n",
       "      <td>8.48%</td>\n",
       "    </tr>\n",
       "    <tr>\n",
       "      <th>1</th>\n",
       "      <td>annotator_13</td>\n",
       "      <td>712</td>\n",
       "      <td>7.84%</td>\n",
       "    </tr>\n",
       "    <tr>\n",
       "      <th>2</th>\n",
       "      <td>annotator_08</td>\n",
       "      <td>681</td>\n",
       "      <td>7.49%</td>\n",
       "    </tr>\n",
       "    <tr>\n",
       "      <th>3</th>\n",
       "      <td>annotator_04</td>\n",
       "      <td>647</td>\n",
       "      <td>7.12%</td>\n",
       "    </tr>\n",
       "    <tr>\n",
       "      <th>4</th>\n",
       "      <td>annotator_12</td>\n",
       "      <td>634</td>\n",
       "      <td>6.98%</td>\n",
       "    </tr>\n",
       "    <tr>\n",
       "      <th>5</th>\n",
       "      <td>annotator_11</td>\n",
       "      <td>617</td>\n",
       "      <td>6.79%</td>\n",
       "    </tr>\n",
       "    <tr>\n",
       "      <th>6</th>\n",
       "      <td>annotator_20</td>\n",
       "      <td>607</td>\n",
       "      <td>6.68%</td>\n",
       "    </tr>\n",
       "    <tr>\n",
       "      <th>7</th>\n",
       "      <td>annotator_15</td>\n",
       "      <td>597</td>\n",
       "      <td>6.57%</td>\n",
       "    </tr>\n",
       "    <tr>\n",
       "      <th>8</th>\n",
       "      <td>annotator_16</td>\n",
       "      <td>517</td>\n",
       "      <td>5.69%</td>\n",
       "    </tr>\n",
       "    <tr>\n",
       "      <th>9</th>\n",
       "      <td>annotator_06</td>\n",
       "      <td>512</td>\n",
       "      <td>5.63%</td>\n",
       "    </tr>\n",
       "    <tr>\n",
       "      <th>10</th>\n",
       "      <td>annotator_18</td>\n",
       "      <td>508</td>\n",
       "      <td>5.59%</td>\n",
       "    </tr>\n",
       "    <tr>\n",
       "      <th>11</th>\n",
       "      <td>annotator_09</td>\n",
       "      <td>494</td>\n",
       "      <td>5.44%</td>\n",
       "    </tr>\n",
       "    <tr>\n",
       "      <th>12</th>\n",
       "      <td>annotator_17</td>\n",
       "      <td>345</td>\n",
       "      <td>3.8%</td>\n",
       "    </tr>\n",
       "    <tr>\n",
       "      <th>13</th>\n",
       "      <td>annotator_05</td>\n",
       "      <td>338</td>\n",
       "      <td>3.72%</td>\n",
       "    </tr>\n",
       "    <tr>\n",
       "      <th>14</th>\n",
       "      <td>annotator_21</td>\n",
       "      <td>288</td>\n",
       "      <td>3.17%</td>\n",
       "    </tr>\n",
       "    <tr>\n",
       "      <th>15</th>\n",
       "      <td>annotator_07</td>\n",
       "      <td>220</td>\n",
       "      <td>2.42%</td>\n",
       "    </tr>\n",
       "    <tr>\n",
       "      <th>16</th>\n",
       "      <td>annotator_22</td>\n",
       "      <td>179</td>\n",
       "      <td>1.97%</td>\n",
       "    </tr>\n",
       "    <tr>\n",
       "      <th>17</th>\n",
       "      <td>annotator_14</td>\n",
       "      <td>175</td>\n",
       "      <td>1.93%</td>\n",
       "    </tr>\n",
       "    <tr>\n",
       "      <th>18</th>\n",
       "      <td>annotator_01</td>\n",
       "      <td>144</td>\n",
       "      <td>1.58%</td>\n",
       "    </tr>\n",
       "    <tr>\n",
       "      <th>19</th>\n",
       "      <td>annotator_03</td>\n",
       "      <td>51</td>\n",
       "      <td>0.56%</td>\n",
       "    </tr>\n",
       "    <tr>\n",
       "      <th>20</th>\n",
       "      <td>annotator_10</td>\n",
       "      <td>31</td>\n",
       "      <td>0.34%</td>\n",
       "    </tr>\n",
       "    <tr>\n",
       "      <th>21</th>\n",
       "      <td>annotator_19</td>\n",
       "      <td>19</td>\n",
       "      <td>0.21%</td>\n",
       "    </tr>\n",
       "  </tbody>\n",
       "</table>\n",
       "</div>"
      ],
      "text/plain": [
       "       annotator  user.vendor_user_id annotator %\n",
       "0   annotator_02                  771       8.48%\n",
       "1   annotator_13                  712       7.84%\n",
       "2   annotator_08                  681       7.49%\n",
       "3   annotator_04                  647       7.12%\n",
       "4   annotator_12                  634       6.98%\n",
       "5   annotator_11                  617       6.79%\n",
       "6   annotator_20                  607       6.68%\n",
       "7   annotator_15                  597       6.57%\n",
       "8   annotator_16                  517       5.69%\n",
       "9   annotator_06                  512       5.63%\n",
       "10  annotator_18                  508       5.59%\n",
       "11  annotator_09                  494       5.44%\n",
       "12  annotator_17                  345        3.8%\n",
       "13  annotator_05                  338       3.72%\n",
       "14  annotator_21                  288       3.17%\n",
       "15  annotator_07                  220       2.42%\n",
       "16  annotator_22                  179       1.97%\n",
       "17  annotator_14                  175       1.93%\n",
       "18  annotator_01                  144       1.58%\n",
       "19  annotator_03                   51       0.56%\n",
       "20  annotator_10                   31       0.34%\n",
       "21  annotator_19                   19       0.21%"
      ]
     },
     "execution_count": 48,
     "metadata": {},
     "output_type": "execute_result"
    }
   ],
   "source": [
    "##Calling annot_percent function to calcutlate percentage\n",
    "annot_percent(df.copy(),'user.vendor_user_id')"
   ]
  },
  {
   "cell_type": "code",
   "execution_count": 49,
   "id": "5a9cb742",
   "metadata": {
    "scrolled": true
   },
   "outputs": [
    {
     "data": {
      "image/png": "[encoded data removed]",
      "text/plain": [
       "<Figure size 640x480 with 1 Axes>"
      ]
     },
     "metadata": {},
     "output_type": "display_data"
    }
   ],
   "source": [
    "#calling annotator function\n",
    "annotator_visual(df.copy(),'user.vendor_user_id')"
   ]
  },
  {
   "cell_type": "markdown",
   "id": "e9f68f6b",
   "metadata": {},
   "source": [
    "#### Insights\n",
    "- From the above analysis all annotators are not producing same amount of results.\n",
    "- ``Annotator-2`` is producing more results(8.48%).\n",
    "- ``Annotatos -19`` is producing least results(0.21%)"
   ]
  },
  {
   "cell_type": "markdown",
   "id": "ce052b9a",
   "metadata": {},
   "source": [
    "#### 2. Besides picking yes or no the annotators had the chance to tell if the data werecorrupted or if they for any reason were not able to solve the task. These are fields'cant_solve' and 'corrupt_data' given in the task_output.a. How often does each occur in the project and do you see a trend within theannotators that made use of these options?"
   ]
  },
  {
   "cell_type": "code",
   "execution_count": 50,
   "id": "97e6d334",
   "metadata": {
    "scrolled": true
   },
   "outputs": [
    {
     "data": {
      "text/html": [
       "<div>\n",
       "<style scoped>\n",
       "    .dataframe tbody tr th:only-of-type {\n",
       "        vertical-align: middle;\n",
       "    }\n",
       "\n",
       "    .dataframe tbody tr th {\n",
       "        vertical-align: top;\n",
       "    }\n",
       "\n",
       "    .dataframe thead th {\n",
       "        text-align: right;\n",
       "    }\n",
       "</style>\n",
       "<table border=\"1\" class=\"dataframe\">\n",
       "  <thead>\n",
       "    <tr style=\"text-align: right;\">\n",
       "      <th></th>\n",
       "      <th>created_at</th>\n",
       "      <th>workpackage_total_size</th>\n",
       "      <th>task_output.answer</th>\n",
       "      <th>task_output.cant_solve</th>\n",
       "      <th>task_output.corrupt_data</th>\n",
       "      <th>task_output.duration_ms</th>\n",
       "      <th>user.vendor_user_id</th>\n",
       "      <th>is_bicycle</th>\n",
       "    </tr>\n",
       "  </thead>\n",
       "  <tbody>\n",
       "    <tr>\n",
       "      <th>0</th>\n",
       "      <td>2021-02-25 13:16:11.077555+00:00</td>\n",
       "      <td>5</td>\n",
       "      <td>no_output</td>\n",
       "      <td>True</td>\n",
       "      <td>False</td>\n",
       "      <td>746</td>\n",
       "      <td>annotator_04</td>\n",
       "      <td>True</td>\n",
       "    </tr>\n",
       "    <tr>\n",
       "      <th>1</th>\n",
       "      <td>2021-02-25 10:10:08.355604+00:00</td>\n",
       "      <td>5</td>\n",
       "      <td>no_output</td>\n",
       "      <td>True</td>\n",
       "      <td>False</td>\n",
       "      <td>783</td>\n",
       "      <td>annotator_20</td>\n",
       "      <td>True</td>\n",
       "    </tr>\n",
       "  </tbody>\n",
       "</table>\n",
       "</div>"
      ],
      "text/plain": [
       "                        created_at  workpackage_total_size task_output.answer  \\\n",
       "0 2021-02-25 13:16:11.077555+00:00                       5          no_output   \n",
       "1 2021-02-25 10:10:08.355604+00:00                       5          no_output   \n",
       "\n",
       "   task_output.cant_solve  task_output.corrupt_data  task_output.duration_ms  \\\n",
       "0                    True                     False                      746   \n",
       "1                    True                     False                      783   \n",
       "\n",
       "  user.vendor_user_id  is_bicycle  \n",
       "0        annotator_04        True  \n",
       "1        annotator_20        True  "
      ]
     },
     "execution_count": 50,
     "metadata": {},
     "output_type": "execute_result"
    }
   ],
   "source": [
    "df.loc[(df['task_output.answer']!='yes') & (df['task_output.answer'] != 'no')].reset_index(drop=True)"
   ]
  },
  {
   "cell_type": "code",
   "execution_count": 51,
   "id": "a6bd1db7",
   "metadata": {},
   "outputs": [
    {
     "data": {
      "image/png": "[encoded data removed]",
      "text/plain": [
       "<Figure size 640x480 with 1 Axes>"
      ]
     },
     "metadata": {},
     "output_type": "display_data"
    }
   ],
   "source": [
    "def task_output_visual(df,column):\n",
    "    col=column\n",
    "    df[col] = df[col].value_counts().plot(kind='bar')\n",
    "    #df[feature].value_counts().plot.bar(figsize = (8, 6))\n",
    "    plt.xlabel(\"OutputClass\")\n",
    "    plt.ylabel(\"Frequency\")\n",
    "    # Show graph\n",
    "    plt.show()\n",
    "task_output_visual(df.copy(),'task_output.answer')"
   ]
  },
  {
   "cell_type": "code",
   "execution_count": 54,
   "id": "68f268b1",
   "metadata": {},
   "outputs": [
    {
     "data": {
      "text/plain": [
       "([<matplotlib.patches.Wedge at 0x163080f39d0>,\n",
       "  <matplotlib.patches.Wedge at 0x163080f38e0>,\n",
       "  <matplotlib.patches.Wedge at 0x1630a4a4580>],\n",
       " [Text(-0.028328848581519364, 1.099635156012232, 'yes'),\n",
       "  Text(0.027568414217594386, -1.099654483252593, 'no'),\n",
       "  Text(1.099999736924084, -0.0007607673403678934, 'no_output')],\n",
       " [Text(-0.015452099226283288, 0.5998009941884901, '50.8%\\n4618'),\n",
       "  Text(0.015037316845960571, -0.5998115363195962, '49.2%\\n4467'),\n",
       "  Text(0.5999998565040457, -0.00041496400383703267, '0.0%\\n2')])"
      ]
     },
     "execution_count": 54,
     "metadata": {},
     "output_type": "execute_result"
    },
    {
     "data": {
      "image/png": "[encoded data removed]",
      "text/plain": [
       "<Figure size 640x480 with 1 Axes>"
      ]
     },
     "metadata": {},
     "output_type": "display_data"
    }
   ],
   "source": [
    "task_output = df['task_output.answer'].value_counts().values.sum()\n",
    "def fmt(x):\n",
    "    return '{:.1f}%\\n{:.0f}'.format(x, task_output *x/100)\n",
    "\n",
    "plt.pie(df['task_output.answer'].value_counts().values, labels=df['task_output.answer'].value_counts().index, autopct=fmt)"
   ]
  },
  {
   "cell_type": "code",
   "execution_count": 55,
   "id": "00c68b1d",
   "metadata": {},
   "outputs": [
    {
     "data": {
      "text/html": [
       "<div>\n",
       "<style scoped>\n",
       "    .dataframe tbody tr th:only-of-type {\n",
       "        vertical-align: middle;\n",
       "    }\n",
       "\n",
       "    .dataframe tbody tr th {\n",
       "        vertical-align: top;\n",
       "    }\n",
       "\n",
       "    .dataframe thead tr th {\n",
       "        text-align: left;\n",
       "    }\n",
       "\n",
       "    .dataframe thead tr:last-of-type th {\n",
       "        text-align: right;\n",
       "    }\n",
       "</style>\n",
       "<table border=\"1\" class=\"dataframe\">\n",
       "  <thead>\n",
       "    <tr>\n",
       "      <th></th>\n",
       "      <th colspan=\"3\" halign=\"left\">task_output.answer</th>\n",
       "    </tr>\n",
       "    <tr>\n",
       "      <th>task_output.answer</th>\n",
       "      <th>no</th>\n",
       "      <th>no_output</th>\n",
       "      <th>yes</th>\n",
       "    </tr>\n",
       "    <tr>\n",
       "      <th>user.vendor_user_id</th>\n",
       "      <th></th>\n",
       "      <th></th>\n",
       "      <th></th>\n",
       "    </tr>\n",
       "  </thead>\n",
       "  <tbody>\n",
       "    <tr>\n",
       "      <th>annotator_01</th>\n",
       "      <td>65.0</td>\n",
       "      <td>0.0</td>\n",
       "      <td>79.0</td>\n",
       "    </tr>\n",
       "    <tr>\n",
       "      <th>annotator_02</th>\n",
       "      <td>370.0</td>\n",
       "      <td>0.0</td>\n",
       "      <td>401.0</td>\n",
       "    </tr>\n",
       "    <tr>\n",
       "      <th>annotator_03</th>\n",
       "      <td>25.0</td>\n",
       "      <td>0.0</td>\n",
       "      <td>26.0</td>\n",
       "    </tr>\n",
       "    <tr>\n",
       "      <th>annotator_04</th>\n",
       "      <td>300.0</td>\n",
       "      <td>1.0</td>\n",
       "      <td>346.0</td>\n",
       "    </tr>\n",
       "    <tr>\n",
       "      <th>annotator_05</th>\n",
       "      <td>174.0</td>\n",
       "      <td>0.0</td>\n",
       "      <td>164.0</td>\n",
       "    </tr>\n",
       "    <tr>\n",
       "      <th>annotator_06</th>\n",
       "      <td>229.0</td>\n",
       "      <td>0.0</td>\n",
       "      <td>283.0</td>\n",
       "    </tr>\n",
       "    <tr>\n",
       "      <th>annotator_07</th>\n",
       "      <td>110.0</td>\n",
       "      <td>0.0</td>\n",
       "      <td>110.0</td>\n",
       "    </tr>\n",
       "    <tr>\n",
       "      <th>annotator_08</th>\n",
       "      <td>323.0</td>\n",
       "      <td>0.0</td>\n",
       "      <td>358.0</td>\n",
       "    </tr>\n",
       "    <tr>\n",
       "      <th>annotator_09</th>\n",
       "      <td>225.0</td>\n",
       "      <td>0.0</td>\n",
       "      <td>269.0</td>\n",
       "    </tr>\n",
       "    <tr>\n",
       "      <th>annotator_10</th>\n",
       "      <td>13.0</td>\n",
       "      <td>0.0</td>\n",
       "      <td>18.0</td>\n",
       "    </tr>\n",
       "    <tr>\n",
       "      <th>annotator_11</th>\n",
       "      <td>332.0</td>\n",
       "      <td>0.0</td>\n",
       "      <td>285.0</td>\n",
       "    </tr>\n",
       "    <tr>\n",
       "      <th>annotator_12</th>\n",
       "      <td>277.0</td>\n",
       "      <td>0.0</td>\n",
       "      <td>357.0</td>\n",
       "    </tr>\n",
       "    <tr>\n",
       "      <th>annotator_13</th>\n",
       "      <td>364.0</td>\n",
       "      <td>0.0</td>\n",
       "      <td>348.0</td>\n",
       "    </tr>\n",
       "    <tr>\n",
       "      <th>annotator_14</th>\n",
       "      <td>108.0</td>\n",
       "      <td>0.0</td>\n",
       "      <td>67.0</td>\n",
       "    </tr>\n",
       "    <tr>\n",
       "      <th>annotator_15</th>\n",
       "      <td>297.0</td>\n",
       "      <td>0.0</td>\n",
       "      <td>300.0</td>\n",
       "    </tr>\n",
       "    <tr>\n",
       "      <th>annotator_16</th>\n",
       "      <td>279.0</td>\n",
       "      <td>0.0</td>\n",
       "      <td>238.0</td>\n",
       "    </tr>\n",
       "    <tr>\n",
       "      <th>annotator_17</th>\n",
       "      <td>199.0</td>\n",
       "      <td>0.0</td>\n",
       "      <td>146.0</td>\n",
       "    </tr>\n",
       "    <tr>\n",
       "      <th>annotator_18</th>\n",
       "      <td>245.0</td>\n",
       "      <td>0.0</td>\n",
       "      <td>263.0</td>\n",
       "    </tr>\n",
       "    <tr>\n",
       "      <th>annotator_19</th>\n",
       "      <td>11.0</td>\n",
       "      <td>0.0</td>\n",
       "      <td>8.0</td>\n",
       "    </tr>\n",
       "    <tr>\n",
       "      <th>annotator_20</th>\n",
       "      <td>296.0</td>\n",
       "      <td>1.0</td>\n",
       "      <td>310.0</td>\n",
       "    </tr>\n",
       "    <tr>\n",
       "      <th>annotator_21</th>\n",
       "      <td>142.0</td>\n",
       "      <td>0.0</td>\n",
       "      <td>146.0</td>\n",
       "    </tr>\n",
       "    <tr>\n",
       "      <th>annotator_22</th>\n",
       "      <td>83.0</td>\n",
       "      <td>0.0</td>\n",
       "      <td>96.0</td>\n",
       "    </tr>\n",
       "  </tbody>\n",
       "</table>\n",
       "</div>"
      ],
      "text/plain": [
       "                    task_output.answer                 \n",
       "task_output.answer                  no no_output    yes\n",
       "user.vendor_user_id                                    \n",
       "annotator_01                      65.0       0.0   79.0\n",
       "annotator_02                     370.0       0.0  401.0\n",
       "annotator_03                      25.0       0.0   26.0\n",
       "annotator_04                     300.0       1.0  346.0\n",
       "annotator_05                     174.0       0.0  164.0\n",
       "annotator_06                     229.0       0.0  283.0\n",
       "annotator_07                     110.0       0.0  110.0\n",
       "annotator_08                     323.0       0.0  358.0\n",
       "annotator_09                     225.0       0.0  269.0\n",
       "annotator_10                      13.0       0.0   18.0\n",
       "annotator_11                     332.0       0.0  285.0\n",
       "annotator_12                     277.0       0.0  357.0\n",
       "annotator_13                     364.0       0.0  348.0\n",
       "annotator_14                     108.0       0.0   67.0\n",
       "annotator_15                     297.0       0.0  300.0\n",
       "annotator_16                     279.0       0.0  238.0\n",
       "annotator_17                     199.0       0.0  146.0\n",
       "annotator_18                     245.0       0.0  263.0\n",
       "annotator_19                      11.0       0.0    8.0\n",
       "annotator_20                     296.0       1.0  310.0\n",
       "annotator_21                     142.0       0.0  146.0\n",
       "annotator_22                      83.0       0.0   96.0"
      ]
     },
     "execution_count": 55,
     "metadata": {},
     "output_type": "execute_result"
    }
   ],
   "source": [
    "df.groupby('user.vendor_user_id')['task_output.answer'].value_counts().to_frame().unstack().fillna(0)"
   ]
  },
  {
   "cell_type": "markdown",
   "id": "05e47070",
   "metadata": {},
   "source": [
    "### Observations\n",
    "- There are only two instances occured with can't solve output .\n",
    "- There are no instances that output corrupt_ data is true."
   ]
  },
  {
   "cell_type": "markdown",
   "id": "3e175313",
   "metadata": {},
   "source": [
    "#### 3. Is the reference set balanced? Please demonstrate via numbers and visualizations."
   ]
  },
  {
   "cell_type": "code",
   "execution_count": 56,
   "id": "d636a738",
   "metadata": {},
   "outputs": [
    {
     "data": {
      "text/html": [
       "<div>\n",
       "<style scoped>\n",
       "    .dataframe tbody tr th:only-of-type {\n",
       "        vertical-align: middle;\n",
       "    }\n",
       "\n",
       "    .dataframe tbody tr th {\n",
       "        vertical-align: top;\n",
       "    }\n",
       "\n",
       "    .dataframe thead th {\n",
       "        text-align: right;\n",
       "    }\n",
       "</style>\n",
       "<table border=\"1\" class=\"dataframe\">\n",
       "  <thead>\n",
       "    <tr style=\"text-align: right;\">\n",
       "      <th></th>\n",
       "      <th>is_bicycle</th>\n",
       "    </tr>\n",
       "  </thead>\n",
       "  <tbody>\n",
       "    <tr>\n",
       "      <th>True</th>\n",
       "      <td>4586</td>\n",
       "    </tr>\n",
       "    <tr>\n",
       "      <th>False</th>\n",
       "      <td>4501</td>\n",
       "    </tr>\n",
       "  </tbody>\n",
       "</table>\n",
       "</div>"
      ],
      "text/plain": [
       "       is_bicycle\n",
       "True         4586\n",
       "False        4501"
      ]
     },
     "execution_count": 56,
     "metadata": {},
     "output_type": "execute_result"
    }
   ],
   "source": [
    "df['is_bicycle'].value_counts().to_frame()"
   ]
  },
  {
   "cell_type": "markdown",
   "id": "9c442cfa",
   "metadata": {},
   "source": [
    "### Insights\n",
    "- From the above information is_bicycle class is  equaly distributed.\n",
    "- Lets see visually how data fall."
   ]
  },
  {
   "cell_type": "code",
   "execution_count": 57,
   "id": "a8bf133b",
   "metadata": {
    "scrolled": true
   },
   "outputs": [
    {
     "data": {
      "image/png": "[encoded data removed]",
      "text/plain": [
       "<Figure size 640x480 with 1 Axes>"
      ]
     },
     "metadata": {},
     "output_type": "display_data"
    }
   ],
   "source": [
    "def is_bicycle_visual(df,column):\n",
    "    col=column\n",
    "    df[col] = df[col].value_counts().plot(kind='bar')\n",
    "    #df[feature].value_counts().plot.bar(figsize = (8, 6))\n",
    "    plt.xlabel(\"BiclycleClass\")\n",
    "    plt.ylabel(\"Frequency\")\n",
    "    # Show graph\n",
    "    plt.show()\n",
    "task_output_visual(df.copy(),'is_bicycle')"
   ]
  },
  {
   "cell_type": "code",
   "execution_count": 58,
   "id": "f5e59c41",
   "metadata": {},
   "outputs": [
    {
     "data": {
      "text/plain": [
       "([<matplotlib.patches.Wedge at 0x1630bd806d0>,\n",
       "  <matplotlib.patches.Wedge at 0x1630bd805e0>],\n",
       " [Text(-0.016161962092938756, 1.0998812622193845, 'True'),\n",
       "  Text(0.016161962092938135, -1.0998812622193845, 'False')],\n",
       " [Text(-0.008815615687057502, 0.5999352339378461, '50.5%\\n4586'),\n",
       "  Text(0.008815615687057164, -0.5999352339378461, '49.5%\\n4501')])"
      ]
     },
     "execution_count": 58,
     "metadata": {},
     "output_type": "execute_result"
    },
    {
     "data": {
      "image/png": "[encoded data removed]",
      "text/plain": [
       "<Figure size 640x480 with 1 Axes>"
      ]
     },
     "metadata": {},
     "output_type": "display_data"
    }
   ],
   "source": [
    "total = df['is_bicycle'].value_counts().values.sum()\n",
    "def fmt(x):\n",
    "    return '{:.1f}%\\n{:.0f}'.format(x, total*x/100)\n",
    "\n",
    "plt.pie(df['is_bicycle'].value_counts().values, labels=df['is_bicycle'].value_counts().index, autopct=fmt)"
   ]
  },
  {
   "cell_type": "markdown",
   "id": "951e3a67",
   "metadata": {},
   "source": [
    "### 4. Using the reference set, can you identify good and bad annotators? Please use\n"
   ]
  },
  {
   "cell_type": "markdown",
   "id": "68d6a501",
   "metadata": {},
   "source": [
    "### Filter data columns for further analysis\n",
    "- Here the data frame I am taking excluding with can't solve True records."
   ]
  },
  {
   "cell_type": "code",
   "execution_count": 59,
   "id": "8f17236b",
   "metadata": {
    "scrolled": true
   },
   "outputs": [
    {
     "data": {
      "text/html": [
       "<div>\n",
       "<style scoped>\n",
       "    .dataframe tbody tr th:only-of-type {\n",
       "        vertical-align: middle;\n",
       "    }\n",
       "\n",
       "    .dataframe tbody tr th {\n",
       "        vertical-align: top;\n",
       "    }\n",
       "\n",
       "    .dataframe thead th {\n",
       "        text-align: right;\n",
       "    }\n",
       "</style>\n",
       "<table border=\"1\" class=\"dataframe\">\n",
       "  <thead>\n",
       "    <tr style=\"text-align: right;\">\n",
       "      <th></th>\n",
       "      <th>user.vendor_user_id</th>\n",
       "      <th>task_output.answer</th>\n",
       "      <th>task_output.duration_ms</th>\n",
       "      <th>is_bicycle</th>\n",
       "    </tr>\n",
       "  </thead>\n",
       "  <tbody>\n",
       "    <tr>\n",
       "      <th>0</th>\n",
       "      <td>annotator_12</td>\n",
       "      <td>no</td>\n",
       "      <td>997</td>\n",
       "      <td>False</td>\n",
       "    </tr>\n",
       "    <tr>\n",
       "      <th>1</th>\n",
       "      <td>annotator_11</td>\n",
       "      <td>yes</td>\n",
       "      <td>1044</td>\n",
       "      <td>True</td>\n",
       "    </tr>\n",
       "    <tr>\n",
       "      <th>2</th>\n",
       "      <td>annotator_05</td>\n",
       "      <td>no</td>\n",
       "      <td>848</td>\n",
       "      <td>False</td>\n",
       "    </tr>\n",
       "    <tr>\n",
       "      <th>3</th>\n",
       "      <td>annotator_06</td>\n",
       "      <td>no</td>\n",
       "      <td>1077</td>\n",
       "      <td>False</td>\n",
       "    </tr>\n",
       "    <tr>\n",
       "      <th>4</th>\n",
       "      <td>annotator_20</td>\n",
       "      <td>yes</td>\n",
       "      <td>1742</td>\n",
       "      <td>True</td>\n",
       "    </tr>\n",
       "  </tbody>\n",
       "</table>\n",
       "</div>"
      ],
      "text/plain": [
       "  user.vendor_user_id task_output.answer  task_output.duration_ms  is_bicycle\n",
       "0        annotator_12                 no                      997       False\n",
       "1        annotator_11                yes                     1044        True\n",
       "2        annotator_05                 no                      848       False\n",
       "3        annotator_06                 no                     1077       False\n",
       "4        annotator_20                yes                     1742        True"
      ]
     },
     "execution_count": 59,
     "metadata": {},
     "output_type": "execute_result"
    }
   ],
   "source": [
    "filter_df = df.filter(['user.vendor_user_id','task_output.answer','task_output.duration_ms','is_bicycle'], axis=1)\n",
    "filter_df=filter_df.loc[(filter_df['task_output.answer']=='yes') | (filter_df['task_output.answer'] == 'no')]\n",
    "filter_df.head()"
   ]
  },
  {
   "cell_type": "code",
   "execution_count": 60,
   "id": "d9fa7cca",
   "metadata": {},
   "outputs": [
    {
     "data": {
      "text/plain": [
       "(9085, 4)"
      ]
     },
     "execution_count": 60,
     "metadata": {},
     "output_type": "execute_result"
    }
   ],
   "source": [
    "filter_df.shape\n",
    "\n",
    "\n",
    "#filter_df"
   ]
  },
  {
   "cell_type": "markdown",
   "id": "5badaa47",
   "metadata": {},
   "source": [
    "### Mapping True and False Predciton\n",
    "- Here the function can map ``1 ``if ``'task_output.answer'= 'yes'& 'is_bicycle'=True``Or if ``'task_output.answer'= 'no'& 'is_bicycle'=False``\n",
    "- Other wise return ``0``"
   ]
  },
  {
   "cell_type": "code",
   "execution_count": 62,
   "id": "969a7c13",
   "metadata": {},
   "outputs": [],
   "source": [
    "#A function to filter corect values by comaring task_output.answer and is_bicycle' column\n",
    "def myFun(rec):\n",
    "    if (rec['task_output.answer']== 'yes') & (rec['is_bicycle']==True):\n",
    "        return 1\n",
    "    elif (rec['task_output.answer']== 'no') & (rec['is_bicycle']==False):\n",
    "        return 1\n",
    "    \n",
    "    return 0\n",
    "   \n",
    "filter_df['result']=filter_df.apply(myFun,axis=1)\n",
    "    "
   ]
  },
  {
   "cell_type": "code",
   "execution_count": 63,
   "id": "d51fc509",
   "metadata": {},
   "outputs": [
    {
     "data": {
      "text/html": [
       "<div>\n",
       "<style scoped>\n",
       "    .dataframe tbody tr th:only-of-type {\n",
       "        vertical-align: middle;\n",
       "    }\n",
       "\n",
       "    .dataframe tbody tr th {\n",
       "        vertical-align: top;\n",
       "    }\n",
       "\n",
       "    .dataframe thead th {\n",
       "        text-align: right;\n",
       "    }\n",
       "</style>\n",
       "<table border=\"1\" class=\"dataframe\">\n",
       "  <thead>\n",
       "    <tr style=\"text-align: right;\">\n",
       "      <th></th>\n",
       "      <th>user.vendor_user_id</th>\n",
       "      <th>task_output.answer</th>\n",
       "      <th>task_output.duration_ms</th>\n",
       "      <th>is_bicycle</th>\n",
       "      <th>result</th>\n",
       "    </tr>\n",
       "  </thead>\n",
       "  <tbody>\n",
       "    <tr>\n",
       "      <th>0</th>\n",
       "      <td>annotator_12</td>\n",
       "      <td>no</td>\n",
       "      <td>997</td>\n",
       "      <td>False</td>\n",
       "      <td>1</td>\n",
       "    </tr>\n",
       "    <tr>\n",
       "      <th>1</th>\n",
       "      <td>annotator_11</td>\n",
       "      <td>yes</td>\n",
       "      <td>1044</td>\n",
       "      <td>True</td>\n",
       "      <td>1</td>\n",
       "    </tr>\n",
       "    <tr>\n",
       "      <th>2</th>\n",
       "      <td>annotator_05</td>\n",
       "      <td>no</td>\n",
       "      <td>848</td>\n",
       "      <td>False</td>\n",
       "      <td>1</td>\n",
       "    </tr>\n",
       "    <tr>\n",
       "      <th>3</th>\n",
       "      <td>annotator_06</td>\n",
       "      <td>no</td>\n",
       "      <td>1077</td>\n",
       "      <td>False</td>\n",
       "      <td>1</td>\n",
       "    </tr>\n",
       "    <tr>\n",
       "      <th>4</th>\n",
       "      <td>annotator_20</td>\n",
       "      <td>yes</td>\n",
       "      <td>1742</td>\n",
       "      <td>True</td>\n",
       "      <td>1</td>\n",
       "    </tr>\n",
       "    <tr>\n",
       "      <th>...</th>\n",
       "      <td>...</td>\n",
       "      <td>...</td>\n",
       "      <td>...</td>\n",
       "      <td>...</td>\n",
       "      <td>...</td>\n",
       "    </tr>\n",
       "    <tr>\n",
       "      <th>9082</th>\n",
       "      <td>annotator_18</td>\n",
       "      <td>yes</td>\n",
       "      <td>918</td>\n",
       "      <td>True</td>\n",
       "      <td>1</td>\n",
       "    </tr>\n",
       "    <tr>\n",
       "      <th>9083</th>\n",
       "      <td>annotator_09</td>\n",
       "      <td>yes</td>\n",
       "      <td>1415</td>\n",
       "      <td>True</td>\n",
       "      <td>1</td>\n",
       "    </tr>\n",
       "    <tr>\n",
       "      <th>9084</th>\n",
       "      <td>annotator_02</td>\n",
       "      <td>yes</td>\n",
       "      <td>1047</td>\n",
       "      <td>True</td>\n",
       "      <td>1</td>\n",
       "    </tr>\n",
       "    <tr>\n",
       "      <th>9085</th>\n",
       "      <td>annotator_09</td>\n",
       "      <td>no</td>\n",
       "      <td>911</td>\n",
       "      <td>False</td>\n",
       "      <td>1</td>\n",
       "    </tr>\n",
       "    <tr>\n",
       "      <th>9086</th>\n",
       "      <td>annotator_17</td>\n",
       "      <td>yes</td>\n",
       "      <td>1467</td>\n",
       "      <td>True</td>\n",
       "      <td>1</td>\n",
       "    </tr>\n",
       "  </tbody>\n",
       "</table>\n",
       "<p>9085 rows × 5 columns</p>\n",
       "</div>"
      ],
      "text/plain": [
       "     user.vendor_user_id task_output.answer  task_output.duration_ms  \\\n",
       "0           annotator_12                 no                      997   \n",
       "1           annotator_11                yes                     1044   \n",
       "2           annotator_05                 no                      848   \n",
       "3           annotator_06                 no                     1077   \n",
       "4           annotator_20                yes                     1742   \n",
       "...                  ...                ...                      ...   \n",
       "9082        annotator_18                yes                      918   \n",
       "9083        annotator_09                yes                     1415   \n",
       "9084        annotator_02                yes                     1047   \n",
       "9085        annotator_09                 no                      911   \n",
       "9086        annotator_17                yes                     1467   \n",
       "\n",
       "      is_bicycle  result  \n",
       "0          False       1  \n",
       "1           True       1  \n",
       "2          False       1  \n",
       "3          False       1  \n",
       "4           True       1  \n",
       "...          ...     ...  \n",
       "9082        True       1  \n",
       "9083        True       1  \n",
       "9084        True       1  \n",
       "9085       False       1  \n",
       "9086        True       1  \n",
       "\n",
       "[9085 rows x 5 columns]"
      ]
     },
     "execution_count": 63,
     "metadata": {},
     "output_type": "execute_result"
    }
   ],
   "source": [
    "filter_df"
   ]
  },
  {
   "cell_type": "markdown",
   "id": "3ea94823",
   "metadata": {},
   "source": [
    "### Calculating Percentages of  ture&false classes from  total responses"
   ]
  },
  {
   "cell_type": "code",
   "execution_count": 64,
   "id": "f04c021c",
   "metadata": {
    "scrolled": true
   },
   "outputs": [
    {
     "data": {
      "text/html": [
       "<div>\n",
       "<style scoped>\n",
       "    .dataframe tbody tr th:only-of-type {\n",
       "        vertical-align: middle;\n",
       "    }\n",
       "\n",
       "    .dataframe tbody tr th {\n",
       "        vertical-align: top;\n",
       "    }\n",
       "\n",
       "    .dataframe thead th {\n",
       "        text-align: right;\n",
       "    }\n",
       "</style>\n",
       "<table border=\"1\" class=\"dataframe\">\n",
       "  <thead>\n",
       "    <tr style=\"text-align: right;\">\n",
       "      <th>result</th>\n",
       "      <th>user.vendor_user_id</th>\n",
       "      <th>annot_total</th>\n",
       "      <th>true</th>\n",
       "      <th>false</th>\n",
       "      <th>true%_from_annot_count</th>\n",
       "      <th>false%_from_annot_count</th>\n",
       "      <th>annot_total_%</th>\n",
       "      <th>true_%_from_all_annot</th>\n",
       "      <th>false_%_from_all_annot</th>\n",
       "    </tr>\n",
       "  </thead>\n",
       "  <tbody>\n",
       "    <tr>\n",
       "      <th>0</th>\n",
       "      <td>annotator_19</td>\n",
       "      <td>19</td>\n",
       "      <td>19</td>\n",
       "      <td>0</td>\n",
       "      <td>100.00</td>\n",
       "      <td>0.00</td>\n",
       "      <td>0.21</td>\n",
       "      <td>0.21</td>\n",
       "      <td>0.00</td>\n",
       "    </tr>\n",
       "    <tr>\n",
       "      <th>1</th>\n",
       "      <td>annotator_01</td>\n",
       "      <td>144</td>\n",
       "      <td>138</td>\n",
       "      <td>6</td>\n",
       "      <td>95.83</td>\n",
       "      <td>4.17</td>\n",
       "      <td>1.59</td>\n",
       "      <td>1.52</td>\n",
       "      <td>0.07</td>\n",
       "    </tr>\n",
       "    <tr>\n",
       "      <th>2</th>\n",
       "      <td>annotator_16</td>\n",
       "      <td>517</td>\n",
       "      <td>495</td>\n",
       "      <td>22</td>\n",
       "      <td>95.74</td>\n",
       "      <td>4.26</td>\n",
       "      <td>5.69</td>\n",
       "      <td>5.45</td>\n",
       "      <td>0.24</td>\n",
       "    </tr>\n",
       "    <tr>\n",
       "      <th>3</th>\n",
       "      <td>annotator_13</td>\n",
       "      <td>712</td>\n",
       "      <td>679</td>\n",
       "      <td>33</td>\n",
       "      <td>95.37</td>\n",
       "      <td>4.63</td>\n",
       "      <td>7.84</td>\n",
       "      <td>7.47</td>\n",
       "      <td>0.36</td>\n",
       "    </tr>\n",
       "    <tr>\n",
       "      <th>4</th>\n",
       "      <td>annotator_15</td>\n",
       "      <td>597</td>\n",
       "      <td>567</td>\n",
       "      <td>30</td>\n",
       "      <td>94.97</td>\n",
       "      <td>5.03</td>\n",
       "      <td>6.57</td>\n",
       "      <td>6.24</td>\n",
       "      <td>0.33</td>\n",
       "    </tr>\n",
       "    <tr>\n",
       "      <th>5</th>\n",
       "      <td>annotator_17</td>\n",
       "      <td>345</td>\n",
       "      <td>327</td>\n",
       "      <td>18</td>\n",
       "      <td>94.78</td>\n",
       "      <td>5.22</td>\n",
       "      <td>3.80</td>\n",
       "      <td>3.60</td>\n",
       "      <td>0.20</td>\n",
       "    </tr>\n",
       "    <tr>\n",
       "      <th>6</th>\n",
       "      <td>annotator_18</td>\n",
       "      <td>508</td>\n",
       "      <td>480</td>\n",
       "      <td>28</td>\n",
       "      <td>94.49</td>\n",
       "      <td>5.51</td>\n",
       "      <td>5.59</td>\n",
       "      <td>5.28</td>\n",
       "      <td>0.31</td>\n",
       "    </tr>\n",
       "    <tr>\n",
       "      <th>7</th>\n",
       "      <td>annotator_22</td>\n",
       "      <td>179</td>\n",
       "      <td>169</td>\n",
       "      <td>10</td>\n",
       "      <td>94.41</td>\n",
       "      <td>5.59</td>\n",
       "      <td>1.97</td>\n",
       "      <td>1.86</td>\n",
       "      <td>0.11</td>\n",
       "    </tr>\n",
       "    <tr>\n",
       "      <th>8</th>\n",
       "      <td>annotator_03</td>\n",
       "      <td>51</td>\n",
       "      <td>48</td>\n",
       "      <td>3</td>\n",
       "      <td>94.12</td>\n",
       "      <td>5.88</td>\n",
       "      <td>0.56</td>\n",
       "      <td>0.53</td>\n",
       "      <td>0.03</td>\n",
       "    </tr>\n",
       "    <tr>\n",
       "      <th>9</th>\n",
       "      <td>annotator_21</td>\n",
       "      <td>288</td>\n",
       "      <td>271</td>\n",
       "      <td>17</td>\n",
       "      <td>94.10</td>\n",
       "      <td>5.90</td>\n",
       "      <td>3.17</td>\n",
       "      <td>2.98</td>\n",
       "      <td>0.19</td>\n",
       "    </tr>\n",
       "    <tr>\n",
       "      <th>10</th>\n",
       "      <td>annotator_05</td>\n",
       "      <td>338</td>\n",
       "      <td>318</td>\n",
       "      <td>20</td>\n",
       "      <td>94.08</td>\n",
       "      <td>5.92</td>\n",
       "      <td>3.72</td>\n",
       "      <td>3.50</td>\n",
       "      <td>0.22</td>\n",
       "    </tr>\n",
       "    <tr>\n",
       "      <th>11</th>\n",
       "      <td>annotator_20</td>\n",
       "      <td>606</td>\n",
       "      <td>570</td>\n",
       "      <td>36</td>\n",
       "      <td>94.06</td>\n",
       "      <td>5.94</td>\n",
       "      <td>6.67</td>\n",
       "      <td>6.27</td>\n",
       "      <td>0.40</td>\n",
       "    </tr>\n",
       "    <tr>\n",
       "      <th>12</th>\n",
       "      <td>annotator_02</td>\n",
       "      <td>771</td>\n",
       "      <td>721</td>\n",
       "      <td>50</td>\n",
       "      <td>93.51</td>\n",
       "      <td>6.49</td>\n",
       "      <td>8.49</td>\n",
       "      <td>7.94</td>\n",
       "      <td>0.55</td>\n",
       "    </tr>\n",
       "    <tr>\n",
       "      <th>13</th>\n",
       "      <td>annotator_04</td>\n",
       "      <td>646</td>\n",
       "      <td>603</td>\n",
       "      <td>43</td>\n",
       "      <td>93.34</td>\n",
       "      <td>6.66</td>\n",
       "      <td>7.11</td>\n",
       "      <td>6.64</td>\n",
       "      <td>0.47</td>\n",
       "    </tr>\n",
       "    <tr>\n",
       "      <th>14</th>\n",
       "      <td>annotator_09</td>\n",
       "      <td>494</td>\n",
       "      <td>460</td>\n",
       "      <td>34</td>\n",
       "      <td>93.12</td>\n",
       "      <td>6.88</td>\n",
       "      <td>5.44</td>\n",
       "      <td>5.06</td>\n",
       "      <td>0.37</td>\n",
       "    </tr>\n",
       "    <tr>\n",
       "      <th>15</th>\n",
       "      <td>annotator_11</td>\n",
       "      <td>617</td>\n",
       "      <td>574</td>\n",
       "      <td>43</td>\n",
       "      <td>93.03</td>\n",
       "      <td>6.97</td>\n",
       "      <td>6.79</td>\n",
       "      <td>6.32</td>\n",
       "      <td>0.47</td>\n",
       "    </tr>\n",
       "    <tr>\n",
       "      <th>16</th>\n",
       "      <td>annotator_06</td>\n",
       "      <td>512</td>\n",
       "      <td>472</td>\n",
       "      <td>40</td>\n",
       "      <td>92.19</td>\n",
       "      <td>7.81</td>\n",
       "      <td>5.64</td>\n",
       "      <td>5.20</td>\n",
       "      <td>0.44</td>\n",
       "    </tr>\n",
       "    <tr>\n",
       "      <th>17</th>\n",
       "      <td>annotator_14</td>\n",
       "      <td>175</td>\n",
       "      <td>161</td>\n",
       "      <td>14</td>\n",
       "      <td>92.00</td>\n",
       "      <td>8.00</td>\n",
       "      <td>1.93</td>\n",
       "      <td>1.77</td>\n",
       "      <td>0.15</td>\n",
       "    </tr>\n",
       "    <tr>\n",
       "      <th>18</th>\n",
       "      <td>annotator_07</td>\n",
       "      <td>220</td>\n",
       "      <td>201</td>\n",
       "      <td>19</td>\n",
       "      <td>91.36</td>\n",
       "      <td>8.64</td>\n",
       "      <td>2.42</td>\n",
       "      <td>2.21</td>\n",
       "      <td>0.21</td>\n",
       "    </tr>\n",
       "    <tr>\n",
       "      <th>19</th>\n",
       "      <td>annotator_12</td>\n",
       "      <td>634</td>\n",
       "      <td>576</td>\n",
       "      <td>58</td>\n",
       "      <td>90.85</td>\n",
       "      <td>9.15</td>\n",
       "      <td>6.98</td>\n",
       "      <td>6.34</td>\n",
       "      <td>0.64</td>\n",
       "    </tr>\n",
       "    <tr>\n",
       "      <th>20</th>\n",
       "      <td>annotator_08</td>\n",
       "      <td>681</td>\n",
       "      <td>614</td>\n",
       "      <td>67</td>\n",
       "      <td>90.16</td>\n",
       "      <td>9.84</td>\n",
       "      <td>7.50</td>\n",
       "      <td>6.76</td>\n",
       "      <td>0.74</td>\n",
       "    </tr>\n",
       "    <tr>\n",
       "      <th>21</th>\n",
       "      <td>annotator_10</td>\n",
       "      <td>31</td>\n",
       "      <td>26</td>\n",
       "      <td>5</td>\n",
       "      <td>83.87</td>\n",
       "      <td>16.13</td>\n",
       "      <td>0.34</td>\n",
       "      <td>0.29</td>\n",
       "      <td>0.06</td>\n",
       "    </tr>\n",
       "  </tbody>\n",
       "</table>\n",
       "</div>"
      ],
      "text/plain": [
       "result user.vendor_user_id  annot_total  true  false  true%_from_annot_count  \\\n",
       "0             annotator_19           19    19      0                  100.00   \n",
       "1             annotator_01          144   138      6                   95.83   \n",
       "2             annotator_16          517   495     22                   95.74   \n",
       "3             annotator_13          712   679     33                   95.37   \n",
       "4             annotator_15          597   567     30                   94.97   \n",
       "5             annotator_17          345   327     18                   94.78   \n",
       "6             annotator_18          508   480     28                   94.49   \n",
       "7             annotator_22          179   169     10                   94.41   \n",
       "8             annotator_03           51    48      3                   94.12   \n",
       "9             annotator_21          288   271     17                   94.10   \n",
       "10            annotator_05          338   318     20                   94.08   \n",
       "11            annotator_20          606   570     36                   94.06   \n",
       "12            annotator_02          771   721     50                   93.51   \n",
       "13            annotator_04          646   603     43                   93.34   \n",
       "14            annotator_09          494   460     34                   93.12   \n",
       "15            annotator_11          617   574     43                   93.03   \n",
       "16            annotator_06          512   472     40                   92.19   \n",
       "17            annotator_14          175   161     14                   92.00   \n",
       "18            annotator_07          220   201     19                   91.36   \n",
       "19            annotator_12          634   576     58                   90.85   \n",
       "20            annotator_08          681   614     67                   90.16   \n",
       "21            annotator_10           31    26      5                   83.87   \n",
       "\n",
       "result  false%_from_annot_count  annot_total_%  true_%_from_all_annot  \\\n",
       "0                          0.00           0.21                   0.21   \n",
       "1                          4.17           1.59                   1.52   \n",
       "2                          4.26           5.69                   5.45   \n",
       "3                          4.63           7.84                   7.47   \n",
       "4                          5.03           6.57                   6.24   \n",
       "5                          5.22           3.80                   3.60   \n",
       "6                          5.51           5.59                   5.28   \n",
       "7                          5.59           1.97                   1.86   \n",
       "8                          5.88           0.56                   0.53   \n",
       "9                          5.90           3.17                   2.98   \n",
       "10                         5.92           3.72                   3.50   \n",
       "11                         5.94           6.67                   6.27   \n",
       "12                         6.49           8.49                   7.94   \n",
       "13                         6.66           7.11                   6.64   \n",
       "14                         6.88           5.44                   5.06   \n",
       "15                         6.97           6.79                   6.32   \n",
       "16                         7.81           5.64                   5.20   \n",
       "17                         8.00           1.93                   1.77   \n",
       "18                         8.64           2.42                   2.21   \n",
       "19                         9.15           6.98                   6.34   \n",
       "20                         9.84           7.50                   6.76   \n",
       "21                        16.13           0.34                   0.29   \n",
       "\n",
       "result  false_%_from_all_annot  \n",
       "0                         0.00  \n",
       "1                         0.07  \n",
       "2                         0.24  \n",
       "3                         0.36  \n",
       "4                         0.33  \n",
       "5                         0.20  \n",
       "6                         0.31  \n",
       "7                         0.11  \n",
       "8                         0.03  \n",
       "9                         0.19  \n",
       "10                        0.22  \n",
       "11                        0.40  \n",
       "12                        0.55  \n",
       "13                        0.47  \n",
       "14                        0.37  \n",
       "15                        0.47  \n",
       "16                        0.44  \n",
       "17                        0.15  \n",
       "18                        0.21  \n",
       "19                        0.64  \n",
       "20                        0.74  \n",
       "21                        0.06  "
      ]
     },
     "execution_count": 64,
     "metadata": {},
     "output_type": "execute_result"
    }
   ],
   "source": [
    "annot_job__percent=filter_df.groupby(['user.vendor_user_id'])['result'].value_counts().unstack(fill_value=0).reset_index()\n",
    "#df_fill.rename()\n",
    "annot_job__percent.rename(columns={0:'false',1:'true'},inplace=True)\n",
    "annot_job__percent['annot_total']=annot_job__percent['false'] + annot_job__percent['true']\n",
    "annot_job__percent['true_%_from_all_annot'] = (annot_job__percent['true'] / annot_job__percent['annot_total'].sum() * 100).round(2)\n",
    "annot_job__percent['false_%_from_all_annot'] = (annot_job__percent['false'] / annot_job__percent['annot_total'].sum() * 100).round(2)\n",
    "annot_job__percent['true%_from_annot_count']= (annot_job__percent['true'] / annot_job__percent['annot_total'] * 100).round(2)\n",
    "annot_job__percent['false%_from_annot_count']= (annot_job__percent['false'] / annot_job__percent['annot_total'] * 100).round(2)\n",
    "annot_job__percent['annot_total_%']= (annot_job__percent['annot_total'] / annot_job__percent['annot_total'].sum() * 100).round(2)\n",
    "#annot_job__percent=annot_job__percent.sort_values(by='true_%_from_a_total',ascending=False)\n",
    "annot_job__percent=annot_job__percent.reset_index(drop=True)\n",
    "columnsTitles = ['user.vendor_user_id', 'annot_total', 'true','false','true%_from_annot_count','false%_from_annot_count',\n",
    "                 'annot_total_%','true_%_from_all_annot','false_%_from_all_annot']\n",
    "annot_job__percent = annot_job__percent.reindex(columns=columnsTitles).sort_values(by='true%_from_annot_count',ascending=False)\n",
    "annot_job__percent.reset_index(drop=True)\n"
   ]
  },
  {
   "cell_type": "code",
   "execution_count": 65,
   "id": "814c3ba7",
   "metadata": {},
   "outputs": [
    {
     "data": {
      "image/png": "[encoded data removed]",
      "text/plain": [
       "<Figure size 640x480 with 1 Axes>"
      ]
     },
     "metadata": {},
     "output_type": "display_data"
    }
   ],
   "source": [
    "true_sum=annot_job__percent[\"true\"].sum()\n",
    "false_sum=annot_job__percent[\"false\"].sum()\n",
    "data=[true_sum,false_sum]\n",
    "labels=[True,False]\n",
    "#define Seaborn color palette to use\n",
    "#colors = sns.color_palette('pastel')[0:5]\n",
    "\n",
    "#create pie chart\n",
    "plt.pie(data, labels = labels,  autopct=fmt)\n",
    "plt.show()"
   ]
  },
  {
   "cell_type": "markdown",
   "id": "0b2ff28e",
   "metadata": {},
   "source": [
    "### Observations\n",
    "- There annotaor response is 93.4% positive compared with actual results."
   ]
  },
  {
   "cell_type": "code",
   "execution_count": 66,
   "id": "99433e6b",
   "metadata": {},
   "outputs": [
    {
     "data": {
      "text/plain": [
       "1    8489\n",
       "0     596\n",
       "Name: result, dtype: int64"
      ]
     },
     "execution_count": 66,
     "metadata": {},
     "output_type": "execute_result"
    }
   ],
   "source": [
    "filter_df1=filter_df.groupby('user.vendor_user_id')['result'].value_counts().to_frame().rename(columns={'result':'count'})\n",
    "filter_df1=filter_df1.reset_index()\n",
    "filter_df.result.value_counts()"
   ]
  },
  {
   "cell_type": "code",
   "execution_count": 67,
   "id": "a1a218d5",
   "metadata": {},
   "outputs": [
    {
     "data": {
      "image/png": "[encoded data removed]",
      "text/plain": [
       "<Figure size 600x600 with 1 Axes>"
      ]
     },
     "metadata": {},
     "output_type": "display_data"
    }
   ],
   "source": [
    "fig, ax1 = plt.subplots(figsize=(6, 6))\n",
    "g=sns.barplot(data=filter_df1, x='count', y='user.vendor_user_id', hue='result',ax=ax1)\n",
    "plt.tight_layout()\n",
    "plt.xticks(rotation=45, ha=\"right\")\n",
    "plt.show()\n",
    "\n"
   ]
  },
  {
   "cell_type": "markdown",
   "id": "e5e1dbb4",
   "metadata": {},
   "source": [
    "### ObserVations\n",
    "- Annotator result is compared with the Actual result  and  when it matched it denoted as ``True =1`` and when not it is ``False =0`` .  \n",
    "- According the %data ``Annotator _19`` is the Good annotator as all the results predicted are ``True`` .`` Annotator _10`` is Bad annotator due to high False prediction . \n",
    "\n",
    "- But according to the response contribution to the data set ( 8.5%) and % of True prediction , ``Annotator _02``  is the Best  with ``721 /771(93.5%)`` True predictions . \n",
    " - ``Annotator _10`` is the Bad annotator with second least response to the data set and also % of True predictions .\n"
   ]
  },
  {
   "cell_type": "markdown",
   "id": "fe9df46d",
   "metadata": {},
   "source": [
    "### Next Steps\n",
    "- Further detailed analsis with remaining features(eg:time columns)\n",
    "- Data Engineering\n",
    "- Model build and evaluate\n",
    "- Predict"
   ]
  },
  {
   "cell_type": "code",
   "execution_count": null,
   "id": "bd6e5dba",
   "metadata": {},
   "outputs": [],
   "source": []
  },
  {
   "cell_type": "code",
   "execution_count": null,
   "id": "c26ae42d",
   "metadata": {},
   "outputs": [],
   "source": []
  },
  {
   "cell_type": "code",
   "execution_count": null,
   "id": "c7246a8b",
   "metadata": {},
   "outputs": [],
   "source": []
  },
  {
   "cell_type": "markdown",
   "id": "9089ce9b",
   "metadata": {},
   "source": [
    "\n",
    "\n",
    "### Data Preprossing\n",
    "- Here I am excluding task_output.corrupt_data for now.\n",
    "1. task_output.corrupt_data have only one class(False)  assuming there is no corrupted data \n"
   ]
  },
  {
   "cell_type": "code",
   "execution_count": 75,
   "id": "1b957658",
   "metadata": {},
   "outputs": [
    {
     "data": {
      "text/html": [
       "<div>\n",
       "<style scoped>\n",
       "    .dataframe tbody tr th:only-of-type {\n",
       "        vertical-align: middle;\n",
       "    }\n",
       "\n",
       "    .dataframe tbody tr th {\n",
       "        vertical-align: top;\n",
       "    }\n",
       "\n",
       "    .dataframe thead th {\n",
       "        text-align: right;\n",
       "    }\n",
       "</style>\n",
       "<table border=\"1\" class=\"dataframe\">\n",
       "  <thead>\n",
       "    <tr style=\"text-align: right;\">\n",
       "      <th></th>\n",
       "      <th>user.vendor_user_id</th>\n",
       "      <th>workpackage_total_size</th>\n",
       "      <th>task_output.answer</th>\n",
       "      <th>task_output.duration_ms</th>\n",
       "      <th>is_bicycle</th>\n",
       "    </tr>\n",
       "  </thead>\n",
       "  <tbody>\n",
       "    <tr>\n",
       "      <th>0</th>\n",
       "      <td>annotator_12</td>\n",
       "      <td>5</td>\n",
       "      <td>no</td>\n",
       "      <td>997</td>\n",
       "      <td>False</td>\n",
       "    </tr>\n",
       "    <tr>\n",
       "      <th>1</th>\n",
       "      <td>annotator_11</td>\n",
       "      <td>5</td>\n",
       "      <td>yes</td>\n",
       "      <td>1044</td>\n",
       "      <td>True</td>\n",
       "    </tr>\n",
       "    <tr>\n",
       "      <th>2</th>\n",
       "      <td>annotator_05</td>\n",
       "      <td>5</td>\n",
       "      <td>no</td>\n",
       "      <td>848</td>\n",
       "      <td>False</td>\n",
       "    </tr>\n",
       "    <tr>\n",
       "      <th>3</th>\n",
       "      <td>annotator_06</td>\n",
       "      <td>5</td>\n",
       "      <td>no</td>\n",
       "      <td>1077</td>\n",
       "      <td>False</td>\n",
       "    </tr>\n",
       "    <tr>\n",
       "      <th>4</th>\n",
       "      <td>annotator_20</td>\n",
       "      <td>5</td>\n",
       "      <td>yes</td>\n",
       "      <td>1742</td>\n",
       "      <td>True</td>\n",
       "    </tr>\n",
       "    <tr>\n",
       "      <th>...</th>\n",
       "      <td>...</td>\n",
       "      <td>...</td>\n",
       "      <td>...</td>\n",
       "      <td>...</td>\n",
       "      <td>...</td>\n",
       "    </tr>\n",
       "    <tr>\n",
       "      <th>9082</th>\n",
       "      <td>annotator_18</td>\n",
       "      <td>5</td>\n",
       "      <td>yes</td>\n",
       "      <td>918</td>\n",
       "      <td>True</td>\n",
       "    </tr>\n",
       "    <tr>\n",
       "      <th>9083</th>\n",
       "      <td>annotator_09</td>\n",
       "      <td>5</td>\n",
       "      <td>yes</td>\n",
       "      <td>1415</td>\n",
       "      <td>True</td>\n",
       "    </tr>\n",
       "    <tr>\n",
       "      <th>9084</th>\n",
       "      <td>annotator_02</td>\n",
       "      <td>5</td>\n",
       "      <td>yes</td>\n",
       "      <td>1047</td>\n",
       "      <td>True</td>\n",
       "    </tr>\n",
       "    <tr>\n",
       "      <th>9085</th>\n",
       "      <td>annotator_09</td>\n",
       "      <td>5</td>\n",
       "      <td>no</td>\n",
       "      <td>911</td>\n",
       "      <td>False</td>\n",
       "    </tr>\n",
       "    <tr>\n",
       "      <th>9086</th>\n",
       "      <td>annotator_17</td>\n",
       "      <td>5</td>\n",
       "      <td>yes</td>\n",
       "      <td>1467</td>\n",
       "      <td>True</td>\n",
       "    </tr>\n",
       "  </tbody>\n",
       "</table>\n",
       "<p>9085 rows × 5 columns</p>\n",
       "</div>"
      ],
      "text/plain": [
       "     user.vendor_user_id  workpackage_total_size task_output.answer  \\\n",
       "0           annotator_12                       5                 no   \n",
       "1           annotator_11                       5                yes   \n",
       "2           annotator_05                       5                 no   \n",
       "3           annotator_06                       5                 no   \n",
       "4           annotator_20                       5                yes   \n",
       "...                  ...                     ...                ...   \n",
       "9082        annotator_18                       5                yes   \n",
       "9083        annotator_09                       5                yes   \n",
       "9084        annotator_02                       5                yes   \n",
       "9085        annotator_09                       5                 no   \n",
       "9086        annotator_17                       5                yes   \n",
       "\n",
       "      task_output.duration_ms  is_bicycle  \n",
       "0                         997       False  \n",
       "1                        1044        True  \n",
       "2                         848       False  \n",
       "3                        1077       False  \n",
       "4                        1742        True  \n",
       "...                       ...         ...  \n",
       "9082                      918        True  \n",
       "9083                     1415        True  \n",
       "9084                     1047        True  \n",
       "9085                      911       False  \n",
       "9086                     1467        True  \n",
       "\n",
       "[9085 rows x 5 columns]"
      ]
     },
     "execution_count": 75,
     "metadata": {},
     "output_type": "execute_result"
    }
   ],
   "source": [
    "preprocess_df = df.filter(['user.vendor_user_id','workpackage_total_size','task_output.answer','task_output.duration_ms','is_bicycle'], axis=1)\n",
    "preprocess_df=preprocess_df.loc[(preprocess_df['task_output.answer']=='yes') | (preprocess_df['task_output.answer'] == 'no')]\n",
    "\n",
    "preprocess_df"
   ]
  },
  {
   "cell_type": "markdown",
   "id": "4ed9f8db",
   "metadata": {},
   "source": [
    "### Label encoding for chategorcial columns"
   ]
  },
  {
   "cell_type": "code",
   "execution_count": 76,
   "id": "1bf5cac2",
   "metadata": {},
   "outputs": [
    {
     "data": {
      "text/plain": [
       "yes    4618\n",
       "no     4467\n",
       "Name: task_output.answer, dtype: int64"
      ]
     },
     "execution_count": 76,
     "metadata": {},
     "output_type": "execute_result"
    }
   ],
   "source": [
    "preprocess_df['task_output.answer'].value_counts()"
   ]
  },
  {
   "cell_type": "code",
   "execution_count": 77,
   "id": "46e53be7",
   "metadata": {
    "scrolled": true
   },
   "outputs": [
    {
     "data": {
      "text/html": [
       "<div>\n",
       "<style scoped>\n",
       "    .dataframe tbody tr th:only-of-type {\n",
       "        vertical-align: middle;\n",
       "    }\n",
       "\n",
       "    .dataframe tbody tr th {\n",
       "        vertical-align: top;\n",
       "    }\n",
       "\n",
       "    .dataframe thead th {\n",
       "        text-align: right;\n",
       "    }\n",
       "</style>\n",
       "<table border=\"1\" class=\"dataframe\">\n",
       "  <thead>\n",
       "    <tr style=\"text-align: right;\">\n",
       "      <th></th>\n",
       "      <th>user.vendor_user_id</th>\n",
       "      <th>workpackage_total_size</th>\n",
       "      <th>task_output.answer</th>\n",
       "      <th>task_output.duration_ms</th>\n",
       "      <th>is_bicycle</th>\n",
       "    </tr>\n",
       "  </thead>\n",
       "  <tbody>\n",
       "    <tr>\n",
       "      <th>0</th>\n",
       "      <td>11</td>\n",
       "      <td>0.0</td>\n",
       "      <td>0</td>\n",
       "      <td>0.037550</td>\n",
       "      <td>0</td>\n",
       "    </tr>\n",
       "    <tr>\n",
       "      <th>1</th>\n",
       "      <td>10</td>\n",
       "      <td>0.0</td>\n",
       "      <td>1</td>\n",
       "      <td>0.039454</td>\n",
       "      <td>1</td>\n",
       "    </tr>\n",
       "    <tr>\n",
       "      <th>2</th>\n",
       "      <td>4</td>\n",
       "      <td>0.0</td>\n",
       "      <td>0</td>\n",
       "      <td>0.031515</td>\n",
       "      <td>0</td>\n",
       "    </tr>\n",
       "    <tr>\n",
       "      <th>3</th>\n",
       "      <td>5</td>\n",
       "      <td>0.0</td>\n",
       "      <td>0</td>\n",
       "      <td>0.040791</td>\n",
       "      <td>0</td>\n",
       "    </tr>\n",
       "    <tr>\n",
       "      <th>4</th>\n",
       "      <td>19</td>\n",
       "      <td>0.0</td>\n",
       "      <td>1</td>\n",
       "      <td>0.067728</td>\n",
       "      <td>1</td>\n",
       "    </tr>\n",
       "    <tr>\n",
       "      <th>...</th>\n",
       "      <td>...</td>\n",
       "      <td>...</td>\n",
       "      <td>...</td>\n",
       "      <td>...</td>\n",
       "      <td>...</td>\n",
       "    </tr>\n",
       "    <tr>\n",
       "      <th>9082</th>\n",
       "      <td>17</td>\n",
       "      <td>0.0</td>\n",
       "      <td>1</td>\n",
       "      <td>0.034350</td>\n",
       "      <td>1</td>\n",
       "    </tr>\n",
       "    <tr>\n",
       "      <th>9083</th>\n",
       "      <td>8</td>\n",
       "      <td>0.0</td>\n",
       "      <td>1</td>\n",
       "      <td>0.054482</td>\n",
       "      <td>1</td>\n",
       "    </tr>\n",
       "    <tr>\n",
       "      <th>9084</th>\n",
       "      <td>1</td>\n",
       "      <td>0.0</td>\n",
       "      <td>1</td>\n",
       "      <td>0.039575</td>\n",
       "      <td>1</td>\n",
       "    </tr>\n",
       "    <tr>\n",
       "      <th>9085</th>\n",
       "      <td>8</td>\n",
       "      <td>0.0</td>\n",
       "      <td>0</td>\n",
       "      <td>0.034067</td>\n",
       "      <td>0</td>\n",
       "    </tr>\n",
       "    <tr>\n",
       "      <th>9086</th>\n",
       "      <td>16</td>\n",
       "      <td>0.0</td>\n",
       "      <td>1</td>\n",
       "      <td>0.056588</td>\n",
       "      <td>1</td>\n",
       "    </tr>\n",
       "  </tbody>\n",
       "</table>\n",
       "<p>9085 rows × 5 columns</p>\n",
       "</div>"
      ],
      "text/plain": [
       "      user.vendor_user_id  workpackage_total_size  task_output.answer  \\\n",
       "0                      11                     0.0                   0   \n",
       "1                      10                     0.0                   1   \n",
       "2                       4                     0.0                   0   \n",
       "3                       5                     0.0                   0   \n",
       "4                      19                     0.0                   1   \n",
       "...                   ...                     ...                 ...   \n",
       "9082                   17                     0.0                   1   \n",
       "9083                    8                     0.0                   1   \n",
       "9084                    1                     0.0                   1   \n",
       "9085                    8                     0.0                   0   \n",
       "9086                   16                     0.0                   1   \n",
       "\n",
       "      task_output.duration_ms  is_bicycle  \n",
       "0                    0.037550           0  \n",
       "1                    0.039454           1  \n",
       "2                    0.031515           0  \n",
       "3                    0.040791           0  \n",
       "4                    0.067728           1  \n",
       "...                       ...         ...  \n",
       "9082                 0.034350           1  \n",
       "9083                 0.054482           1  \n",
       "9084                 0.039575           1  \n",
       "9085                 0.034067           0  \n",
       "9086                 0.056588           1  \n",
       "\n",
       "[9085 rows x 5 columns]"
      ]
     },
     "execution_count": 77,
     "metadata": {},
     "output_type": "execute_result"
    }
   ],
   "source": [
    "##preprocess_df['workpackage_total_size'] = preprocess_df.replace({\"'workpackage_total_size'\":{5: 0,3: 1,1:2}},inplace=True)\n",
    "preprocess_df\n",
    "dict1={5: 0,3: 1,1:2}\n",
    "preprocess_df['workpackage_total_size'] = preprocess_df['workpackage_total_size'].map({5: 0,3: 1,1:2})\n",
    "#preprocess_df['task_output.cant_solve'] = preprocess_df['task_output.cant_solve'].map({False:0,True:1})\n",
    "preprocess_df['task_output.answer'] = preprocess_df['task_output.answer'].map({'yes':1,'no':0})\n",
    "preprocess_df['is_bicycle'] = preprocess_df['is_bicycle'].map({False:0,True:1})\n",
    "#Label encodeing for annotators column by using sklean label encoding\n",
    "le = preprocessing.LabelEncoder()\n",
    "preprocess_df['user.vendor_user_id'] = le.fit_transform(preprocess_df['user.vendor_user_id'])\n",
    "\n",
    "#Scalling the task_output_duration column by using min max scaler\n",
    "scaler = MinMaxScaler()\n",
    "#preprocess_df['task_output.duration_ms'] = scaler.fit_transform(preprocess_df['task_output.duration_ms'].values.reshape(-1,1))\n",
    "#\n",
    "preprocess_d['task_output.duration_ms'] = scaler.fit_transform([preprocess_df['task_output.duration_ms']])\n",
    "\n",
    "preprocess_df"
   ]
  },
  {
   "cell_type": "markdown",
   "id": "f63b8ac4",
   "metadata": {},
   "source": [
    "### Spliting Dataframe into train and test data"
   ]
  },
  {
   "cell_type": "code",
   "execution_count": 78,
   "id": "ef19bcd0",
   "metadata": {},
   "outputs": [],
   "source": [
    "X = preprocess_df.drop('is_bicycle',axis=1)\n",
    "y = preprocess_df['is_bicycle'] \n"
   ]
  },
  {
   "cell_type": "code",
   "execution_count": 79,
   "id": "ce9bf6b2",
   "metadata": {},
   "outputs": [],
   "source": [
    "##Using sklearn train_test_split librabry\n",
    "x, x_test, y, y_test = train_test_split(X,y,test_size=0.2,train_size=0.8)\n",
    "x_train, x_cv, y_train, y_cv = train_test_split(x,y,test_size = 0.25,train_size =0.75)"
   ]
  },
  {
   "cell_type": "code",
   "execution_count": null,
   "id": "3ee35738",
   "metadata": {},
   "outputs": [],
   "source": []
  },
  {
   "cell_type": "code",
   "execution_count": null,
   "id": "ab5e8fd8",
   "metadata": {},
   "outputs": [],
   "source": []
  }
 ],
 "metadata": {
  "kernelspec": {
   "display_name": "Python 3 (ipykernel)",
   "language": "python",
   "name": "python3"
  },
  "language_info": {
   "codemirror_mode": {
    "name": "ipython",
    "version": 3
   },
   "file_extension": ".py",
   "mimetype": "text/x-python",
   "name": "python",
   "nbconvert_exporter": "python",
   "pygments_lexer": "ipython3",
   "version": "3.10.9"
  }
 },
 "nbformat": 4,
 "nbformat_minor": 5
}
